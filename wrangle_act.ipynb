{
 "cells": [
  {
   "cell_type": "markdown",
   "metadata": {},
   "source": [
    "# Project: Wrangle and Analyze data\n",
    "\n",
    "## Table of Contents\n",
    "<ul>\n",
    "<li><a href=\"#gather\">Gather</a></li>\n",
    "<li><a href=\"#access\">Access</a></li>\n",
    "<li><a href=\"#clean\">Clean</a></li>\n",
    "<li><a href=\"#analyze\">Analyze</a></li>\n",
    "</ul>"
   ]
  },
  {
   "cell_type": "code",
   "execution_count": 3,
   "metadata": {},
   "outputs": [],
   "source": [
    "import pandas as pd\n",
    "import numpy as np\n",
    "import requests\n",
    "import tweepy\n",
    "import json\n",
    "import matplotlib.pyplot as plt\n",
    "import seaborn as sb\n",
    "\n",
    "%matplotlib inline"
   ]
  },
  {
   "cell_type": "markdown",
   "metadata": {},
   "source": [
    "<a id='gather'></a>\n",
    "## Gather"
   ]
  },
  {
   "cell_type": "code",
   "execution_count": 4,
   "metadata": {},
   "outputs": [],
   "source": [
    "# Read CSV (comma-separated) file into DataFrame\n",
    "wrd = pd.read_csv('twitter-archive-enhanced.csv')"
   ]
  },
  {
   "cell_type": "code",
   "execution_count": 5,
   "metadata": {},
   "outputs": [],
   "source": [
    "# Download files using request\n",
    "url = 'https://d17h27t6h515a5.cloudfront.net/topher/2017/August/599fd2ad_image-predictions/image-predictions.tsv'\n",
    "response = requests.get(url)\n",
    "with open('image_predictions.tsv', 'wb') as file:\n",
    "    file.write(response.content)"
   ]
  },
  {
   "cell_type": "code",
   "execution_count": 6,
   "metadata": {},
   "outputs": [],
   "source": [
    "# Import the TSV file into a DataFrame\n",
    "img= pd.read_csv('image-predictions.tsv', sep='\\t')"
   ]
  },
  {
   "cell_type": "code",
   "execution_count": 6,
   "metadata": {},
   "outputs": [],
   "source": [
    "import tweepy\n",
    "\n",
    "consumer_key = 'Your Consumer Key here'\n",
    "consumer_secret = 'Your Consumer Secret here'\n",
    "access_token = 'Your Access Token here'\n",
    "access_secret = 'Your Consumer Key here'\n",
    "\n",
    "auth = tweepy.OAuthHandler(consumer_key, consumer_secret)\n",
    "auth.set_access_token(access_token, access_secret)\n",
    "\n",
    "api = tweepy.API(auth,wait_on_rate_limit = True, wait_on_rate_limit_notify = True)"
   ]
  },
  {
   "cell_type": "code",
   "execution_count": 7,
   "metadata": {},
   "outputs": [
    {
     "data": {
      "text/plain": [
       "2356"
      ]
     },
     "execution_count": 7,
     "metadata": {},
     "output_type": "execute_result"
    }
   ],
   "source": [
    "tweet_ids = wrd.tweet_id.values\n",
    "len(tweet_ids)"
   ]
  },
  {
   "cell_type": "code",
   "execution_count": 69,
   "metadata": {},
   "outputs": [
    {
     "name": "stdout",
     "output_type": "stream",
     "text": [
      "888202515573088257Fail\n",
      "873697596434513921Fail\n",
      "872668790621863937Fail\n",
      "872261713294495745Fail\n",
      "869988702071779329Fail\n",
      "866816280283807744Fail\n",
      "861769973181624320Fail\n",
      "856602993587888130Fail\n",
      "851953902622658560Fail\n",
      "845459076796616705Fail\n",
      "844704788403113984Fail\n",
      "842892208864923648Fail\n",
      "837366284874571778Fail\n",
      "837012587749474308Fail\n",
      "829374341691346946Fail\n",
      "827228250799742977Fail\n",
      "812747805718642688Fail\n",
      "802247111496568832Fail\n",
      "779123168116150273Fail\n",
      "775096608509886464Fail\n",
      "771004394259247104Fail\n",
      "770743923962707968Fail\n",
      "759566828574212096Fail\n"
     ]
    },
    {
     "name": "stderr",
     "output_type": "stream",
     "text": [
      "Rate limit reached. Sleeping for: 588\n"
     ]
    },
    {
     "name": "stdout",
     "output_type": "stream",
     "text": [
      "754011816964026368Fail\n",
      "680055455951884288Fail\n"
     ]
    },
    {
     "name": "stderr",
     "output_type": "stream",
     "text": [
      "Rate limit reached. Sleeping for: 597\n"
     ]
    },
    {
     "name": "stdout",
     "output_type": "stream",
     "text": [
      "676975532580409345Fail\n"
     ]
    }
   ],
   "source": [
    "# Save each tweet's returned JSON as a new line in a .txt file\n",
    "with open('tweet_json.txt', 'w') as outfile:\n",
    "    # This loop will likely take 20-30 minutes to run because of Twitter's rate limit\n",
    "    for tweet_id in tweet_ids:\n",
    "        try:\n",
    "            tweet = api.get_status(tweet_id, tweet_mode='extended')\n",
    "            json.dump(tweet._json, outfile)\n",
    "            outfile.write('\\n')\n",
    "        except tweepy.TweepError:\n",
    "            print(str(tweet_id) +\"Fail\")\n"
   ]
  },
  {
   "cell_type": "code",
   "execution_count": 106,
   "metadata": {},
   "outputs": [],
   "source": [
    "tweet_list = []\n",
    "with open(\"tweet_json.txt\") as tweetfile:\n",
    "    for line in tweetfile:\n",
    "        tweet = json.loads(line)\n",
    "        tweet_id = tweet['id']\n",
    "        tweet_favorites= tweet['favorite_count']\n",
    "        tweet_retweets= tweet['retweet_count']\n",
    "        tweet_list.append({'tweet_id': tweet_id, 'favorites': tweet_favorites, 'retweets': tweet_retweets})\n",
    "        \n",
    "\n",
    "\n"
   ]
  },
  {
   "cell_type": "code",
   "execution_count": 107,
   "metadata": {},
   "outputs": [],
   "source": [
    "ts = pd.DataFrame(tweet_list)"
   ]
  },
  {
   "cell_type": "code",
   "execution_count": 108,
   "metadata": {},
   "outputs": [
    {
     "data": {
      "text/html": [
       "<div>\n",
       "<style scoped>\n",
       "    .dataframe tbody tr th:only-of-type {\n",
       "        vertical-align: middle;\n",
       "    }\n",
       "\n",
       "    .dataframe tbody tr th {\n",
       "        vertical-align: top;\n",
       "    }\n",
       "\n",
       "    .dataframe thead th {\n",
       "        text-align: right;\n",
       "    }\n",
       "</style>\n",
       "<table border=\"1\" class=\"dataframe\">\n",
       "  <thead>\n",
       "    <tr style=\"text-align: right;\">\n",
       "      <th></th>\n",
       "      <th>tweet_id</th>\n",
       "      <th>favorites</th>\n",
       "      <th>retweets</th>\n",
       "    </tr>\n",
       "  </thead>\n",
       "  <tbody>\n",
       "    <tr>\n",
       "      <th>0</th>\n",
       "      <td>892420643555336193</td>\n",
       "      <td>36067</td>\n",
       "      <td>7678</td>\n",
       "    </tr>\n",
       "    <tr>\n",
       "      <th>1</th>\n",
       "      <td>892177421306343426</td>\n",
       "      <td>31109</td>\n",
       "      <td>5678</td>\n",
       "    </tr>\n",
       "    <tr>\n",
       "      <th>2</th>\n",
       "      <td>891815181378084864</td>\n",
       "      <td>23422</td>\n",
       "      <td>3763</td>\n",
       "    </tr>\n",
       "    <tr>\n",
       "      <th>3</th>\n",
       "      <td>891689557279858688</td>\n",
       "      <td>39343</td>\n",
       "      <td>7851</td>\n",
       "    </tr>\n",
       "    <tr>\n",
       "      <th>4</th>\n",
       "      <td>891327558926688256</td>\n",
       "      <td>37585</td>\n",
       "      <td>8449</td>\n",
       "    </tr>\n",
       "  </tbody>\n",
       "</table>\n",
       "</div>"
      ],
      "text/plain": [
       "             tweet_id  favorites  retweets\n",
       "0  892420643555336193      36067      7678\n",
       "1  892177421306343426      31109      5678\n",
       "2  891815181378084864      23422      3763\n",
       "3  891689557279858688      39343      7851\n",
       "4  891327558926688256      37585      8449"
      ]
     },
     "execution_count": 108,
     "metadata": {},
     "output_type": "execute_result"
    }
   ],
   "source": [
    "ts.head()"
   ]
  },
  {
   "cell_type": "code",
   "execution_count": 109,
   "metadata": {},
   "outputs": [],
   "source": [
    "ts.to_csv('tweet_stats.csv', index = False)"
   ]
  },
  {
   "cell_type": "code",
   "execution_count": 111,
   "metadata": {
    "scrolled": true
   },
   "outputs": [],
   "source": [
    "tweets = pd.DataFrame(tweet_list)"
   ]
  },
  {
   "cell_type": "code",
   "execution_count": 7,
   "metadata": {},
   "outputs": [],
   "source": [
    "tweets = pd.read_csv('tweet_stats.csv')"
   ]
  },
  {
   "cell_type": "markdown",
   "metadata": {},
   "source": [
    "<a id='access'></a>\n",
    "## Assess"
   ]
  },
  {
   "cell_type": "code",
   "execution_count": 9,
   "metadata": {
    "scrolled": false
   },
   "outputs": [
    {
     "data": {
      "text/html": [
       "<div>\n",
       "<style scoped>\n",
       "    .dataframe tbody tr th:only-of-type {\n",
       "        vertical-align: middle;\n",
       "    }\n",
       "\n",
       "    .dataframe tbody tr th {\n",
       "        vertical-align: top;\n",
       "    }\n",
       "\n",
       "    .dataframe thead th {\n",
       "        text-align: right;\n",
       "    }\n",
       "</style>\n",
       "<table border=\"1\" class=\"dataframe\">\n",
       "  <thead>\n",
       "    <tr style=\"text-align: right;\">\n",
       "      <th></th>\n",
       "      <th>tweet_id</th>\n",
       "      <th>in_reply_to_status_id</th>\n",
       "      <th>in_reply_to_user_id</th>\n",
       "      <th>timestamp</th>\n",
       "      <th>source</th>\n",
       "      <th>text</th>\n",
       "      <th>retweeted_status_id</th>\n",
       "      <th>retweeted_status_user_id</th>\n",
       "      <th>retweeted_status_timestamp</th>\n",
       "      <th>expanded_urls</th>\n",
       "      <th>rating_numerator</th>\n",
       "      <th>rating_denominator</th>\n",
       "      <th>name</th>\n",
       "      <th>doggo</th>\n",
       "      <th>floofer</th>\n",
       "      <th>pupper</th>\n",
       "      <th>puppo</th>\n",
       "    </tr>\n",
       "  </thead>\n",
       "  <tbody>\n",
       "    <tr>\n",
       "      <th>0</th>\n",
       "      <td>892420643555336193</td>\n",
       "      <td>NaN</td>\n",
       "      <td>NaN</td>\n",
       "      <td>2017-08-01 16:23:56 +0000</td>\n",
       "      <td>&lt;a href=\"http://twitter.com/download/iphone\" r...</td>\n",
       "      <td>This is Phineas. He's a mystical boy. Only eve...</td>\n",
       "      <td>NaN</td>\n",
       "      <td>NaN</td>\n",
       "      <td>NaN</td>\n",
       "      <td>https://twitter.com/dog_rates/status/892420643...</td>\n",
       "      <td>13</td>\n",
       "      <td>10</td>\n",
       "      <td>Phineas</td>\n",
       "      <td>None</td>\n",
       "      <td>None</td>\n",
       "      <td>None</td>\n",
       "      <td>None</td>\n",
       "    </tr>\n",
       "    <tr>\n",
       "      <th>1</th>\n",
       "      <td>892177421306343426</td>\n",
       "      <td>NaN</td>\n",
       "      <td>NaN</td>\n",
       "      <td>2017-08-01 00:17:27 +0000</td>\n",
       "      <td>&lt;a href=\"http://twitter.com/download/iphone\" r...</td>\n",
       "      <td>This is Tilly. She's just checking pup on you....</td>\n",
       "      <td>NaN</td>\n",
       "      <td>NaN</td>\n",
       "      <td>NaN</td>\n",
       "      <td>https://twitter.com/dog_rates/status/892177421...</td>\n",
       "      <td>13</td>\n",
       "      <td>10</td>\n",
       "      <td>Tilly</td>\n",
       "      <td>None</td>\n",
       "      <td>None</td>\n",
       "      <td>None</td>\n",
       "      <td>None</td>\n",
       "    </tr>\n",
       "    <tr>\n",
       "      <th>2</th>\n",
       "      <td>891815181378084864</td>\n",
       "      <td>NaN</td>\n",
       "      <td>NaN</td>\n",
       "      <td>2017-07-31 00:18:03 +0000</td>\n",
       "      <td>&lt;a href=\"http://twitter.com/download/iphone\" r...</td>\n",
       "      <td>This is Archie. He is a rare Norwegian Pouncin...</td>\n",
       "      <td>NaN</td>\n",
       "      <td>NaN</td>\n",
       "      <td>NaN</td>\n",
       "      <td>https://twitter.com/dog_rates/status/891815181...</td>\n",
       "      <td>12</td>\n",
       "      <td>10</td>\n",
       "      <td>Archie</td>\n",
       "      <td>None</td>\n",
       "      <td>None</td>\n",
       "      <td>None</td>\n",
       "      <td>None</td>\n",
       "    </tr>\n",
       "    <tr>\n",
       "      <th>3</th>\n",
       "      <td>891689557279858688</td>\n",
       "      <td>NaN</td>\n",
       "      <td>NaN</td>\n",
       "      <td>2017-07-30 15:58:51 +0000</td>\n",
       "      <td>&lt;a href=\"http://twitter.com/download/iphone\" r...</td>\n",
       "      <td>This is Darla. She commenced a snooze mid meal...</td>\n",
       "      <td>NaN</td>\n",
       "      <td>NaN</td>\n",
       "      <td>NaN</td>\n",
       "      <td>https://twitter.com/dog_rates/status/891689557...</td>\n",
       "      <td>13</td>\n",
       "      <td>10</td>\n",
       "      <td>Darla</td>\n",
       "      <td>None</td>\n",
       "      <td>None</td>\n",
       "      <td>None</td>\n",
       "      <td>None</td>\n",
       "    </tr>\n",
       "    <tr>\n",
       "      <th>4</th>\n",
       "      <td>891327558926688256</td>\n",
       "      <td>NaN</td>\n",
       "      <td>NaN</td>\n",
       "      <td>2017-07-29 16:00:24 +0000</td>\n",
       "      <td>&lt;a href=\"http://twitter.com/download/iphone\" r...</td>\n",
       "      <td>This is Franklin. He would like you to stop ca...</td>\n",
       "      <td>NaN</td>\n",
       "      <td>NaN</td>\n",
       "      <td>NaN</td>\n",
       "      <td>https://twitter.com/dog_rates/status/891327558...</td>\n",
       "      <td>12</td>\n",
       "      <td>10</td>\n",
       "      <td>Franklin</td>\n",
       "      <td>None</td>\n",
       "      <td>None</td>\n",
       "      <td>None</td>\n",
       "      <td>None</td>\n",
       "    </tr>\n",
       "    <tr>\n",
       "      <th>...</th>\n",
       "      <td>...</td>\n",
       "      <td>...</td>\n",
       "      <td>...</td>\n",
       "      <td>...</td>\n",
       "      <td>...</td>\n",
       "      <td>...</td>\n",
       "      <td>...</td>\n",
       "      <td>...</td>\n",
       "      <td>...</td>\n",
       "      <td>...</td>\n",
       "      <td>...</td>\n",
       "      <td>...</td>\n",
       "      <td>...</td>\n",
       "      <td>...</td>\n",
       "      <td>...</td>\n",
       "      <td>...</td>\n",
       "      <td>...</td>\n",
       "    </tr>\n",
       "    <tr>\n",
       "      <th>2351</th>\n",
       "      <td>666049248165822465</td>\n",
       "      <td>NaN</td>\n",
       "      <td>NaN</td>\n",
       "      <td>2015-11-16 00:24:50 +0000</td>\n",
       "      <td>&lt;a href=\"http://twitter.com/download/iphone\" r...</td>\n",
       "      <td>Here we have a 1949 1st generation vulpix. Enj...</td>\n",
       "      <td>NaN</td>\n",
       "      <td>NaN</td>\n",
       "      <td>NaN</td>\n",
       "      <td>https://twitter.com/dog_rates/status/666049248...</td>\n",
       "      <td>5</td>\n",
       "      <td>10</td>\n",
       "      <td>None</td>\n",
       "      <td>None</td>\n",
       "      <td>None</td>\n",
       "      <td>None</td>\n",
       "      <td>None</td>\n",
       "    </tr>\n",
       "    <tr>\n",
       "      <th>2352</th>\n",
       "      <td>666044226329800704</td>\n",
       "      <td>NaN</td>\n",
       "      <td>NaN</td>\n",
       "      <td>2015-11-16 00:04:52 +0000</td>\n",
       "      <td>&lt;a href=\"http://twitter.com/download/iphone\" r...</td>\n",
       "      <td>This is a purebred Piers Morgan. Loves to Netf...</td>\n",
       "      <td>NaN</td>\n",
       "      <td>NaN</td>\n",
       "      <td>NaN</td>\n",
       "      <td>https://twitter.com/dog_rates/status/666044226...</td>\n",
       "      <td>6</td>\n",
       "      <td>10</td>\n",
       "      <td>a</td>\n",
       "      <td>None</td>\n",
       "      <td>None</td>\n",
       "      <td>None</td>\n",
       "      <td>None</td>\n",
       "    </tr>\n",
       "    <tr>\n",
       "      <th>2353</th>\n",
       "      <td>666033412701032449</td>\n",
       "      <td>NaN</td>\n",
       "      <td>NaN</td>\n",
       "      <td>2015-11-15 23:21:54 +0000</td>\n",
       "      <td>&lt;a href=\"http://twitter.com/download/iphone\" r...</td>\n",
       "      <td>Here is a very happy pup. Big fan of well-main...</td>\n",
       "      <td>NaN</td>\n",
       "      <td>NaN</td>\n",
       "      <td>NaN</td>\n",
       "      <td>https://twitter.com/dog_rates/status/666033412...</td>\n",
       "      <td>9</td>\n",
       "      <td>10</td>\n",
       "      <td>a</td>\n",
       "      <td>None</td>\n",
       "      <td>None</td>\n",
       "      <td>None</td>\n",
       "      <td>None</td>\n",
       "    </tr>\n",
       "    <tr>\n",
       "      <th>2354</th>\n",
       "      <td>666029285002620928</td>\n",
       "      <td>NaN</td>\n",
       "      <td>NaN</td>\n",
       "      <td>2015-11-15 23:05:30 +0000</td>\n",
       "      <td>&lt;a href=\"http://twitter.com/download/iphone\" r...</td>\n",
       "      <td>This is a western brown Mitsubishi terrier. Up...</td>\n",
       "      <td>NaN</td>\n",
       "      <td>NaN</td>\n",
       "      <td>NaN</td>\n",
       "      <td>https://twitter.com/dog_rates/status/666029285...</td>\n",
       "      <td>7</td>\n",
       "      <td>10</td>\n",
       "      <td>a</td>\n",
       "      <td>None</td>\n",
       "      <td>None</td>\n",
       "      <td>None</td>\n",
       "      <td>None</td>\n",
       "    </tr>\n",
       "    <tr>\n",
       "      <th>2355</th>\n",
       "      <td>666020888022790149</td>\n",
       "      <td>NaN</td>\n",
       "      <td>NaN</td>\n",
       "      <td>2015-11-15 22:32:08 +0000</td>\n",
       "      <td>&lt;a href=\"http://twitter.com/download/iphone\" r...</td>\n",
       "      <td>Here we have a Japanese Irish Setter. Lost eye...</td>\n",
       "      <td>NaN</td>\n",
       "      <td>NaN</td>\n",
       "      <td>NaN</td>\n",
       "      <td>https://twitter.com/dog_rates/status/666020888...</td>\n",
       "      <td>8</td>\n",
       "      <td>10</td>\n",
       "      <td>None</td>\n",
       "      <td>None</td>\n",
       "      <td>None</td>\n",
       "      <td>None</td>\n",
       "      <td>None</td>\n",
       "    </tr>\n",
       "  </tbody>\n",
       "</table>\n",
       "<p>2356 rows × 17 columns</p>\n",
       "</div>"
      ],
      "text/plain": [
       "                tweet_id  in_reply_to_status_id  in_reply_to_user_id  \\\n",
       "0     892420643555336193                    NaN                  NaN   \n",
       "1     892177421306343426                    NaN                  NaN   \n",
       "2     891815181378084864                    NaN                  NaN   \n",
       "3     891689557279858688                    NaN                  NaN   \n",
       "4     891327558926688256                    NaN                  NaN   \n",
       "...                  ...                    ...                  ...   \n",
       "2351  666049248165822465                    NaN                  NaN   \n",
       "2352  666044226329800704                    NaN                  NaN   \n",
       "2353  666033412701032449                    NaN                  NaN   \n",
       "2354  666029285002620928                    NaN                  NaN   \n",
       "2355  666020888022790149                    NaN                  NaN   \n",
       "\n",
       "                      timestamp  \\\n",
       "0     2017-08-01 16:23:56 +0000   \n",
       "1     2017-08-01 00:17:27 +0000   \n",
       "2     2017-07-31 00:18:03 +0000   \n",
       "3     2017-07-30 15:58:51 +0000   \n",
       "4     2017-07-29 16:00:24 +0000   \n",
       "...                         ...   \n",
       "2351  2015-11-16 00:24:50 +0000   \n",
       "2352  2015-11-16 00:04:52 +0000   \n",
       "2353  2015-11-15 23:21:54 +0000   \n",
       "2354  2015-11-15 23:05:30 +0000   \n",
       "2355  2015-11-15 22:32:08 +0000   \n",
       "\n",
       "                                                 source  \\\n",
       "0     <a href=\"http://twitter.com/download/iphone\" r...   \n",
       "1     <a href=\"http://twitter.com/download/iphone\" r...   \n",
       "2     <a href=\"http://twitter.com/download/iphone\" r...   \n",
       "3     <a href=\"http://twitter.com/download/iphone\" r...   \n",
       "4     <a href=\"http://twitter.com/download/iphone\" r...   \n",
       "...                                                 ...   \n",
       "2351  <a href=\"http://twitter.com/download/iphone\" r...   \n",
       "2352  <a href=\"http://twitter.com/download/iphone\" r...   \n",
       "2353  <a href=\"http://twitter.com/download/iphone\" r...   \n",
       "2354  <a href=\"http://twitter.com/download/iphone\" r...   \n",
       "2355  <a href=\"http://twitter.com/download/iphone\" r...   \n",
       "\n",
       "                                                   text  retweeted_status_id  \\\n",
       "0     This is Phineas. He's a mystical boy. Only eve...                  NaN   \n",
       "1     This is Tilly. She's just checking pup on you....                  NaN   \n",
       "2     This is Archie. He is a rare Norwegian Pouncin...                  NaN   \n",
       "3     This is Darla. She commenced a snooze mid meal...                  NaN   \n",
       "4     This is Franklin. He would like you to stop ca...                  NaN   \n",
       "...                                                 ...                  ...   \n",
       "2351  Here we have a 1949 1st generation vulpix. Enj...                  NaN   \n",
       "2352  This is a purebred Piers Morgan. Loves to Netf...                  NaN   \n",
       "2353  Here is a very happy pup. Big fan of well-main...                  NaN   \n",
       "2354  This is a western brown Mitsubishi terrier. Up...                  NaN   \n",
       "2355  Here we have a Japanese Irish Setter. Lost eye...                  NaN   \n",
       "\n",
       "      retweeted_status_user_id retweeted_status_timestamp  \\\n",
       "0                          NaN                        NaN   \n",
       "1                          NaN                        NaN   \n",
       "2                          NaN                        NaN   \n",
       "3                          NaN                        NaN   \n",
       "4                          NaN                        NaN   \n",
       "...                        ...                        ...   \n",
       "2351                       NaN                        NaN   \n",
       "2352                       NaN                        NaN   \n",
       "2353                       NaN                        NaN   \n",
       "2354                       NaN                        NaN   \n",
       "2355                       NaN                        NaN   \n",
       "\n",
       "                                          expanded_urls  rating_numerator  \\\n",
       "0     https://twitter.com/dog_rates/status/892420643...                13   \n",
       "1     https://twitter.com/dog_rates/status/892177421...                13   \n",
       "2     https://twitter.com/dog_rates/status/891815181...                12   \n",
       "3     https://twitter.com/dog_rates/status/891689557...                13   \n",
       "4     https://twitter.com/dog_rates/status/891327558...                12   \n",
       "...                                                 ...               ...   \n",
       "2351  https://twitter.com/dog_rates/status/666049248...                 5   \n",
       "2352  https://twitter.com/dog_rates/status/666044226...                 6   \n",
       "2353  https://twitter.com/dog_rates/status/666033412...                 9   \n",
       "2354  https://twitter.com/dog_rates/status/666029285...                 7   \n",
       "2355  https://twitter.com/dog_rates/status/666020888...                 8   \n",
       "\n",
       "      rating_denominator      name doggo floofer pupper puppo  \n",
       "0                     10   Phineas  None    None   None  None  \n",
       "1                     10     Tilly  None    None   None  None  \n",
       "2                     10    Archie  None    None   None  None  \n",
       "3                     10     Darla  None    None   None  None  \n",
       "4                     10  Franklin  None    None   None  None  \n",
       "...                  ...       ...   ...     ...    ...   ...  \n",
       "2351                  10      None  None    None   None  None  \n",
       "2352                  10         a  None    None   None  None  \n",
       "2353                  10         a  None    None   None  None  \n",
       "2354                  10         a  None    None   None  None  \n",
       "2355                  10      None  None    None   None  None  \n",
       "\n",
       "[2356 rows x 17 columns]"
      ]
     },
     "execution_count": 9,
     "metadata": {},
     "output_type": "execute_result"
    }
   ],
   "source": [
    "# Display the patients table\n",
    "wrd"
   ]
  },
  {
   "cell_type": "code",
   "execution_count": 10,
   "metadata": {},
   "outputs": [
    {
     "name": "stdout",
     "output_type": "stream",
     "text": [
      "<class 'pandas.core.frame.DataFrame'>\n",
      "RangeIndex: 2356 entries, 0 to 2355\n",
      "Data columns (total 17 columns):\n",
      " #   Column                      Non-Null Count  Dtype  \n",
      "---  ------                      --------------  -----  \n",
      " 0   tweet_id                    2356 non-null   int64  \n",
      " 1   in_reply_to_status_id       78 non-null     float64\n",
      " 2   in_reply_to_user_id         78 non-null     float64\n",
      " 3   timestamp                   2356 non-null   object \n",
      " 4   source                      2356 non-null   object \n",
      " 5   text                        2356 non-null   object \n",
      " 6   retweeted_status_id         181 non-null    float64\n",
      " 7   retweeted_status_user_id    181 non-null    float64\n",
      " 8   retweeted_status_timestamp  181 non-null    object \n",
      " 9   expanded_urls               2297 non-null   object \n",
      " 10  rating_numerator            2356 non-null   int64  \n",
      " 11  rating_denominator          2356 non-null   int64  \n",
      " 12  name                        2356 non-null   object \n",
      " 13  doggo                       2356 non-null   object \n",
      " 14  floofer                     2356 non-null   object \n",
      " 15  pupper                      2356 non-null   object \n",
      " 16  puppo                       2356 non-null   object \n",
      "dtypes: float64(4), int64(3), object(10)\n",
      "memory usage: 313.0+ KB\n"
     ]
    }
   ],
   "source": [
    "wrd.info()"
   ]
  },
  {
   "cell_type": "code",
   "execution_count": 13,
   "metadata": {
    "scrolled": true
   },
   "outputs": [
    {
     "data": {
      "text/html": [
       "<div>\n",
       "<style scoped>\n",
       "    .dataframe tbody tr th:only-of-type {\n",
       "        vertical-align: middle;\n",
       "    }\n",
       "\n",
       "    .dataframe tbody tr th {\n",
       "        vertical-align: top;\n",
       "    }\n",
       "\n",
       "    .dataframe thead th {\n",
       "        text-align: right;\n",
       "    }\n",
       "</style>\n",
       "<table border=\"1\" class=\"dataframe\">\n",
       "  <thead>\n",
       "    <tr style=\"text-align: right;\">\n",
       "      <th></th>\n",
       "      <th>tweet_id</th>\n",
       "      <th>in_reply_to_status_id</th>\n",
       "      <th>in_reply_to_user_id</th>\n",
       "      <th>retweeted_status_id</th>\n",
       "      <th>retweeted_status_user_id</th>\n",
       "      <th>rating_numerator</th>\n",
       "      <th>rating_denominator</th>\n",
       "    </tr>\n",
       "  </thead>\n",
       "  <tbody>\n",
       "    <tr>\n",
       "      <th>count</th>\n",
       "      <td>2.356000e+03</td>\n",
       "      <td>7.800000e+01</td>\n",
       "      <td>7.800000e+01</td>\n",
       "      <td>1.810000e+02</td>\n",
       "      <td>1.810000e+02</td>\n",
       "      <td>2356.000000</td>\n",
       "      <td>2356.000000</td>\n",
       "    </tr>\n",
       "    <tr>\n",
       "      <th>mean</th>\n",
       "      <td>7.427716e+17</td>\n",
       "      <td>7.455079e+17</td>\n",
       "      <td>2.014171e+16</td>\n",
       "      <td>7.720400e+17</td>\n",
       "      <td>1.241698e+16</td>\n",
       "      <td>13.126486</td>\n",
       "      <td>10.455433</td>\n",
       "    </tr>\n",
       "    <tr>\n",
       "      <th>std</th>\n",
       "      <td>6.856705e+16</td>\n",
       "      <td>7.582492e+16</td>\n",
       "      <td>1.252797e+17</td>\n",
       "      <td>6.236928e+16</td>\n",
       "      <td>9.599254e+16</td>\n",
       "      <td>45.876648</td>\n",
       "      <td>6.745237</td>\n",
       "    </tr>\n",
       "    <tr>\n",
       "      <th>min</th>\n",
       "      <td>6.660209e+17</td>\n",
       "      <td>6.658147e+17</td>\n",
       "      <td>1.185634e+07</td>\n",
       "      <td>6.661041e+17</td>\n",
       "      <td>7.832140e+05</td>\n",
       "      <td>0.000000</td>\n",
       "      <td>0.000000</td>\n",
       "    </tr>\n",
       "    <tr>\n",
       "      <th>25%</th>\n",
       "      <td>6.783989e+17</td>\n",
       "      <td>6.757419e+17</td>\n",
       "      <td>3.086374e+08</td>\n",
       "      <td>7.186315e+17</td>\n",
       "      <td>4.196984e+09</td>\n",
       "      <td>10.000000</td>\n",
       "      <td>10.000000</td>\n",
       "    </tr>\n",
       "    <tr>\n",
       "      <th>50%</th>\n",
       "      <td>7.196279e+17</td>\n",
       "      <td>7.038708e+17</td>\n",
       "      <td>4.196984e+09</td>\n",
       "      <td>7.804657e+17</td>\n",
       "      <td>4.196984e+09</td>\n",
       "      <td>11.000000</td>\n",
       "      <td>10.000000</td>\n",
       "    </tr>\n",
       "    <tr>\n",
       "      <th>75%</th>\n",
       "      <td>7.993373e+17</td>\n",
       "      <td>8.257804e+17</td>\n",
       "      <td>4.196984e+09</td>\n",
       "      <td>8.203146e+17</td>\n",
       "      <td>4.196984e+09</td>\n",
       "      <td>12.000000</td>\n",
       "      <td>10.000000</td>\n",
       "    </tr>\n",
       "    <tr>\n",
       "      <th>max</th>\n",
       "      <td>8.924206e+17</td>\n",
       "      <td>8.862664e+17</td>\n",
       "      <td>8.405479e+17</td>\n",
       "      <td>8.874740e+17</td>\n",
       "      <td>7.874618e+17</td>\n",
       "      <td>1776.000000</td>\n",
       "      <td>170.000000</td>\n",
       "    </tr>\n",
       "  </tbody>\n",
       "</table>\n",
       "</div>"
      ],
      "text/plain": [
       "           tweet_id  in_reply_to_status_id  in_reply_to_user_id  \\\n",
       "count  2.356000e+03           7.800000e+01         7.800000e+01   \n",
       "mean   7.427716e+17           7.455079e+17         2.014171e+16   \n",
       "std    6.856705e+16           7.582492e+16         1.252797e+17   \n",
       "min    6.660209e+17           6.658147e+17         1.185634e+07   \n",
       "25%    6.783989e+17           6.757419e+17         3.086374e+08   \n",
       "50%    7.196279e+17           7.038708e+17         4.196984e+09   \n",
       "75%    7.993373e+17           8.257804e+17         4.196984e+09   \n",
       "max    8.924206e+17           8.862664e+17         8.405479e+17   \n",
       "\n",
       "       retweeted_status_id  retweeted_status_user_id  rating_numerator  \\\n",
       "count         1.810000e+02              1.810000e+02       2356.000000   \n",
       "mean          7.720400e+17              1.241698e+16         13.126486   \n",
       "std           6.236928e+16              9.599254e+16         45.876648   \n",
       "min           6.661041e+17              7.832140e+05          0.000000   \n",
       "25%           7.186315e+17              4.196984e+09         10.000000   \n",
       "50%           7.804657e+17              4.196984e+09         11.000000   \n",
       "75%           8.203146e+17              4.196984e+09         12.000000   \n",
       "max           8.874740e+17              7.874618e+17       1776.000000   \n",
       "\n",
       "       rating_denominator  \n",
       "count         2356.000000  \n",
       "mean            10.455433  \n",
       "std              6.745237  \n",
       "min              0.000000  \n",
       "25%             10.000000  \n",
       "50%             10.000000  \n",
       "75%             10.000000  \n",
       "max            170.000000  "
      ]
     },
     "execution_count": 13,
     "metadata": {},
     "output_type": "execute_result"
    }
   ],
   "source": [
    "wrd.describe()"
   ]
  },
  {
   "cell_type": "code",
   "execution_count": 14,
   "metadata": {},
   "outputs": [],
   "source": [
    "pd.set_option('display.max_row', 10)"
   ]
  },
  {
   "cell_type": "markdown",
   "metadata": {},
   "source": [
    "#### Tidiness\n",
    "- Four existing columns for dog stage, doggo, floofer, pupper, puppo\n",
    "- No need for retweets and replies\n",
    "- Three dog breed predictions, only need the first true one\n"
   ]
  },
  {
   "cell_type": "code",
   "execution_count": 15,
   "metadata": {},
   "outputs": [
    {
     "data": {
      "text/html": [
       "<div>\n",
       "<style scoped>\n",
       "    .dataframe tbody tr th:only-of-type {\n",
       "        vertical-align: middle;\n",
       "    }\n",
       "\n",
       "    .dataframe tbody tr th {\n",
       "        vertical-align: top;\n",
       "    }\n",
       "\n",
       "    .dataframe thead th {\n",
       "        text-align: right;\n",
       "    }\n",
       "</style>\n",
       "<table border=\"1\" class=\"dataframe\">\n",
       "  <thead>\n",
       "    <tr style=\"text-align: right;\">\n",
       "      <th></th>\n",
       "      <th>tweet_id</th>\n",
       "      <th>jpg_url</th>\n",
       "      <th>img_num</th>\n",
       "      <th>p1</th>\n",
       "      <th>p1_conf</th>\n",
       "      <th>p1_dog</th>\n",
       "      <th>p2</th>\n",
       "      <th>p2_conf</th>\n",
       "      <th>p2_dog</th>\n",
       "      <th>p3</th>\n",
       "      <th>p3_conf</th>\n",
       "      <th>p3_dog</th>\n",
       "    </tr>\n",
       "  </thead>\n",
       "  <tbody>\n",
       "    <tr>\n",
       "      <th>0</th>\n",
       "      <td>666020888022790149</td>\n",
       "      <td>https://pbs.twimg.com/media/CT4udn0WwAA0aMy.jpg</td>\n",
       "      <td>1</td>\n",
       "      <td>Welsh_springer_spaniel</td>\n",
       "      <td>0.465074</td>\n",
       "      <td>True</td>\n",
       "      <td>collie</td>\n",
       "      <td>0.156665</td>\n",
       "      <td>True</td>\n",
       "      <td>Shetland_sheepdog</td>\n",
       "      <td>0.061428</td>\n",
       "      <td>True</td>\n",
       "    </tr>\n",
       "    <tr>\n",
       "      <th>1</th>\n",
       "      <td>666029285002620928</td>\n",
       "      <td>https://pbs.twimg.com/media/CT42GRgUYAA5iDo.jpg</td>\n",
       "      <td>1</td>\n",
       "      <td>redbone</td>\n",
       "      <td>0.506826</td>\n",
       "      <td>True</td>\n",
       "      <td>miniature_pinscher</td>\n",
       "      <td>0.074192</td>\n",
       "      <td>True</td>\n",
       "      <td>Rhodesian_ridgeback</td>\n",
       "      <td>0.072010</td>\n",
       "      <td>True</td>\n",
       "    </tr>\n",
       "    <tr>\n",
       "      <th>2</th>\n",
       "      <td>666033412701032449</td>\n",
       "      <td>https://pbs.twimg.com/media/CT4521TWwAEvMyu.jpg</td>\n",
       "      <td>1</td>\n",
       "      <td>German_shepherd</td>\n",
       "      <td>0.596461</td>\n",
       "      <td>True</td>\n",
       "      <td>malinois</td>\n",
       "      <td>0.138584</td>\n",
       "      <td>True</td>\n",
       "      <td>bloodhound</td>\n",
       "      <td>0.116197</td>\n",
       "      <td>True</td>\n",
       "    </tr>\n",
       "    <tr>\n",
       "      <th>3</th>\n",
       "      <td>666044226329800704</td>\n",
       "      <td>https://pbs.twimg.com/media/CT5Dr8HUEAA-lEu.jpg</td>\n",
       "      <td>1</td>\n",
       "      <td>Rhodesian_ridgeback</td>\n",
       "      <td>0.408143</td>\n",
       "      <td>True</td>\n",
       "      <td>redbone</td>\n",
       "      <td>0.360687</td>\n",
       "      <td>True</td>\n",
       "      <td>miniature_pinscher</td>\n",
       "      <td>0.222752</td>\n",
       "      <td>True</td>\n",
       "    </tr>\n",
       "    <tr>\n",
       "      <th>4</th>\n",
       "      <td>666049248165822465</td>\n",
       "      <td>https://pbs.twimg.com/media/CT5IQmsXIAAKY4A.jpg</td>\n",
       "      <td>1</td>\n",
       "      <td>miniature_pinscher</td>\n",
       "      <td>0.560311</td>\n",
       "      <td>True</td>\n",
       "      <td>Rottweiler</td>\n",
       "      <td>0.243682</td>\n",
       "      <td>True</td>\n",
       "      <td>Doberman</td>\n",
       "      <td>0.154629</td>\n",
       "      <td>True</td>\n",
       "    </tr>\n",
       "    <tr>\n",
       "      <th>...</th>\n",
       "      <td>...</td>\n",
       "      <td>...</td>\n",
       "      <td>...</td>\n",
       "      <td>...</td>\n",
       "      <td>...</td>\n",
       "      <td>...</td>\n",
       "      <td>...</td>\n",
       "      <td>...</td>\n",
       "      <td>...</td>\n",
       "      <td>...</td>\n",
       "      <td>...</td>\n",
       "      <td>...</td>\n",
       "    </tr>\n",
       "    <tr>\n",
       "      <th>2070</th>\n",
       "      <td>891327558926688256</td>\n",
       "      <td>https://pbs.twimg.com/media/DF6hr6BUMAAzZgT.jpg</td>\n",
       "      <td>2</td>\n",
       "      <td>basset</td>\n",
       "      <td>0.555712</td>\n",
       "      <td>True</td>\n",
       "      <td>English_springer</td>\n",
       "      <td>0.225770</td>\n",
       "      <td>True</td>\n",
       "      <td>German_short-haired_pointer</td>\n",
       "      <td>0.175219</td>\n",
       "      <td>True</td>\n",
       "    </tr>\n",
       "    <tr>\n",
       "      <th>2071</th>\n",
       "      <td>891689557279858688</td>\n",
       "      <td>https://pbs.twimg.com/media/DF_q7IAWsAEuuN8.jpg</td>\n",
       "      <td>1</td>\n",
       "      <td>paper_towel</td>\n",
       "      <td>0.170278</td>\n",
       "      <td>False</td>\n",
       "      <td>Labrador_retriever</td>\n",
       "      <td>0.168086</td>\n",
       "      <td>True</td>\n",
       "      <td>spatula</td>\n",
       "      <td>0.040836</td>\n",
       "      <td>False</td>\n",
       "    </tr>\n",
       "    <tr>\n",
       "      <th>2072</th>\n",
       "      <td>891815181378084864</td>\n",
       "      <td>https://pbs.twimg.com/media/DGBdLU1WsAANxJ9.jpg</td>\n",
       "      <td>1</td>\n",
       "      <td>Chihuahua</td>\n",
       "      <td>0.716012</td>\n",
       "      <td>True</td>\n",
       "      <td>malamute</td>\n",
       "      <td>0.078253</td>\n",
       "      <td>True</td>\n",
       "      <td>kelpie</td>\n",
       "      <td>0.031379</td>\n",
       "      <td>True</td>\n",
       "    </tr>\n",
       "    <tr>\n",
       "      <th>2073</th>\n",
       "      <td>892177421306343426</td>\n",
       "      <td>https://pbs.twimg.com/media/DGGmoV4XsAAUL6n.jpg</td>\n",
       "      <td>1</td>\n",
       "      <td>Chihuahua</td>\n",
       "      <td>0.323581</td>\n",
       "      <td>True</td>\n",
       "      <td>Pekinese</td>\n",
       "      <td>0.090647</td>\n",
       "      <td>True</td>\n",
       "      <td>papillon</td>\n",
       "      <td>0.068957</td>\n",
       "      <td>True</td>\n",
       "    </tr>\n",
       "    <tr>\n",
       "      <th>2074</th>\n",
       "      <td>892420643555336193</td>\n",
       "      <td>https://pbs.twimg.com/media/DGKD1-bXoAAIAUK.jpg</td>\n",
       "      <td>1</td>\n",
       "      <td>orange</td>\n",
       "      <td>0.097049</td>\n",
       "      <td>False</td>\n",
       "      <td>bagel</td>\n",
       "      <td>0.085851</td>\n",
       "      <td>False</td>\n",
       "      <td>banana</td>\n",
       "      <td>0.076110</td>\n",
       "      <td>False</td>\n",
       "    </tr>\n",
       "  </tbody>\n",
       "</table>\n",
       "<p>2075 rows × 12 columns</p>\n",
       "</div>"
      ],
      "text/plain": [
       "                tweet_id                                          jpg_url  \\\n",
       "0     666020888022790149  https://pbs.twimg.com/media/CT4udn0WwAA0aMy.jpg   \n",
       "1     666029285002620928  https://pbs.twimg.com/media/CT42GRgUYAA5iDo.jpg   \n",
       "2     666033412701032449  https://pbs.twimg.com/media/CT4521TWwAEvMyu.jpg   \n",
       "3     666044226329800704  https://pbs.twimg.com/media/CT5Dr8HUEAA-lEu.jpg   \n",
       "4     666049248165822465  https://pbs.twimg.com/media/CT5IQmsXIAAKY4A.jpg   \n",
       "...                  ...                                              ...   \n",
       "2070  891327558926688256  https://pbs.twimg.com/media/DF6hr6BUMAAzZgT.jpg   \n",
       "2071  891689557279858688  https://pbs.twimg.com/media/DF_q7IAWsAEuuN8.jpg   \n",
       "2072  891815181378084864  https://pbs.twimg.com/media/DGBdLU1WsAANxJ9.jpg   \n",
       "2073  892177421306343426  https://pbs.twimg.com/media/DGGmoV4XsAAUL6n.jpg   \n",
       "2074  892420643555336193  https://pbs.twimg.com/media/DGKD1-bXoAAIAUK.jpg   \n",
       "\n",
       "      img_num                      p1   p1_conf  p1_dog                  p2  \\\n",
       "0           1  Welsh_springer_spaniel  0.465074    True              collie   \n",
       "1           1                 redbone  0.506826    True  miniature_pinscher   \n",
       "2           1         German_shepherd  0.596461    True            malinois   \n",
       "3           1     Rhodesian_ridgeback  0.408143    True             redbone   \n",
       "4           1      miniature_pinscher  0.560311    True          Rottweiler   \n",
       "...       ...                     ...       ...     ...                 ...   \n",
       "2070        2                  basset  0.555712    True    English_springer   \n",
       "2071        1             paper_towel  0.170278   False  Labrador_retriever   \n",
       "2072        1               Chihuahua  0.716012    True            malamute   \n",
       "2073        1               Chihuahua  0.323581    True            Pekinese   \n",
       "2074        1                  orange  0.097049   False               bagel   \n",
       "\n",
       "       p2_conf  p2_dog                           p3   p3_conf  p3_dog  \n",
       "0     0.156665    True            Shetland_sheepdog  0.061428    True  \n",
       "1     0.074192    True          Rhodesian_ridgeback  0.072010    True  \n",
       "2     0.138584    True                   bloodhound  0.116197    True  \n",
       "3     0.360687    True           miniature_pinscher  0.222752    True  \n",
       "4     0.243682    True                     Doberman  0.154629    True  \n",
       "...        ...     ...                          ...       ...     ...  \n",
       "2070  0.225770    True  German_short-haired_pointer  0.175219    True  \n",
       "2071  0.168086    True                      spatula  0.040836   False  \n",
       "2072  0.078253    True                       kelpie  0.031379    True  \n",
       "2073  0.090647    True                     papillon  0.068957    True  \n",
       "2074  0.085851   False                       banana  0.076110   False  \n",
       "\n",
       "[2075 rows x 12 columns]"
      ]
     },
     "execution_count": 15,
     "metadata": {},
     "output_type": "execute_result"
    }
   ],
   "source": [
    "img"
   ]
  },
  {
   "cell_type": "code",
   "execution_count": 16,
   "metadata": {},
   "outputs": [
    {
     "name": "stdout",
     "output_type": "stream",
     "text": [
      "<class 'pandas.core.frame.DataFrame'>\n",
      "RangeIndex: 2075 entries, 0 to 2074\n",
      "Data columns (total 12 columns):\n",
      " #   Column    Non-Null Count  Dtype  \n",
      "---  ------    --------------  -----  \n",
      " 0   tweet_id  2075 non-null   int64  \n",
      " 1   jpg_url   2075 non-null   object \n",
      " 2   img_num   2075 non-null   int64  \n",
      " 3   p1        2075 non-null   object \n",
      " 4   p1_conf   2075 non-null   float64\n",
      " 5   p1_dog    2075 non-null   bool   \n",
      " 6   p2        2075 non-null   object \n",
      " 7   p2_conf   2075 non-null   float64\n",
      " 8   p2_dog    2075 non-null   bool   \n",
      " 9   p3        2075 non-null   object \n",
      " 10  p3_conf   2075 non-null   float64\n",
      " 11  p3_dog    2075 non-null   bool   \n",
      "dtypes: bool(3), float64(3), int64(2), object(4)\n",
      "memory usage: 152.1+ KB\n"
     ]
    }
   ],
   "source": [
    "img.info()"
   ]
  },
  {
   "cell_type": "code",
   "execution_count": 17,
   "metadata": {},
   "outputs": [
    {
     "data": {
      "text/plain": [
       "1    1780\n",
       "2     198\n",
       "3      66\n",
       "4      31\n",
       "Name: img_num, dtype: int64"
      ]
     },
     "execution_count": 17,
     "metadata": {},
     "output_type": "execute_result"
    }
   ],
   "source": [
    "img.img_num.value_counts()"
   ]
  },
  {
   "cell_type": "code",
   "execution_count": 19,
   "metadata": {},
   "outputs": [
    {
     "data": {
      "text/plain": [
       "None     2259\n",
       "doggo      97\n",
       "Name: doggo, dtype: int64"
      ]
     },
     "execution_count": 19,
     "metadata": {},
     "output_type": "execute_result"
    }
   ],
   "source": [
    "wrd.doggo.value_counts()"
   ]
  },
  {
   "cell_type": "code",
   "execution_count": 20,
   "metadata": {},
   "outputs": [
    {
     "data": {
      "text/plain": [
       "None       2346\n",
       "floofer      10\n",
       "Name: floofer, dtype: int64"
      ]
     },
     "execution_count": 20,
     "metadata": {},
     "output_type": "execute_result"
    }
   ],
   "source": [
    "wrd.floofer.value_counts()"
   ]
  },
  {
   "cell_type": "code",
   "execution_count": 21,
   "metadata": {},
   "outputs": [
    {
     "data": {
      "text/plain": [
       "None      2099\n",
       "pupper     257\n",
       "Name: pupper, dtype: int64"
      ]
     },
     "execution_count": 21,
     "metadata": {},
     "output_type": "execute_result"
    }
   ],
   "source": [
    "wrd.pupper.value_counts()"
   ]
  },
  {
   "cell_type": "code",
   "execution_count": 22,
   "metadata": {},
   "outputs": [
    {
     "data": {
      "text/plain": [
       "None     2326\n",
       "puppo      30\n",
       "Name: puppo, dtype: int64"
      ]
     },
     "execution_count": 22,
     "metadata": {},
     "output_type": "execute_result"
    }
   ],
   "source": [
    "wrd.puppo.value_counts()"
   ]
  },
  {
   "cell_type": "code",
   "execution_count": 23,
   "metadata": {},
   "outputs": [
    {
     "data": {
      "text/plain": [
       "12     558\n",
       "11     464\n",
       "10     461\n",
       "13     351\n",
       "9      158\n",
       "      ... \n",
       "27       1\n",
       "45       1\n",
       "99       1\n",
       "121      1\n",
       "204      1\n",
       "Name: rating_numerator, Length: 40, dtype: int64"
      ]
     },
     "execution_count": 23,
     "metadata": {},
     "output_type": "execute_result"
    }
   ],
   "source": [
    "wrd.rating_numerator.value_counts()"
   ]
  },
  {
   "cell_type": "code",
   "execution_count": 24,
   "metadata": {},
   "outputs": [
    {
     "data": {
      "text/plain": [
       "10     2333\n",
       "11        3\n",
       "50        3\n",
       "80        2\n",
       "20        2\n",
       "       ... \n",
       "130       1\n",
       "150       1\n",
       "170       1\n",
       "7         1\n",
       "0         1\n",
       "Name: rating_denominator, Length: 18, dtype: int64"
      ]
     },
     "execution_count": 24,
     "metadata": {},
     "output_type": "execute_result"
    }
   ],
   "source": [
    "wrd.rating_denominator.value_counts()"
   ]
  },
  {
   "cell_type": "code",
   "execution_count": 25,
   "metadata": {},
   "outputs": [
    {
     "data": {
      "text/html": [
       "<div>\n",
       "<style scoped>\n",
       "    .dataframe tbody tr th:only-of-type {\n",
       "        vertical-align: middle;\n",
       "    }\n",
       "\n",
       "    .dataframe tbody tr th {\n",
       "        vertical-align: top;\n",
       "    }\n",
       "\n",
       "    .dataframe thead th {\n",
       "        text-align: right;\n",
       "    }\n",
       "</style>\n",
       "<table border=\"1\" class=\"dataframe\">\n",
       "  <thead>\n",
       "    <tr style=\"text-align: right;\">\n",
       "      <th></th>\n",
       "      <th>tweet_id</th>\n",
       "      <th>img_num</th>\n",
       "      <th>p1_conf</th>\n",
       "      <th>p2_conf</th>\n",
       "      <th>p3_conf</th>\n",
       "    </tr>\n",
       "  </thead>\n",
       "  <tbody>\n",
       "    <tr>\n",
       "      <th>count</th>\n",
       "      <td>2.075000e+03</td>\n",
       "      <td>2075.000000</td>\n",
       "      <td>2075.000000</td>\n",
       "      <td>2.075000e+03</td>\n",
       "      <td>2.075000e+03</td>\n",
       "    </tr>\n",
       "    <tr>\n",
       "      <th>mean</th>\n",
       "      <td>7.384514e+17</td>\n",
       "      <td>1.203855</td>\n",
       "      <td>0.594548</td>\n",
       "      <td>1.345886e-01</td>\n",
       "      <td>6.032417e-02</td>\n",
       "    </tr>\n",
       "    <tr>\n",
       "      <th>std</th>\n",
       "      <td>6.785203e+16</td>\n",
       "      <td>0.561875</td>\n",
       "      <td>0.271174</td>\n",
       "      <td>1.006657e-01</td>\n",
       "      <td>5.090593e-02</td>\n",
       "    </tr>\n",
       "    <tr>\n",
       "      <th>min</th>\n",
       "      <td>6.660209e+17</td>\n",
       "      <td>1.000000</td>\n",
       "      <td>0.044333</td>\n",
       "      <td>1.011300e-08</td>\n",
       "      <td>1.740170e-10</td>\n",
       "    </tr>\n",
       "    <tr>\n",
       "      <th>25%</th>\n",
       "      <td>6.764835e+17</td>\n",
       "      <td>1.000000</td>\n",
       "      <td>0.364412</td>\n",
       "      <td>5.388625e-02</td>\n",
       "      <td>1.622240e-02</td>\n",
       "    </tr>\n",
       "    <tr>\n",
       "      <th>50%</th>\n",
       "      <td>7.119988e+17</td>\n",
       "      <td>1.000000</td>\n",
       "      <td>0.588230</td>\n",
       "      <td>1.181810e-01</td>\n",
       "      <td>4.944380e-02</td>\n",
       "    </tr>\n",
       "    <tr>\n",
       "      <th>75%</th>\n",
       "      <td>7.932034e+17</td>\n",
       "      <td>1.000000</td>\n",
       "      <td>0.843855</td>\n",
       "      <td>1.955655e-01</td>\n",
       "      <td>9.180755e-02</td>\n",
       "    </tr>\n",
       "    <tr>\n",
       "      <th>max</th>\n",
       "      <td>8.924206e+17</td>\n",
       "      <td>4.000000</td>\n",
       "      <td>1.000000</td>\n",
       "      <td>4.880140e-01</td>\n",
       "      <td>2.734190e-01</td>\n",
       "    </tr>\n",
       "  </tbody>\n",
       "</table>\n",
       "</div>"
      ],
      "text/plain": [
       "           tweet_id      img_num      p1_conf       p2_conf       p3_conf\n",
       "count  2.075000e+03  2075.000000  2075.000000  2.075000e+03  2.075000e+03\n",
       "mean   7.384514e+17     1.203855     0.594548  1.345886e-01  6.032417e-02\n",
       "std    6.785203e+16     0.561875     0.271174  1.006657e-01  5.090593e-02\n",
       "min    6.660209e+17     1.000000     0.044333  1.011300e-08  1.740170e-10\n",
       "25%    6.764835e+17     1.000000     0.364412  5.388625e-02  1.622240e-02\n",
       "50%    7.119988e+17     1.000000     0.588230  1.181810e-01  4.944380e-02\n",
       "75%    7.932034e+17     1.000000     0.843855  1.955655e-01  9.180755e-02\n",
       "max    8.924206e+17     4.000000     1.000000  4.880140e-01  2.734190e-01"
      ]
     },
     "execution_count": 25,
     "metadata": {},
     "output_type": "execute_result"
    }
   ],
   "source": [
    "img.describe()"
   ]
  },
  {
   "cell_type": "code",
   "execution_count": 26,
   "metadata": {},
   "outputs": [
    {
     "data": {
      "text/html": [
       "<div>\n",
       "<style scoped>\n",
       "    .dataframe tbody tr th:only-of-type {\n",
       "        vertical-align: middle;\n",
       "    }\n",
       "\n",
       "    .dataframe tbody tr th {\n",
       "        vertical-align: top;\n",
       "    }\n",
       "\n",
       "    .dataframe thead th {\n",
       "        text-align: right;\n",
       "    }\n",
       "</style>\n",
       "<table border=\"1\" class=\"dataframe\">\n",
       "  <thead>\n",
       "    <tr style=\"text-align: right;\">\n",
       "      <th></th>\n",
       "      <th>tweet_id</th>\n",
       "      <th>favorites</th>\n",
       "      <th>retweets</th>\n",
       "    </tr>\n",
       "  </thead>\n",
       "  <tbody>\n",
       "    <tr>\n",
       "      <th>0</th>\n",
       "      <td>892420643555336193</td>\n",
       "      <td>36067</td>\n",
       "      <td>7678</td>\n",
       "    </tr>\n",
       "    <tr>\n",
       "      <th>1</th>\n",
       "      <td>892177421306343426</td>\n",
       "      <td>31109</td>\n",
       "      <td>5678</td>\n",
       "    </tr>\n",
       "    <tr>\n",
       "      <th>2</th>\n",
       "      <td>891815181378084864</td>\n",
       "      <td>23422</td>\n",
       "      <td>3763</td>\n",
       "    </tr>\n",
       "    <tr>\n",
       "      <th>3</th>\n",
       "      <td>891689557279858688</td>\n",
       "      <td>39343</td>\n",
       "      <td>7851</td>\n",
       "    </tr>\n",
       "    <tr>\n",
       "      <th>4</th>\n",
       "      <td>891327558926688256</td>\n",
       "      <td>37585</td>\n",
       "      <td>8449</td>\n",
       "    </tr>\n",
       "    <tr>\n",
       "      <th>...</th>\n",
       "      <td>...</td>\n",
       "      <td>...</td>\n",
       "      <td>...</td>\n",
       "    </tr>\n",
       "    <tr>\n",
       "      <th>2325</th>\n",
       "      <td>666049248165822465</td>\n",
       "      <td>96</td>\n",
       "      <td>40</td>\n",
       "    </tr>\n",
       "    <tr>\n",
       "      <th>2326</th>\n",
       "      <td>666044226329800704</td>\n",
       "      <td>271</td>\n",
       "      <td>131</td>\n",
       "    </tr>\n",
       "    <tr>\n",
       "      <th>2327</th>\n",
       "      <td>666033412701032449</td>\n",
       "      <td>112</td>\n",
       "      <td>41</td>\n",
       "    </tr>\n",
       "    <tr>\n",
       "      <th>2328</th>\n",
       "      <td>666029285002620928</td>\n",
       "      <td>121</td>\n",
       "      <td>42</td>\n",
       "    </tr>\n",
       "    <tr>\n",
       "      <th>2329</th>\n",
       "      <td>666020888022790149</td>\n",
       "      <td>2404</td>\n",
       "      <td>460</td>\n",
       "    </tr>\n",
       "  </tbody>\n",
       "</table>\n",
       "<p>2330 rows × 3 columns</p>\n",
       "</div>"
      ],
      "text/plain": [
       "                tweet_id  favorites  retweets\n",
       "0     892420643555336193      36067      7678\n",
       "1     892177421306343426      31109      5678\n",
       "2     891815181378084864      23422      3763\n",
       "3     891689557279858688      39343      7851\n",
       "4     891327558926688256      37585      8449\n",
       "...                  ...        ...       ...\n",
       "2325  666049248165822465         96        40\n",
       "2326  666044226329800704        271       131\n",
       "2327  666033412701032449        112        41\n",
       "2328  666029285002620928        121        42\n",
       "2329  666020888022790149       2404       460\n",
       "\n",
       "[2330 rows x 3 columns]"
      ]
     },
     "execution_count": 26,
     "metadata": {},
     "output_type": "execute_result"
    }
   ],
   "source": [
    "tweets"
   ]
  },
  {
   "cell_type": "code",
   "execution_count": 27,
   "metadata": {},
   "outputs": [
    {
     "name": "stdout",
     "output_type": "stream",
     "text": [
      "<class 'pandas.core.frame.DataFrame'>\n",
      "RangeIndex: 2330 entries, 0 to 2329\n",
      "Data columns (total 3 columns):\n",
      " #   Column     Non-Null Count  Dtype\n",
      "---  ------     --------------  -----\n",
      " 0   tweet_id   2330 non-null   int64\n",
      " 1   favorites  2330 non-null   int64\n",
      " 2   retweets   2330 non-null   int64\n",
      "dtypes: int64(3)\n",
      "memory usage: 54.7 KB\n"
     ]
    }
   ],
   "source": [
    "tweets.info()"
   ]
  },
  {
   "cell_type": "code",
   "execution_count": 28,
   "metadata": {},
   "outputs": [
    {
     "data": {
      "text/plain": [
       "395          0\n",
       "446          0\n",
       "439          0\n",
       "437          0\n",
       "434          0\n",
       "         ...  \n",
       "1055    114972\n",
       "129     116051\n",
       "517     120177\n",
       "397     132594\n",
       "1015    155584\n",
       "Name: favorites, Length: 2330, dtype: int64"
      ]
     },
     "execution_count": 28,
     "metadata": {},
     "output_type": "execute_result"
    }
   ],
   "source": [
    "tweets.favorites.sort_values(ascending=True)"
   ]
  },
  {
   "cell_type": "code",
   "execution_count": 29,
   "metadata": {},
   "outputs": [
    {
     "data": {
      "text/plain": [
       "279         1\n",
       "262         2\n",
       "328         2\n",
       "1271        2\n",
       "109         3\n",
       "        ...  \n",
       "65      40477\n",
       "397     43632\n",
       "517     56477\n",
       "1055    57503\n",
       "1015    77509\n",
       "Name: retweets, Length: 2330, dtype: int64"
      ]
     },
     "execution_count": 29,
     "metadata": {},
     "output_type": "execute_result"
    }
   ],
   "source": [
    "tweets.retweets.sort_values(ascending=True)"
   ]
  },
  {
   "cell_type": "markdown",
   "metadata": {},
   "source": [
    "#### Quality\n",
    "##### `WeRateDog Twitter Archive` table\n",
    "- Timestamp not in date format\n",
    "- Rating Numerator and Dominator are not our of 10\n",
    "- Dog names contains wrong extraction\n",
    "- Dog types as None\n",
    "- Some no values cells are in string format of NaN\n",
    "\n",
    "\n",
    "##### `Image Prediction` table\n",
    "- Some predictions do not have capital letter in upper case\n",
    "- Dog prediction should be in categorical value\n",
    "\n",
    "\n",
    "##### `Retweet and Likes` table\n",
    "- Several errors occured when extract the json from Twitter"
   ]
  },
  {
   "cell_type": "markdown",
   "metadata": {},
   "source": [
    "<a id='clean'></a>\n",
    "## Clean"
   ]
  },
  {
   "cell_type": "code",
   "execution_count": 30,
   "metadata": {},
   "outputs": [],
   "source": [
    "# Copy dataframes\n",
    "wrd_clean = wrd.copy()\n",
    "img_clean = img.copy()\n",
    "tweets_clean = tweets.copy()"
   ]
  },
  {
   "cell_type": "markdown",
   "metadata": {},
   "source": [
    "#### 1"
   ]
  },
  {
   "cell_type": "markdown",
   "metadata": {},
   "source": [
    "#### Define"
   ]
  },
  {
   "cell_type": "markdown",
   "metadata": {},
   "source": [
    "Merging three datasets into one using the join function. Therefore, we cans start cleaning on a tidy structure."
   ]
  },
  {
   "cell_type": "markdown",
   "metadata": {},
   "source": [
    "#### Code"
   ]
  },
  {
   "cell_type": "code",
   "execution_count": 31,
   "metadata": {},
   "outputs": [],
   "source": [
    "# Merge the tables\n",
    "wrd_clean = pd.merge(left=wrd_clean, right=img_clean, left_on='tweet_id', right_on='tweet_id', how='inner')\n",
    "wrd_clean = pd.merge(left=wrd_clean, right=tweets_clean, left_on='tweet_id', right_on='tweet_id', how='inner')"
   ]
  },
  {
   "cell_type": "markdown",
   "metadata": {},
   "source": [
    "#### Test"
   ]
  },
  {
   "cell_type": "code",
   "execution_count": 32,
   "metadata": {
    "scrolled": true
   },
   "outputs": [
    {
     "data": {
      "text/html": [
       "<div>\n",
       "<style scoped>\n",
       "    .dataframe tbody tr th:only-of-type {\n",
       "        vertical-align: middle;\n",
       "    }\n",
       "\n",
       "    .dataframe tbody tr th {\n",
       "        vertical-align: top;\n",
       "    }\n",
       "\n",
       "    .dataframe thead th {\n",
       "        text-align: right;\n",
       "    }\n",
       "</style>\n",
       "<table border=\"1\" class=\"dataframe\">\n",
       "  <thead>\n",
       "    <tr style=\"text-align: right;\">\n",
       "      <th></th>\n",
       "      <th>tweet_id</th>\n",
       "      <th>in_reply_to_status_id</th>\n",
       "      <th>in_reply_to_user_id</th>\n",
       "      <th>timestamp</th>\n",
       "      <th>source</th>\n",
       "      <th>text</th>\n",
       "      <th>retweeted_status_id</th>\n",
       "      <th>retweeted_status_user_id</th>\n",
       "      <th>retweeted_status_timestamp</th>\n",
       "      <th>expanded_urls</th>\n",
       "      <th>...</th>\n",
       "      <th>p1_conf</th>\n",
       "      <th>p1_dog</th>\n",
       "      <th>p2</th>\n",
       "      <th>p2_conf</th>\n",
       "      <th>p2_dog</th>\n",
       "      <th>p3</th>\n",
       "      <th>p3_conf</th>\n",
       "      <th>p3_dog</th>\n",
       "      <th>favorites</th>\n",
       "      <th>retweets</th>\n",
       "    </tr>\n",
       "  </thead>\n",
       "  <tbody>\n",
       "    <tr>\n",
       "      <th>0</th>\n",
       "      <td>892420643555336193</td>\n",
       "      <td>NaN</td>\n",
       "      <td>NaN</td>\n",
       "      <td>2017-08-01 16:23:56 +0000</td>\n",
       "      <td>&lt;a href=\"http://twitter.com/download/iphone\" r...</td>\n",
       "      <td>This is Phineas. He's a mystical boy. Only eve...</td>\n",
       "      <td>NaN</td>\n",
       "      <td>NaN</td>\n",
       "      <td>NaN</td>\n",
       "      <td>https://twitter.com/dog_rates/status/892420643...</td>\n",
       "      <td>...</td>\n",
       "      <td>0.097049</td>\n",
       "      <td>False</td>\n",
       "      <td>bagel</td>\n",
       "      <td>0.085851</td>\n",
       "      <td>False</td>\n",
       "      <td>banana</td>\n",
       "      <td>0.076110</td>\n",
       "      <td>False</td>\n",
       "      <td>36067</td>\n",
       "      <td>7678</td>\n",
       "    </tr>\n",
       "    <tr>\n",
       "      <th>1</th>\n",
       "      <td>892177421306343426</td>\n",
       "      <td>NaN</td>\n",
       "      <td>NaN</td>\n",
       "      <td>2017-08-01 00:17:27 +0000</td>\n",
       "      <td>&lt;a href=\"http://twitter.com/download/iphone\" r...</td>\n",
       "      <td>This is Tilly. She's just checking pup on you....</td>\n",
       "      <td>NaN</td>\n",
       "      <td>NaN</td>\n",
       "      <td>NaN</td>\n",
       "      <td>https://twitter.com/dog_rates/status/892177421...</td>\n",
       "      <td>...</td>\n",
       "      <td>0.323581</td>\n",
       "      <td>True</td>\n",
       "      <td>Pekinese</td>\n",
       "      <td>0.090647</td>\n",
       "      <td>True</td>\n",
       "      <td>papillon</td>\n",
       "      <td>0.068957</td>\n",
       "      <td>True</td>\n",
       "      <td>31109</td>\n",
       "      <td>5678</td>\n",
       "    </tr>\n",
       "    <tr>\n",
       "      <th>2</th>\n",
       "      <td>891815181378084864</td>\n",
       "      <td>NaN</td>\n",
       "      <td>NaN</td>\n",
       "      <td>2017-07-31 00:18:03 +0000</td>\n",
       "      <td>&lt;a href=\"http://twitter.com/download/iphone\" r...</td>\n",
       "      <td>This is Archie. He is a rare Norwegian Pouncin...</td>\n",
       "      <td>NaN</td>\n",
       "      <td>NaN</td>\n",
       "      <td>NaN</td>\n",
       "      <td>https://twitter.com/dog_rates/status/891815181...</td>\n",
       "      <td>...</td>\n",
       "      <td>0.716012</td>\n",
       "      <td>True</td>\n",
       "      <td>malamute</td>\n",
       "      <td>0.078253</td>\n",
       "      <td>True</td>\n",
       "      <td>kelpie</td>\n",
       "      <td>0.031379</td>\n",
       "      <td>True</td>\n",
       "      <td>23422</td>\n",
       "      <td>3763</td>\n",
       "    </tr>\n",
       "    <tr>\n",
       "      <th>3</th>\n",
       "      <td>891689557279858688</td>\n",
       "      <td>NaN</td>\n",
       "      <td>NaN</td>\n",
       "      <td>2017-07-30 15:58:51 +0000</td>\n",
       "      <td>&lt;a href=\"http://twitter.com/download/iphone\" r...</td>\n",
       "      <td>This is Darla. She commenced a snooze mid meal...</td>\n",
       "      <td>NaN</td>\n",
       "      <td>NaN</td>\n",
       "      <td>NaN</td>\n",
       "      <td>https://twitter.com/dog_rates/status/891689557...</td>\n",
       "      <td>...</td>\n",
       "      <td>0.170278</td>\n",
       "      <td>False</td>\n",
       "      <td>Labrador_retriever</td>\n",
       "      <td>0.168086</td>\n",
       "      <td>True</td>\n",
       "      <td>spatula</td>\n",
       "      <td>0.040836</td>\n",
       "      <td>False</td>\n",
       "      <td>39343</td>\n",
       "      <td>7851</td>\n",
       "    </tr>\n",
       "    <tr>\n",
       "      <th>4</th>\n",
       "      <td>891327558926688256</td>\n",
       "      <td>NaN</td>\n",
       "      <td>NaN</td>\n",
       "      <td>2017-07-29 16:00:24 +0000</td>\n",
       "      <td>&lt;a href=\"http://twitter.com/download/iphone\" r...</td>\n",
       "      <td>This is Franklin. He would like you to stop ca...</td>\n",
       "      <td>NaN</td>\n",
       "      <td>NaN</td>\n",
       "      <td>NaN</td>\n",
       "      <td>https://twitter.com/dog_rates/status/891327558...</td>\n",
       "      <td>...</td>\n",
       "      <td>0.555712</td>\n",
       "      <td>True</td>\n",
       "      <td>English_springer</td>\n",
       "      <td>0.225770</td>\n",
       "      <td>True</td>\n",
       "      <td>German_short-haired_pointer</td>\n",
       "      <td>0.175219</td>\n",
       "      <td>True</td>\n",
       "      <td>37585</td>\n",
       "      <td>8449</td>\n",
       "    </tr>\n",
       "  </tbody>\n",
       "</table>\n",
       "<p>5 rows × 30 columns</p>\n",
       "</div>"
      ],
      "text/plain": [
       "             tweet_id  in_reply_to_status_id  in_reply_to_user_id  \\\n",
       "0  892420643555336193                    NaN                  NaN   \n",
       "1  892177421306343426                    NaN                  NaN   \n",
       "2  891815181378084864                    NaN                  NaN   \n",
       "3  891689557279858688                    NaN                  NaN   \n",
       "4  891327558926688256                    NaN                  NaN   \n",
       "\n",
       "                   timestamp  \\\n",
       "0  2017-08-01 16:23:56 +0000   \n",
       "1  2017-08-01 00:17:27 +0000   \n",
       "2  2017-07-31 00:18:03 +0000   \n",
       "3  2017-07-30 15:58:51 +0000   \n",
       "4  2017-07-29 16:00:24 +0000   \n",
       "\n",
       "                                              source  \\\n",
       "0  <a href=\"http://twitter.com/download/iphone\" r...   \n",
       "1  <a href=\"http://twitter.com/download/iphone\" r...   \n",
       "2  <a href=\"http://twitter.com/download/iphone\" r...   \n",
       "3  <a href=\"http://twitter.com/download/iphone\" r...   \n",
       "4  <a href=\"http://twitter.com/download/iphone\" r...   \n",
       "\n",
       "                                                text  retweeted_status_id  \\\n",
       "0  This is Phineas. He's a mystical boy. Only eve...                  NaN   \n",
       "1  This is Tilly. She's just checking pup on you....                  NaN   \n",
       "2  This is Archie. He is a rare Norwegian Pouncin...                  NaN   \n",
       "3  This is Darla. She commenced a snooze mid meal...                  NaN   \n",
       "4  This is Franklin. He would like you to stop ca...                  NaN   \n",
       "\n",
       "   retweeted_status_user_id retweeted_status_timestamp  \\\n",
       "0                       NaN                        NaN   \n",
       "1                       NaN                        NaN   \n",
       "2                       NaN                        NaN   \n",
       "3                       NaN                        NaN   \n",
       "4                       NaN                        NaN   \n",
       "\n",
       "                                       expanded_urls  ...   p1_conf  p1_dog  \\\n",
       "0  https://twitter.com/dog_rates/status/892420643...  ...  0.097049   False   \n",
       "1  https://twitter.com/dog_rates/status/892177421...  ...  0.323581    True   \n",
       "2  https://twitter.com/dog_rates/status/891815181...  ...  0.716012    True   \n",
       "3  https://twitter.com/dog_rates/status/891689557...  ...  0.170278   False   \n",
       "4  https://twitter.com/dog_rates/status/891327558...  ...  0.555712    True   \n",
       "\n",
       "                   p2   p2_conf p2_dog                           p3   p3_conf  \\\n",
       "0               bagel  0.085851  False                       banana  0.076110   \n",
       "1            Pekinese  0.090647   True                     papillon  0.068957   \n",
       "2            malamute  0.078253   True                       kelpie  0.031379   \n",
       "3  Labrador_retriever  0.168086   True                      spatula  0.040836   \n",
       "4    English_springer  0.225770   True  German_short-haired_pointer  0.175219   \n",
       "\n",
       "  p3_dog  favorites retweets  \n",
       "0  False      36067     7678  \n",
       "1   True      31109     5678  \n",
       "2   True      23422     3763  \n",
       "3  False      39343     7851  \n",
       "4   True      37585     8449  \n",
       "\n",
       "[5 rows x 30 columns]"
      ]
     },
     "execution_count": 32,
     "metadata": {},
     "output_type": "execute_result"
    }
   ],
   "source": [
    "wrd_clean.head()"
   ]
  },
  {
   "cell_type": "markdown",
   "metadata": {},
   "source": [
    "#### 2"
   ]
  },
  {
   "cell_type": "markdown",
   "metadata": {},
   "source": [
    "#### Define"
   ]
  },
  {
   "cell_type": "markdown",
   "metadata": {},
   "source": [
    "Remove all unwanted retweets."
   ]
  },
  {
   "cell_type": "markdown",
   "metadata": {},
   "source": [
    "#### Code"
   ]
  },
  {
   "cell_type": "code",
   "execution_count": 33,
   "metadata": {},
   "outputs": [],
   "source": [
    "# Only keep the rows with null retweet status and user id values\n",
    "wrd_clean = wrd_clean[wrd_clean['retweeted_status_id'].isnull()]\n",
    "wrd_clean = wrd_clean[wrd_clean['retweeted_status_user_id'].isnull()]\n",
    "wrd_clean = wrd_clean[wrd_clean['retweeted_status_timestamp'].isnull()]"
   ]
  },
  {
   "cell_type": "markdown",
   "metadata": {},
   "source": [
    "#### Test"
   ]
  },
  {
   "cell_type": "code",
   "execution_count": 34,
   "metadata": {},
   "outputs": [
    {
     "data": {
      "text/plain": [
       "Series([], Name: retweeted_status_id, dtype: int64)"
      ]
     },
     "execution_count": 34,
     "metadata": {},
     "output_type": "execute_result"
    }
   ],
   "source": [
    "# Check for any not null values\n",
    "wrd_clean.retweeted_status_id.value_counts()"
   ]
  },
  {
   "cell_type": "code",
   "execution_count": 35,
   "metadata": {},
   "outputs": [
    {
     "data": {
      "text/plain": [
       "Series([], Name: retweeted_status_user_id, dtype: int64)"
      ]
     },
     "execution_count": 35,
     "metadata": {},
     "output_type": "execute_result"
    }
   ],
   "source": [
    "# Check for any not null values\n",
    "wrd_clean.retweeted_status_user_id.value_counts()"
   ]
  },
  {
   "cell_type": "code",
   "execution_count": 36,
   "metadata": {},
   "outputs": [
    {
     "data": {
      "text/plain": [
       "Series([], Name: retweeted_status_timestamp, dtype: int64)"
      ]
     },
     "execution_count": 36,
     "metadata": {},
     "output_type": "execute_result"
    }
   ],
   "source": [
    "# Check for any not null values\n",
    "wrd_clean.retweeted_status_timestamp.value_counts()"
   ]
  },
  {
   "cell_type": "markdown",
   "metadata": {},
   "source": [
    "#### 3"
   ]
  },
  {
   "cell_type": "markdown",
   "metadata": {},
   "source": [
    "#### Define"
   ]
  },
  {
   "cell_type": "markdown",
   "metadata": {},
   "source": [
    "Remove all unwanted replies."
   ]
  },
  {
   "cell_type": "markdown",
   "metadata": {},
   "source": [
    "#### Code"
   ]
  },
  {
   "cell_type": "code",
   "execution_count": 37,
   "metadata": {},
   "outputs": [],
   "source": [
    "# Only keep the rows with null reply status and user id values\n",
    "wrd_clean = wrd_clean[wrd_clean['in_reply_to_status_id'].isnull()]\n",
    "wrd_clean = wrd_clean[wrd_clean['in_reply_to_user_id'].isnull()]\n"
   ]
  },
  {
   "cell_type": "markdown",
   "metadata": {},
   "source": [
    "#### Test"
   ]
  },
  {
   "cell_type": "code",
   "execution_count": 38,
   "metadata": {},
   "outputs": [
    {
     "data": {
      "text/plain": [
       "Series([], Name: in_reply_to_status_id, dtype: int64)"
      ]
     },
     "execution_count": 38,
     "metadata": {},
     "output_type": "execute_result"
    }
   ],
   "source": [
    "# Check for any not null values\n",
    "wrd_clean.in_reply_to_status_id.value_counts()"
   ]
  },
  {
   "cell_type": "code",
   "execution_count": 39,
   "metadata": {},
   "outputs": [
    {
     "data": {
      "text/plain": [
       "Series([], Name: in_reply_to_user_id, dtype: int64)"
      ]
     },
     "execution_count": 39,
     "metadata": {},
     "output_type": "execute_result"
    }
   ],
   "source": [
    "# Check for any not null values\n",
    "wrd_clean.in_reply_to_user_id.value_counts()"
   ]
  },
  {
   "cell_type": "markdown",
   "metadata": {},
   "source": [
    "#### 4"
   ]
  },
  {
   "cell_type": "markdown",
   "metadata": {},
   "source": [
    "#### Define"
   ]
  },
  {
   "cell_type": "markdown",
   "metadata": {},
   "source": [
    "Convert timestamp to yyyy/mm."
   ]
  },
  {
   "cell_type": "markdown",
   "metadata": {},
   "source": [
    "#### Code"
   ]
  },
  {
   "cell_type": "code",
   "execution_count": 40,
   "metadata": {},
   "outputs": [],
   "source": [
    "# Use to datetime to convert timestamp column\n",
    "wrd_clean.timestamp = wrd_clean['timestamp'].str.extract('(201\\d-\\d\\d)')"
   ]
  },
  {
   "cell_type": "markdown",
   "metadata": {},
   "source": [
    "#### Test"
   ]
  },
  {
   "cell_type": "code",
   "execution_count": 41,
   "metadata": {},
   "outputs": [
    {
     "data": {
      "text/plain": [
       "0    2017-08\n",
       "1    2017-08\n",
       "2    2017-07\n",
       "3    2017-07\n",
       "4    2017-07\n",
       "Name: timestamp, dtype: object"
      ]
     },
     "execution_count": 41,
     "metadata": {},
     "output_type": "execute_result"
    }
   ],
   "source": [
    "# Show the cleaned timestamp\n",
    "wrd_clean.timestamp.head()"
   ]
  },
  {
   "cell_type": "markdown",
   "metadata": {},
   "source": [
    "#### 5"
   ]
  },
  {
   "cell_type": "markdown",
   "metadata": {},
   "source": [
    "#### Define"
   ]
  },
  {
   "cell_type": "markdown",
   "metadata": {},
   "source": [
    "Convert the scores to (Score/10) format."
   ]
  },
  {
   "cell_type": "markdown",
   "metadata": {},
   "source": [
    "#### Code"
   ]
  },
  {
   "cell_type": "code",
   "execution_count": 42,
   "metadata": {},
   "outputs": [],
   "source": [
    "# Calculate the score out of time by interger dividing numerator by dominator times 10\n",
    "score= (wrd_clean.rating_numerator * 10//wrd_clean.rating_denominator) "
   ]
  },
  {
   "cell_type": "code",
   "execution_count": 43,
   "metadata": {},
   "outputs": [
    {
     "data": {
      "text/plain": [
       "789     1776\n",
       "1780     420\n",
       "548       75\n",
       "406       34\n",
       "603       27\n",
       "1438      26\n",
       "150       14\n",
       "743       14\n",
       "165       14\n",
       "50        14\n",
       "dtype: int64"
      ]
     },
     "execution_count": 43,
     "metadata": {},
     "output_type": "execute_result"
    }
   ],
   "source": [
    "# Sort to check numbers out of the limits\n",
    "score.sort_values(ascending=False).head(10)"
   ]
  },
  {
   "cell_type": "code",
   "execution_count": 44,
   "metadata": {},
   "outputs": [
    {
     "data": {
      "text/plain": [
       "241     0\n",
       "1964    1\n",
       "1581    1\n",
       "1797    1\n",
       "2040    1\n",
       "1482    2\n",
       "954     2\n",
       "2028    2\n",
       "1785    2\n",
       "1628    2\n",
       "dtype: int64"
      ]
     },
     "execution_count": 44,
     "metadata": {},
     "output_type": "execute_result"
    }
   ],
   "source": [
    "score.sort_values(ascending=True).head(10)"
   ]
  },
  {
   "cell_type": "code",
   "execution_count": 45,
   "metadata": {},
   "outputs": [],
   "source": [
    "# Clean score > 14\n",
    "wrd_clean = pd.concat( [wrd_clean, score.rename('score')], axis=1)\n",
    "wrd_clean.loc[(wrd_clean['score'] > 15), 'score'] = 14"
   ]
  },
  {
   "cell_type": "markdown",
   "metadata": {},
   "source": [
    "#### Test"
   ]
  },
  {
   "cell_type": "code",
   "execution_count": 46,
   "metadata": {},
   "outputs": [
    {
     "data": {
      "text/plain": [
       "count    1963.000000\n",
       "mean       10.534386\n",
       "std         2.188659\n",
       "min         0.000000\n",
       "25%        10.000000\n",
       "50%        11.000000\n",
       "75%        12.000000\n",
       "max        14.000000\n",
       "Name: score, dtype: float64"
      ]
     },
     "execution_count": 46,
     "metadata": {},
     "output_type": "execute_result"
    }
   ],
   "source": [
    "# Check for outliers\n",
    "wrd_clean.score.describe()"
   ]
  },
  {
   "cell_type": "markdown",
   "metadata": {},
   "source": [
    "#### 6"
   ]
  },
  {
   "cell_type": "markdown",
   "metadata": {},
   "source": [
    "#### Define"
   ]
  },
  {
   "cell_type": "markdown",
   "metadata": {},
   "source": [
    "Keep the true prediction with the highest confidence level."
   ]
  },
  {
   "cell_type": "markdown",
   "metadata": {},
   "source": [
    "#### Code"
   ]
  },
  {
   "cell_type": "code",
   "execution_count": 47,
   "metadata": {},
   "outputs": [],
   "source": [
    "# Use conitions to create new columns for dog breed and confidence\n",
    "wrd_clean.loc[(wrd_clean['p1_dog'] == True), 'prediction'] = wrd_clean['p1']\n",
    "wrd_clean.loc[(wrd_clean['p2_dog'] == True) & (wrd_clean['p1_dog'] == False), 'prediction'] = wrd_clean['p2']\n",
    "wrd_clean.loc[(wrd_clean['p3_dog'] == True) & (wrd_clean['p1_dog'] == False) & (wrd_clean['p2_dog'] == False), 'prediction'] = wrd_clean['p3']\n",
    "wrd_clean.loc[(wrd_clean['p3_dog'] == False) & (wrd_clean['p1_dog'] == False) & (wrd_clean['p2_dog'] == False), 'prediction'] = \"NaN\"\n",
    "\n",
    "wrd_clean.loc[(wrd_clean['p1_dog'] == True), 'confidence'] = wrd_clean['p1_conf']\n",
    "wrd_clean.loc[(wrd_clean['p2_dog'] == True) & (wrd_clean['p1_dog'] == False), 'confidence'] = wrd_clean['p2_conf']\n",
    "wrd_clean.loc[(wrd_clean['p3_dog'] == True) & (wrd_clean['p1_dog'] == False) & (wrd_clean['p2_dog'] == False), 'confidence'] = wrd_clean['p3_conf']\n",
    "wrd_clean.loc[(wrd_clean['p3_dog'] == False) & (wrd_clean['p1_dog'] == False) & (wrd_clean['p2_dog'] == False), 'confidence'] = \"NaN\"\n"
   ]
  },
  {
   "cell_type": "markdown",
   "metadata": {},
   "source": [
    "#### Test"
   ]
  },
  {
   "cell_type": "code",
   "execution_count": 48,
   "metadata": {},
   "outputs": [
    {
     "data": {
      "text/plain": [
       "NaN                   305\n",
       "golden_retriever      156\n",
       "Labrador_retriever    104\n",
       "Pembroke               94\n",
       "Chihuahua              90\n",
       "                     ... \n",
       "clumber                 1\n",
       "Japanese_spaniel        1\n",
       "Irish_wolfhound         1\n",
       "EntleBucher             1\n",
       "Scotch_terrier          1\n",
       "Name: prediction, Length: 114, dtype: int64"
      ]
     },
     "execution_count": 48,
     "metadata": {},
     "output_type": "execute_result"
    }
   ],
   "source": [
    "# Take a look at the dog types\n",
    "wrd_clean.prediction.value_counts()"
   ]
  },
  {
   "cell_type": "code",
   "execution_count": 49,
   "metadata": {},
   "outputs": [
    {
     "data": {
      "text/plain": [
       "0            NaN\n",
       "1       0.323581\n",
       "2       0.716012\n",
       "3       0.168086\n",
       "4       0.555712\n",
       "          ...   \n",
       "2053    0.560311\n",
       "2054    0.408143\n",
       "2055    0.596461\n",
       "2056    0.506826\n",
       "2057    0.465074\n",
       "Name: confidence, Length: 1963, dtype: object"
      ]
     },
     "execution_count": 49,
     "metadata": {},
     "output_type": "execute_result"
    }
   ],
   "source": [
    "# Take a look at the confidence\n",
    "wrd_clean.confidence"
   ]
  },
  {
   "cell_type": "markdown",
   "metadata": {},
   "source": [
    "#### 7"
   ]
  },
  {
   "cell_type": "markdown",
   "metadata": {},
   "source": [
    "Tidy up the dog breeds by capitalize first letters and remove underscore."
   ]
  },
  {
   "cell_type": "code",
   "execution_count": 50,
   "metadata": {},
   "outputs": [],
   "source": [
    "# Drop all NaN values in the prediction column\n",
    "wrd_clean['prediction'].replace('NaN', np.nan, inplace=True)\n",
    "wrd_clean.dropna(subset=['prediction'],inplace=True)\n",
    "\n"
   ]
  },
  {
   "cell_type": "code",
   "execution_count": 51,
   "metadata": {},
   "outputs": [],
   "source": [
    "# Capitalize every first character \n",
    "wrd_clean.prediction = wrd_clean.prediction.str.title()"
   ]
  },
  {
   "cell_type": "code",
   "execution_count": 52,
   "metadata": {},
   "outputs": [],
   "source": [
    "# Use pandas replace with replace underscore with space.\n",
    "wrd_clean.prediction = wrd_clean.prediction.replace(\"_\",\" \",regex=True)"
   ]
  },
  {
   "cell_type": "code",
   "execution_count": 53,
   "metadata": {},
   "outputs": [],
   "source": [
    "# Save god breeds as catogorical datatype\n",
    "wrd_clean['prediction'] = wrd_clean['prediction'].astype('category')\n"
   ]
  },
  {
   "cell_type": "markdown",
   "metadata": {},
   "source": [
    "#### Test"
   ]
  },
  {
   "cell_type": "code",
   "execution_count": 54,
   "metadata": {},
   "outputs": [
    {
     "data": {
      "text/plain": [
       "1                      Chihuahua\n",
       "2                      Chihuahua\n",
       "3             Labrador Retriever\n",
       "4                         Basset\n",
       "5       Chesapeake Bay Retriever\n",
       "                  ...           \n",
       "2053          Miniature Pinscher\n",
       "2054         Rhodesian Ridgeback\n",
       "2055             German Shepherd\n",
       "2056                     Redbone\n",
       "2057      Welsh Springer Spaniel\n",
       "Name: prediction, Length: 1658, dtype: category\n",
       "Categories (113, object): [Afghan Hound, Airedale, American Staffordshire Terrier, Appenzeller, ..., West Highland White Terrier, Whippet, Wire-Haired Fox Terrier, Yorkshire Terrier]"
      ]
     },
     "execution_count": 54,
     "metadata": {},
     "output_type": "execute_result"
    }
   ],
   "source": [
    "# Take a look at the dog types\n",
    "wrd_clean.prediction"
   ]
  },
  {
   "cell_type": "markdown",
   "metadata": {},
   "source": [
    "#### 8"
   ]
  },
  {
   "cell_type": "markdown",
   "metadata": {},
   "source": [
    "#### Define"
   ]
  },
  {
   "cell_type": "markdown",
   "metadata": {},
   "source": [
    "Merge doggo, floofer, pupper, puppo into one column."
   ]
  },
  {
   "cell_type": "markdown",
   "metadata": {},
   "source": [
    "#### Code"
   ]
  },
  {
   "cell_type": "code",
   "execution_count": 55,
   "metadata": {},
   "outputs": [],
   "source": [
    "# Extracting the dog stages into a new column, in descending order\n",
    "wrd_clean.loc[(wrd_clean['puppo'] == 'puppo'), 'stage'] = wrd_clean['puppo']\n",
    "wrd_clean.loc[(wrd_clean['pupper'] == 'pupper'), 'stage'] = wrd_clean['pupper']\n",
    "wrd_clean.loc[(wrd_clean['floofer'] == 'floofer'), 'stage'] = wrd_clean['floofer']\n",
    "wrd_clean.loc[(wrd_clean['doggo'] == 'doggo'), 'stage'] = wrd_clean['doggo']\n",
    "\n"
   ]
  },
  {
   "cell_type": "markdown",
   "metadata": {},
   "source": [
    "#### Test"
   ]
  },
  {
   "cell_type": "code",
   "execution_count": 56,
   "metadata": {},
   "outputs": [
    {
     "data": {
      "text/plain": [
       "1        NaN\n",
       "2        NaN\n",
       "3        NaN\n",
       "4        NaN\n",
       "5        NaN\n",
       "       ...  \n",
       "49       NaN\n",
       "50    pupper\n",
       "53       NaN\n",
       "54       NaN\n",
       "55       NaN\n",
       "Name: stage, Length: 50, dtype: object"
      ]
     },
     "execution_count": 56,
     "metadata": {},
     "output_type": "execute_result"
    }
   ],
   "source": [
    "# Take a look at the dog stages\n",
    "wrd_clean.stage.head(50)"
   ]
  },
  {
   "cell_type": "markdown",
   "metadata": {},
   "source": [
    "#### 9"
   ]
  },
  {
   "cell_type": "markdown",
   "metadata": {},
   "source": [
    "#### Define"
   ]
  },
  {
   "cell_type": "markdown",
   "metadata": {},
   "source": [
    "Some columns contain false prediction but occur in the cleaned data. Let's remove them."
   ]
  },
  {
   "cell_type": "markdown",
   "metadata": {},
   "source": [
    "#### Code"
   ]
  },
  {
   "cell_type": "code",
   "execution_count": 57,
   "metadata": {
    "scrolled": false
   },
   "outputs": [
    {
     "ename": "NameError",
     "evalue": "name 'wrd_new' is not defined",
     "output_type": "error",
     "traceback": [
      "\u001b[1;31m---------------------------------------------------------------------------\u001b[0m",
      "\u001b[1;31mNameError\u001b[0m                                 Traceback (most recent call last)",
      "\u001b[1;32m<ipython-input-57-195bf125d082>\u001b[0m in \u001b[0;36m<module>\u001b[1;34m\u001b[0m\n\u001b[0;32m      1\u001b[0m \u001b[1;31m# Check for invalid names\u001b[0m\u001b[1;33m\u001b[0m\u001b[1;33m\u001b[0m\u001b[1;33m\u001b[0m\u001b[0m\n\u001b[1;32m----> 2\u001b[1;33m \u001b[0mwrd_new\u001b[0m\u001b[1;33m.\u001b[0m\u001b[0mname\u001b[0m\u001b[1;33m.\u001b[0m\u001b[0mvalue_counts\u001b[0m\u001b[1;33m(\u001b[0m\u001b[1;33m)\u001b[0m\u001b[1;33m\u001b[0m\u001b[1;33m\u001b[0m\u001b[0m\n\u001b[0m",
      "\u001b[1;31mNameError\u001b[0m: name 'wrd_new' is not defined"
     ]
    }
   ],
   "source": [
    "# Check for invalid names\n",
    "wrd_new.name.value_counts()"
   ]
  },
  {
   "cell_type": "code",
   "execution_count": 58,
   "metadata": {},
   "outputs": [],
   "source": [
    "# Display full text length\n",
    "pd.options.display.max_colwidth = 120"
   ]
  },
  {
   "cell_type": "code",
   "execution_count": 59,
   "metadata": {
    "scrolled": true
   },
   "outputs": [
    {
     "data": {
      "text/plain": [
       "50      Here is a pupper approaching maximum borkdrive. Zooming at never before seen speeds. 14/10 paw-inspiring af \\n(IG: p...\n",
       "636     Guys this is getting so out of hand. We only rate dogs. This is a Galapagos Speed Panda. Pls only send dogs... 10/10...\n",
       "809     This is a mighty rare blue-tailed hammer sherk. Human almost lost a limb trying to take these. Be careful guys. 8/10...\n",
       "811     Viewer discretion is advised. This is a terrible attack in progress. Not even in water (tragic af). 4/10 bad sherk h...\n",
       "820     This is a carrot. We only rate dogs. Please only send in dogs. You all really should know this by now ...11/10 https...\n",
       "                                                                 ...                                                           \n",
       "2050    Here is a Siberian heavily armored polar bear mix. Strong owner. 10/10 I would do unspeakable things to pet this dog...\n",
       "2052    This is a truly beautiful English Wilson Staff retriever. Has a nice phone. Privileged. 10/10 would trade lives with...\n",
       "2054    This is a purebred Piers Morgan. Loves to Netflix and chill. Always looks like he forgot to unplug the iron. 6/10 ht...\n",
       "2055    Here is a very happy pup. Big fan of well-maintained decks. Just look at that tongue. 9/10 would cuddle af https://t...\n",
       "2056    This is a western brown Mitsubishi terrier. Upset about leaf. Actually 2 dogs here. 7/10 would walk the shit out of ...\n",
       "Name: text, Length: 46, dtype: object"
      ]
     },
     "execution_count": 59,
     "metadata": {},
     "output_type": "execute_result"
    }
   ],
   "source": [
    "# Show all dogs named 'a'\n",
    "wrd_clean.text[wrd_clean.name == 'a']"
   ]
  },
  {
   "cell_type": "code",
   "execution_count": 60,
   "metadata": {},
   "outputs": [],
   "source": [
    "# The false preiction contains the phrase - 'only rate dogs'. Remove these columns\n",
    "wrd_clean.text = wrd_clean.text.replace(\".+only rate dogs.+\",np.nan,regex=True)\n",
    "wrd_clean.dropna(subset=['text'],inplace=True)"
   ]
  },
  {
   "cell_type": "markdown",
   "metadata": {},
   "source": [
    "#### Test"
   ]
  },
  {
   "cell_type": "code",
   "execution_count": 61,
   "metadata": {},
   "outputs": [
    {
     "data": {
      "text/plain": [
       "50      Here is a pupper approaching maximum borkdrive. Zooming at never before seen speeds. 14/10 paw-inspiring af \\n(IG: p...\n",
       "809     This is a mighty rare blue-tailed hammer sherk. Human almost lost a limb trying to take these. Be careful guys. 8/10...\n",
       "811     Viewer discretion is advised. This is a terrible attack in progress. Not even in water (tragic af). 4/10 bad sherk h...\n",
       "846     This is a very rare Great Alaskan Bush Pupper. Hard to stumble upon without spooking. 12/10 would pet passionately h...\n",
       "1109         Here is a heartbreaking scene of an incredible pupper being laid to rest. 10/10 RIP pupper https://t.co/81mvJ0rGRu\n",
       "                                                                 ...                                                           \n",
       "2050    Here is a Siberian heavily armored polar bear mix. Strong owner. 10/10 I would do unspeakable things to pet this dog...\n",
       "2052    This is a truly beautiful English Wilson Staff retriever. Has a nice phone. Privileged. 10/10 would trade lives with...\n",
       "2054    This is a purebred Piers Morgan. Loves to Netflix and chill. Always looks like he forgot to unplug the iron. 6/10 ht...\n",
       "2055    Here is a very happy pup. Big fan of well-maintained decks. Just look at that tongue. 9/10 would cuddle af https://t...\n",
       "2056    This is a western brown Mitsubishi terrier. Upset about leaf. Actually 2 dogs here. 7/10 would walk the shit out of ...\n",
       "Name: text, Length: 39, dtype: object"
      ]
     },
     "execution_count": 61,
     "metadata": {},
     "output_type": "execute_result"
    }
   ],
   "source": [
    "# Show 'a' with no dog names\n",
    "wrd_clean.text[wrd_clean.name == 'a']"
   ]
  },
  {
   "cell_type": "markdown",
   "metadata": {},
   "source": [
    "#### 10"
   ]
  },
  {
   "cell_type": "markdown",
   "metadata": {},
   "source": [
    "#### Define"
   ]
  },
  {
   "cell_type": "markdown",
   "metadata": {},
   "source": [
    "Correct names for 'a', 'the' and other invaild names for dogs."
   ]
  },
  {
   "cell_type": "markdown",
   "metadata": {},
   "source": [
    "#### Code"
   ]
  },
  {
   "cell_type": "markdown",
   "metadata": {},
   "source": [
    "pd.set_option('display.max_row', 50)"
   ]
  },
  {
   "cell_type": "code",
   "execution_count": 62,
   "metadata": {
    "scrolled": false
   },
   "outputs": [
    {
     "ename": "NameError",
     "evalue": "name 'wrd_new' is not defined",
     "output_type": "error",
     "traceback": [
      "\u001b[1;31m---------------------------------------------------------------------------\u001b[0m",
      "\u001b[1;31mNameError\u001b[0m                                 Traceback (most recent call last)",
      "\u001b[1;32m<ipython-input-62-a6d69bcc6f04>\u001b[0m in \u001b[0;36m<module>\u001b[1;34m\u001b[0m\n\u001b[0;32m      1\u001b[0m \u001b[1;31m# Find out which name to fix\u001b[0m\u001b[1;33m\u001b[0m\u001b[1;33m\u001b[0m\u001b[1;33m\u001b[0m\u001b[0m\n\u001b[1;32m----> 2\u001b[1;33m \u001b[0mwrd_new\u001b[0m\u001b[1;33m.\u001b[0m\u001b[0mname\u001b[0m\u001b[1;33m.\u001b[0m\u001b[0mvalue_counts\u001b[0m\u001b[1;33m(\u001b[0m\u001b[1;33m)\u001b[0m\u001b[1;33m.\u001b[0m\u001b[0mhead\u001b[0m\u001b[1;33m(\u001b[0m\u001b[1;36m50\u001b[0m\u001b[1;33m)\u001b[0m\u001b[1;33m\u001b[0m\u001b[1;33m\u001b[0m\u001b[0m\n\u001b[0m",
      "\u001b[1;31mNameError\u001b[0m: name 'wrd_new' is not defined"
     ]
    }
   ],
   "source": [
    "# Find out which name to fix\n",
    "wrd_new.name.value_counts().head(50)"
   ]
  },
  {
   "cell_type": "code",
   "execution_count": 63,
   "metadata": {
    "scrolled": false
   },
   "outputs": [
    {
     "data": {
      "text/html": [
       "<div>\n",
       "<style scoped>\n",
       "    .dataframe tbody tr th:only-of-type {\n",
       "        vertical-align: middle;\n",
       "    }\n",
       "\n",
       "    .dataframe tbody tr th {\n",
       "        vertical-align: top;\n",
       "    }\n",
       "\n",
       "    .dataframe thead th {\n",
       "        text-align: right;\n",
       "    }\n",
       "</style>\n",
       "<table border=\"1\" class=\"dataframe\">\n",
       "  <thead>\n",
       "    <tr style=\"text-align: right;\">\n",
       "      <th></th>\n",
       "      <th>tweet_id</th>\n",
       "      <th>in_reply_to_status_id</th>\n",
       "      <th>in_reply_to_user_id</th>\n",
       "      <th>timestamp</th>\n",
       "      <th>source</th>\n",
       "      <th>text</th>\n",
       "      <th>retweeted_status_id</th>\n",
       "      <th>retweeted_status_user_id</th>\n",
       "      <th>retweeted_status_timestamp</th>\n",
       "      <th>expanded_urls</th>\n",
       "      <th>...</th>\n",
       "      <th>p2_dog</th>\n",
       "      <th>p3</th>\n",
       "      <th>p3_conf</th>\n",
       "      <th>p3_dog</th>\n",
       "      <th>favorites</th>\n",
       "      <th>retweets</th>\n",
       "      <th>score</th>\n",
       "      <th>prediction</th>\n",
       "      <th>confidence</th>\n",
       "      <th>stage</th>\n",
       "    </tr>\n",
       "  </thead>\n",
       "  <tbody>\n",
       "    <tr>\n",
       "      <th>5</th>\n",
       "      <td>891087950875897856</td>\n",
       "      <td>NaN</td>\n",
       "      <td>NaN</td>\n",
       "      <td>2017-07</td>\n",
       "      <td>&lt;a href=\"http://twitter.com/download/iphone\" rel=\"nofollow\"&gt;Twitter for iPhone&lt;/a&gt;</td>\n",
       "      <td>Here we have a majestic great white breaching off South Africa's coast. Absolutely h*ckin breathtaking. 13/10 (IG: t...</td>\n",
       "      <td>NaN</td>\n",
       "      <td>NaN</td>\n",
       "      <td>NaN</td>\n",
       "      <td>https://twitter.com/dog_rates/status/891087950875897856/photo/1</td>\n",
       "      <td>...</td>\n",
       "      <td>True</td>\n",
       "      <td>Indian_elephant</td>\n",
       "      <td>0.076902</td>\n",
       "      <td>False</td>\n",
       "      <td>18937</td>\n",
       "      <td>2835</td>\n",
       "      <td>13</td>\n",
       "      <td>Chesapeake Bay Retriever</td>\n",
       "      <td>0.425595</td>\n",
       "      <td>NaN</td>\n",
       "    </tr>\n",
       "    <tr>\n",
       "      <th>7</th>\n",
       "      <td>890729181411237888</td>\n",
       "      <td>NaN</td>\n",
       "      <td>NaN</td>\n",
       "      <td>2017-07</td>\n",
       "      <td>&lt;a href=\"http://twitter.com/download/iphone\" rel=\"nofollow\"&gt;Twitter for iPhone&lt;/a&gt;</td>\n",
       "      <td>When you watch your owner call another dog a good boy but then they turn back to you and say you're a great boy. 13/...</td>\n",
       "      <td>NaN</td>\n",
       "      <td>NaN</td>\n",
       "      <td>NaN</td>\n",
       "      <td>https://twitter.com/dog_rates/status/890729181411237888/photo/1,https://twitter.com/dog_rates/status/890729181411237...</td>\n",
       "      <td>...</td>\n",
       "      <td>True</td>\n",
       "      <td>Pembroke</td>\n",
       "      <td>0.076507</td>\n",
       "      <td>True</td>\n",
       "      <td>60749</td>\n",
       "      <td>17133</td>\n",
       "      <td>13</td>\n",
       "      <td>Pomeranian</td>\n",
       "      <td>0.566142</td>\n",
       "      <td>NaN</td>\n",
       "    </tr>\n",
       "    <tr>\n",
       "      <th>12</th>\n",
       "      <td>889665388333682689</td>\n",
       "      <td>NaN</td>\n",
       "      <td>NaN</td>\n",
       "      <td>2017-07</td>\n",
       "      <td>&lt;a href=\"http://twitter.com/download/iphone\" rel=\"nofollow\"&gt;Twitter for iPhone&lt;/a&gt;</td>\n",
       "      <td>Here's a puppo that seems to be on the fence about something haha no but seriously someone help her. 13/10 https://t...</td>\n",
       "      <td>NaN</td>\n",
       "      <td>NaN</td>\n",
       "      <td>NaN</td>\n",
       "      <td>https://twitter.com/dog_rates/status/889665388333682689/photo/1</td>\n",
       "      <td>...</td>\n",
       "      <td>True</td>\n",
       "      <td>basenji</td>\n",
       "      <td>0.004633</td>\n",
       "      <td>True</td>\n",
       "      <td>44895</td>\n",
       "      <td>9085</td>\n",
       "      <td>13</td>\n",
       "      <td>Pembroke</td>\n",
       "      <td>0.966327</td>\n",
       "      <td>puppo</td>\n",
       "    </tr>\n",
       "    <tr>\n",
       "      <th>23</th>\n",
       "      <td>887343217045368832</td>\n",
       "      <td>NaN</td>\n",
       "      <td>NaN</td>\n",
       "      <td>2017-07</td>\n",
       "      <td>&lt;a href=\"http://twitter.com/download/iphone\" rel=\"nofollow\"&gt;Twitter for iPhone&lt;/a&gt;</td>\n",
       "      <td>You may not have known you needed to see this today. 13/10 please enjoy (IG: emmylouroo) https://t.co/WZqNqygEyV</td>\n",
       "      <td>NaN</td>\n",
       "      <td>NaN</td>\n",
       "      <td>NaN</td>\n",
       "      <td>https://twitter.com/dog_rates/status/887343217045368832/video/1</td>\n",
       "      <td>...</td>\n",
       "      <td>False</td>\n",
       "      <td>Weimaraner</td>\n",
       "      <td>0.134203</td>\n",
       "      <td>True</td>\n",
       "      <td>31454</td>\n",
       "      <td>9520</td>\n",
       "      <td>13</td>\n",
       "      <td>Mexican Hairless</td>\n",
       "      <td>0.330741</td>\n",
       "      <td>NaN</td>\n",
       "    </tr>\n",
       "    <tr>\n",
       "      <th>33</th>\n",
       "      <td>885167619883638784</td>\n",
       "      <td>NaN</td>\n",
       "      <td>NaN</td>\n",
       "      <td>2017-07</td>\n",
       "      <td>&lt;a href=\"http://twitter.com/download/iphone\" rel=\"nofollow\"&gt;Twitter for iPhone&lt;/a&gt;</td>\n",
       "      <td>Here we have a corgi undercover as a malamute. Pawbably doing important investigative work. Zero control over tongue...</td>\n",
       "      <td>NaN</td>\n",
       "      <td>NaN</td>\n",
       "      <td>NaN</td>\n",
       "      <td>https://twitter.com/dog_rates/status/885167619883638784/photo/1,https://twitter.com/dog_rates/status/885167619883638...</td>\n",
       "      <td>...</td>\n",
       "      <td>True</td>\n",
       "      <td>Eskimo_dog</td>\n",
       "      <td>0.055770</td>\n",
       "      <td>True</td>\n",
       "      <td>20454</td>\n",
       "      <td>3971</td>\n",
       "      <td>13</td>\n",
       "      <td>Malamute</td>\n",
       "      <td>0.812482</td>\n",
       "      <td>NaN</td>\n",
       "    </tr>\n",
       "    <tr>\n",
       "      <th>...</th>\n",
       "      <td>...</td>\n",
       "      <td>...</td>\n",
       "      <td>...</td>\n",
       "      <td>...</td>\n",
       "      <td>...</td>\n",
       "      <td>...</td>\n",
       "      <td>...</td>\n",
       "      <td>...</td>\n",
       "      <td>...</td>\n",
       "      <td>...</td>\n",
       "      <td>...</td>\n",
       "      <td>...</td>\n",
       "      <td>...</td>\n",
       "      <td>...</td>\n",
       "      <td>...</td>\n",
       "      <td>...</td>\n",
       "      <td>...</td>\n",
       "      <td>...</td>\n",
       "      <td>...</td>\n",
       "      <td>...</td>\n",
       "      <td>...</td>\n",
       "    </tr>\n",
       "    <tr>\n",
       "      <th>2044</th>\n",
       "      <td>666082916733198337</td>\n",
       "      <td>NaN</td>\n",
       "      <td>NaN</td>\n",
       "      <td>2015-11</td>\n",
       "      <td>&lt;a href=\"http://twitter.com/download/iphone\" rel=\"nofollow\"&gt;Twitter for iPhone&lt;/a&gt;</td>\n",
       "      <td>Here we have a well-established sunblockerspaniel. Lost his other flip-flop. 6/10 not very waterproof https://t.co/3...</td>\n",
       "      <td>NaN</td>\n",
       "      <td>NaN</td>\n",
       "      <td>NaN</td>\n",
       "      <td>https://twitter.com/dog_rates/status/666082916733198337/photo/1</td>\n",
       "      <td>...</td>\n",
       "      <td>True</td>\n",
       "      <td>French_bulldog</td>\n",
       "      <td>0.048960</td>\n",
       "      <td>True</td>\n",
       "      <td>103</td>\n",
       "      <td>41</td>\n",
       "      <td>6</td>\n",
       "      <td>Pug</td>\n",
       "      <td>0.489814</td>\n",
       "      <td>NaN</td>\n",
       "    </tr>\n",
       "    <tr>\n",
       "      <th>2045</th>\n",
       "      <td>666073100786774016</td>\n",
       "      <td>NaN</td>\n",
       "      <td>NaN</td>\n",
       "      <td>2015-11</td>\n",
       "      <td>&lt;a href=\"http://twitter.com/download/iphone\" rel=\"nofollow\"&gt;Twitter for iPhone&lt;/a&gt;</td>\n",
       "      <td>Let's hope this flight isn't Malaysian (lol). What a dog! Almost completely camouflaged. 10/10 I trust this pilot ht...</td>\n",
       "      <td>NaN</td>\n",
       "      <td>NaN</td>\n",
       "      <td>NaN</td>\n",
       "      <td>https://twitter.com/dog_rates/status/666073100786774016/photo/1</td>\n",
       "      <td>...</td>\n",
       "      <td>True</td>\n",
       "      <td>Ibizan_hound</td>\n",
       "      <td>0.097471</td>\n",
       "      <td>True</td>\n",
       "      <td>297</td>\n",
       "      <td>146</td>\n",
       "      <td>10</td>\n",
       "      <td>Walker Hound</td>\n",
       "      <td>0.260857</td>\n",
       "      <td>NaN</td>\n",
       "    </tr>\n",
       "    <tr>\n",
       "      <th>2046</th>\n",
       "      <td>666071193221509120</td>\n",
       "      <td>NaN</td>\n",
       "      <td>NaN</td>\n",
       "      <td>2015-11</td>\n",
       "      <td>&lt;a href=\"http://twitter.com/download/iphone\" rel=\"nofollow\"&gt;Twitter for iPhone&lt;/a&gt;</td>\n",
       "      <td>Here we have a northern speckled Rhododendron. Much sass. Gives 0 fucks. Good tongue. 9/10 would caress sensually ht...</td>\n",
       "      <td>NaN</td>\n",
       "      <td>NaN</td>\n",
       "      <td>NaN</td>\n",
       "      <td>https://twitter.com/dog_rates/status/666071193221509120/photo/1</td>\n",
       "      <td>...</td>\n",
       "      <td>True</td>\n",
       "      <td>Pekinese</td>\n",
       "      <td>0.109454</td>\n",
       "      <td>True</td>\n",
       "      <td>136</td>\n",
       "      <td>52</td>\n",
       "      <td>9</td>\n",
       "      <td>Gordon Setter</td>\n",
       "      <td>0.503672</td>\n",
       "      <td>NaN</td>\n",
       "    </tr>\n",
       "    <tr>\n",
       "      <th>2053</th>\n",
       "      <td>666049248165822465</td>\n",
       "      <td>NaN</td>\n",
       "      <td>NaN</td>\n",
       "      <td>2015-11</td>\n",
       "      <td>&lt;a href=\"http://twitter.com/download/iphone\" rel=\"nofollow\"&gt;Twitter for iPhone&lt;/a&gt;</td>\n",
       "      <td>Here we have a 1949 1st generation vulpix. Enjoys sweat tea and Fox News. Cannot be phased. 5/10 https://t.co/4B7cOc...</td>\n",
       "      <td>NaN</td>\n",
       "      <td>NaN</td>\n",
       "      <td>NaN</td>\n",
       "      <td>https://twitter.com/dog_rates/status/666049248165822465/photo/1</td>\n",
       "      <td>...</td>\n",
       "      <td>True</td>\n",
       "      <td>Doberman</td>\n",
       "      <td>0.154629</td>\n",
       "      <td>True</td>\n",
       "      <td>96</td>\n",
       "      <td>40</td>\n",
       "      <td>5</td>\n",
       "      <td>Miniature Pinscher</td>\n",
       "      <td>0.560311</td>\n",
       "      <td>NaN</td>\n",
       "    </tr>\n",
       "    <tr>\n",
       "      <th>2057</th>\n",
       "      <td>666020888022790149</td>\n",
       "      <td>NaN</td>\n",
       "      <td>NaN</td>\n",
       "      <td>2015-11</td>\n",
       "      <td>&lt;a href=\"http://twitter.com/download/iphone\" rel=\"nofollow\"&gt;Twitter for iPhone&lt;/a&gt;</td>\n",
       "      <td>Here we have a Japanese Irish Setter. Lost eye in Vietnam (?). Big fan of relaxing on stair. 8/10 would pet https://...</td>\n",
       "      <td>NaN</td>\n",
       "      <td>NaN</td>\n",
       "      <td>NaN</td>\n",
       "      <td>https://twitter.com/dog_rates/status/666020888022790149/photo/1</td>\n",
       "      <td>...</td>\n",
       "      <td>True</td>\n",
       "      <td>Shetland_sheepdog</td>\n",
       "      <td>0.061428</td>\n",
       "      <td>True</td>\n",
       "      <td>2404</td>\n",
       "      <td>460</td>\n",
       "      <td>8</td>\n",
       "      <td>Welsh Springer Spaniel</td>\n",
       "      <td>0.465074</td>\n",
       "      <td>NaN</td>\n",
       "    </tr>\n",
       "  </tbody>\n",
       "</table>\n",
       "<p>370 rows × 34 columns</p>\n",
       "</div>"
      ],
      "text/plain": [
       "                tweet_id  in_reply_to_status_id  in_reply_to_user_id  \\\n",
       "5     891087950875897856                    NaN                  NaN   \n",
       "7     890729181411237888                    NaN                  NaN   \n",
       "12    889665388333682689                    NaN                  NaN   \n",
       "23    887343217045368832                    NaN                  NaN   \n",
       "33    885167619883638784                    NaN                  NaN   \n",
       "...                  ...                    ...                  ...   \n",
       "2044  666082916733198337                    NaN                  NaN   \n",
       "2045  666073100786774016                    NaN                  NaN   \n",
       "2046  666071193221509120                    NaN                  NaN   \n",
       "2053  666049248165822465                    NaN                  NaN   \n",
       "2057  666020888022790149                    NaN                  NaN   \n",
       "\n",
       "     timestamp  \\\n",
       "5      2017-07   \n",
       "7      2017-07   \n",
       "12     2017-07   \n",
       "23     2017-07   \n",
       "33     2017-07   \n",
       "...        ...   \n",
       "2044   2015-11   \n",
       "2045   2015-11   \n",
       "2046   2015-11   \n",
       "2053   2015-11   \n",
       "2057   2015-11   \n",
       "\n",
       "                                                                                  source  \\\n",
       "5     <a href=\"http://twitter.com/download/iphone\" rel=\"nofollow\">Twitter for iPhone</a>   \n",
       "7     <a href=\"http://twitter.com/download/iphone\" rel=\"nofollow\">Twitter for iPhone</a>   \n",
       "12    <a href=\"http://twitter.com/download/iphone\" rel=\"nofollow\">Twitter for iPhone</a>   \n",
       "23    <a href=\"http://twitter.com/download/iphone\" rel=\"nofollow\">Twitter for iPhone</a>   \n",
       "33    <a href=\"http://twitter.com/download/iphone\" rel=\"nofollow\">Twitter for iPhone</a>   \n",
       "...                                                                                  ...   \n",
       "2044  <a href=\"http://twitter.com/download/iphone\" rel=\"nofollow\">Twitter for iPhone</a>   \n",
       "2045  <a href=\"http://twitter.com/download/iphone\" rel=\"nofollow\">Twitter for iPhone</a>   \n",
       "2046  <a href=\"http://twitter.com/download/iphone\" rel=\"nofollow\">Twitter for iPhone</a>   \n",
       "2053  <a href=\"http://twitter.com/download/iphone\" rel=\"nofollow\">Twitter for iPhone</a>   \n",
       "2057  <a href=\"http://twitter.com/download/iphone\" rel=\"nofollow\">Twitter for iPhone</a>   \n",
       "\n",
       "                                                                                                                         text  \\\n",
       "5     Here we have a majestic great white breaching off South Africa's coast. Absolutely h*ckin breathtaking. 13/10 (IG: t...   \n",
       "7     When you watch your owner call another dog a good boy but then they turn back to you and say you're a great boy. 13/...   \n",
       "12    Here's a puppo that seems to be on the fence about something haha no but seriously someone help her. 13/10 https://t...   \n",
       "23           You may not have known you needed to see this today. 13/10 please enjoy (IG: emmylouroo) https://t.co/WZqNqygEyV   \n",
       "33    Here we have a corgi undercover as a malamute. Pawbably doing important investigative work. Zero control over tongue...   \n",
       "...                                                                                                                       ...   \n",
       "2044  Here we have a well-established sunblockerspaniel. Lost his other flip-flop. 6/10 not very waterproof https://t.co/3...   \n",
       "2045  Let's hope this flight isn't Malaysian (lol). What a dog! Almost completely camouflaged. 10/10 I trust this pilot ht...   \n",
       "2046  Here we have a northern speckled Rhododendron. Much sass. Gives 0 fucks. Good tongue. 9/10 would caress sensually ht...   \n",
       "2053  Here we have a 1949 1st generation vulpix. Enjoys sweat tea and Fox News. Cannot be phased. 5/10 https://t.co/4B7cOc...   \n",
       "2057  Here we have a Japanese Irish Setter. Lost eye in Vietnam (?). Big fan of relaxing on stair. 8/10 would pet https://...   \n",
       "\n",
       "      retweeted_status_id  retweeted_status_user_id  \\\n",
       "5                     NaN                       NaN   \n",
       "7                     NaN                       NaN   \n",
       "12                    NaN                       NaN   \n",
       "23                    NaN                       NaN   \n",
       "33                    NaN                       NaN   \n",
       "...                   ...                       ...   \n",
       "2044                  NaN                       NaN   \n",
       "2045                  NaN                       NaN   \n",
       "2046                  NaN                       NaN   \n",
       "2053                  NaN                       NaN   \n",
       "2057                  NaN                       NaN   \n",
       "\n",
       "     retweeted_status_timestamp  \\\n",
       "5                           NaN   \n",
       "7                           NaN   \n",
       "12                          NaN   \n",
       "23                          NaN   \n",
       "33                          NaN   \n",
       "...                         ...   \n",
       "2044                        NaN   \n",
       "2045                        NaN   \n",
       "2046                        NaN   \n",
       "2053                        NaN   \n",
       "2057                        NaN   \n",
       "\n",
       "                                                                                                                expanded_urls  \\\n",
       "5                                                             https://twitter.com/dog_rates/status/891087950875897856/photo/1   \n",
       "7     https://twitter.com/dog_rates/status/890729181411237888/photo/1,https://twitter.com/dog_rates/status/890729181411237...   \n",
       "12                                                            https://twitter.com/dog_rates/status/889665388333682689/photo/1   \n",
       "23                                                            https://twitter.com/dog_rates/status/887343217045368832/video/1   \n",
       "33    https://twitter.com/dog_rates/status/885167619883638784/photo/1,https://twitter.com/dog_rates/status/885167619883638...   \n",
       "...                                                                                                                       ...   \n",
       "2044                                                          https://twitter.com/dog_rates/status/666082916733198337/photo/1   \n",
       "2045                                                          https://twitter.com/dog_rates/status/666073100786774016/photo/1   \n",
       "2046                                                          https://twitter.com/dog_rates/status/666071193221509120/photo/1   \n",
       "2053                                                          https://twitter.com/dog_rates/status/666049248165822465/photo/1   \n",
       "2057                                                          https://twitter.com/dog_rates/status/666020888022790149/photo/1   \n",
       "\n",
       "      ...  p2_dog                 p3   p3_conf p3_dog favorites retweets  \\\n",
       "5     ...    True    Indian_elephant  0.076902  False     18937     2835   \n",
       "7     ...    True           Pembroke  0.076507   True     60749    17133   \n",
       "12    ...    True            basenji  0.004633   True     44895     9085   \n",
       "23    ...   False         Weimaraner  0.134203   True     31454     9520   \n",
       "33    ...    True         Eskimo_dog  0.055770   True     20454     3971   \n",
       "...   ...     ...                ...       ...    ...       ...      ...   \n",
       "2044  ...    True     French_bulldog  0.048960   True       103       41   \n",
       "2045  ...    True       Ibizan_hound  0.097471   True       297      146   \n",
       "2046  ...    True           Pekinese  0.109454   True       136       52   \n",
       "2053  ...    True           Doberman  0.154629   True        96       40   \n",
       "2057  ...    True  Shetland_sheepdog  0.061428   True      2404      460   \n",
       "\n",
       "     score                prediction  confidence  stage  \n",
       "5       13  Chesapeake Bay Retriever    0.425595    NaN  \n",
       "7       13                Pomeranian    0.566142    NaN  \n",
       "12      13                  Pembroke    0.966327  puppo  \n",
       "23      13          Mexican Hairless    0.330741    NaN  \n",
       "33      13                  Malamute    0.812482    NaN  \n",
       "...    ...                       ...         ...    ...  \n",
       "2044     6                       Pug    0.489814    NaN  \n",
       "2045    10              Walker Hound    0.260857    NaN  \n",
       "2046     9             Gordon Setter    0.503672    NaN  \n",
       "2053     5        Miniature Pinscher    0.560311    NaN  \n",
       "2057     8    Welsh Springer Spaniel    0.465074    NaN  \n",
       "\n",
       "[370 rows x 34 columns]"
      ]
     },
     "execution_count": 63,
     "metadata": {},
     "output_type": "execute_result"
    }
   ],
   "source": [
    "# These 'none' names do not include any dog names\n",
    "wrd_clean[wrd_clean.name == 'None']"
   ]
  },
  {
   "cell_type": "code",
   "execution_count": 64,
   "metadata": {},
   "outputs": [
    {
     "data": {
      "text/plain": [
       "1339    This is the newly formed pupper a capella group. They're just starting out but I see tons of potential. 8/10 for all...\n",
       "1515                           This is the happiest pupper I've ever seen. 10/10 would trade lives with https://t.co/ep8ATEJwRb\n",
       "1531                                 This is the saddest/sweetest/best picture I've been sent. 12/10 😢🐶 https://t.co/vQ2Lw1BLBF\n",
       "1744    This is the best thing I've ever seen so spread it like wildfire &amp; maybe we'll find the genius who created it. 1...\n",
       "2047                This is the happiest dog you will ever see. Very committed owner. Nice couch. 10/10 https://t.co/RhUEAloehK\n",
       "2048    Here is the Rand Paul of retrievers folks! He's probably good at poker. Can drink beer (lol rad). 8/10 good dog http...\n",
       "Name: text, dtype: object"
      ]
     },
     "execution_count": 64,
     "metadata": {},
     "output_type": "execute_result"
    }
   ],
   "source": [
    "# 'The' name do not include dog names\n",
    "wrd_clean.text[wrd_clean.name == 'the']"
   ]
  },
  {
   "cell_type": "code",
   "execution_count": 65,
   "metadata": {},
   "outputs": [
    {
     "data": {
      "text/plain": [
       "284                    Occasionally, we're sent fantastic stories. This is one of them. 14/10 for Grace https://t.co/bZ4axuH6OK\n",
       "802     This is one of the most reckless puppers I've ever seen. How she got a license in the first place is beyond me. 6/10...\n",
       "1644                            This is one esteemed pupper. Just graduated college. 10/10 what a champ https://t.co/nyReCVRiyd\n",
       "Name: text, dtype: object"
      ]
     },
     "execution_count": 65,
     "metadata": {},
     "output_type": "execute_result"
    }
   ],
   "source": [
    "# 'one' name do not include dog names\n",
    "wrd_clean.text[wrd_clean.name == 'one']"
   ]
  },
  {
   "cell_type": "code",
   "execution_count": 66,
   "metadata": {},
   "outputs": [
    {
     "data": {
      "text/plain": [
       "613    This is O'Malley. That is how he sleeps. Doesn't care what you think about it. 10/10 comfy af https://t.co/Pq150LeRaC\n",
       "Name: text, dtype: object"
      ]
     },
     "execution_count": 66,
     "metadata": {},
     "output_type": "execute_result"
    }
   ],
   "source": [
    "# 'O' name contains dog name\n",
    "wrd_clean.text[wrd_clean.name == 'O']"
   ]
  },
  {
   "cell_type": "code",
   "execution_count": 67,
   "metadata": {},
   "outputs": [],
   "source": [
    "# Change dog name using index\n",
    "wrd_clean.loc[613, 'name'] = 'O\\'Malley'"
   ]
  },
  {
   "cell_type": "code",
   "execution_count": 68,
   "metadata": {},
   "outputs": [
    {
     "data": {
      "text/plain": [
       "858     This is just downright precious af. 12/10 for both pupper and doggo https://t.co/o5J479bZUC\n",
       "1214             This is just a beautiful pupper good shit evolution. 12/10 https://t.co/2L8pI0Z2Ib\n",
       "1726              This is just impressive I have nothing else to say. 11/10 https://t.co/LquQZiZjJP\n",
       "Name: text, dtype: object"
      ]
     },
     "execution_count": 68,
     "metadata": {},
     "output_type": "execute_result"
    }
   ],
   "source": [
    "# 'just' name do not include dog names\n",
    "wrd_clean.text[wrd_clean.name == 'just']"
   ]
  },
  {
   "cell_type": "code",
   "execution_count": 69,
   "metadata": {},
   "outputs": [
    {
     "data": {
      "text/plain": [
       "1470    This is officially the greatest yawn of all time. 12/10 https://t.co/4R0Cc0sLVE\n",
       "Name: text, dtype: object"
      ]
     },
     "execution_count": 69,
     "metadata": {},
     "output_type": "execute_result"
    }
   ],
   "source": [
    "# 'officially' name do not include dog names\n",
    "wrd_clean.text[wrd_clean.name == 'officially']"
   ]
  },
  {
   "cell_type": "code",
   "execution_count": 70,
   "metadata": {},
   "outputs": [
    {
     "data": {
      "text/plain": [
       "679    This is my dog. Her name is Zoey. She knows I've been rating other dogs. She's not happy. 13/10 no bias at all https...\n",
       "Name: text, dtype: object"
      ]
     },
     "execution_count": 70,
     "metadata": {},
     "output_type": "execute_result"
    }
   ],
   "source": [
    "# 'my' name contains dog name\n",
    "wrd_clean.text[wrd_clean.name == 'my']"
   ]
  },
  {
   "cell_type": "code",
   "execution_count": 71,
   "metadata": {},
   "outputs": [],
   "source": [
    "# Change dog name using index\n",
    "wrd_clean.loc[679, 'name'] = 'Zoey'"
   ]
  },
  {
   "cell_type": "code",
   "execution_count": 72,
   "metadata": {},
   "outputs": [
    {
     "data": {
      "text/plain": [
       "825     This is an Iraqi Speed Kangaroo. It is not a dog. Please only send in dogs. I'm very angry with all of you ...9/10 h...\n",
       "1908    This is an Irish Rigatoni terrier named Berta. Completely made of rope. No eyes. Quite large. Loves to dance. 10/10 ...\n",
       "2035    This is an extremely rare horned Parthenon. Not amused. Wears shoes. Overall very nice. 9/10 would pet aggressively ...\n",
       "2037    This is an Albanian 3 1/2 legged  Episcopalian. Loves well-polished hardwood flooring. Penis on the collar. 9/10 htt...\n",
       "Name: text, dtype: object"
      ]
     },
     "execution_count": 72,
     "metadata": {},
     "output_type": "execute_result"
    }
   ],
   "source": [
    "# 'an' name includes dog names\n",
    "wrd_clean.text[wrd_clean.name == 'an']"
   ]
  },
  {
   "cell_type": "code",
   "execution_count": 73,
   "metadata": {},
   "outputs": [
    {
     "data": {
      "text/html": [
       "<div>\n",
       "<style scoped>\n",
       "    .dataframe tbody tr th:only-of-type {\n",
       "        vertical-align: middle;\n",
       "    }\n",
       "\n",
       "    .dataframe tbody tr th {\n",
       "        vertical-align: top;\n",
       "    }\n",
       "\n",
       "    .dataframe thead th {\n",
       "        text-align: right;\n",
       "    }\n",
       "</style>\n",
       "<table border=\"1\" class=\"dataframe\">\n",
       "  <thead>\n",
       "    <tr style=\"text-align: right;\">\n",
       "      <th></th>\n",
       "      <th>0</th>\n",
       "    </tr>\n",
       "  </thead>\n",
       "  <tbody>\n",
       "    <tr>\n",
       "      <th>825</th>\n",
       "      <td>NaN</td>\n",
       "    </tr>\n",
       "    <tr>\n",
       "      <th>1908</th>\n",
       "      <td>Berta</td>\n",
       "    </tr>\n",
       "    <tr>\n",
       "      <th>2035</th>\n",
       "      <td>NaN</td>\n",
       "    </tr>\n",
       "    <tr>\n",
       "      <th>2037</th>\n",
       "      <td>NaN</td>\n",
       "    </tr>\n",
       "  </tbody>\n",
       "</table>\n",
       "</div>"
      ],
      "text/plain": [
       "          0\n",
       "825     NaN\n",
       "1908  Berta\n",
       "2035    NaN\n",
       "2037    NaN"
      ]
     },
     "execution_count": 73,
     "metadata": {},
     "output_type": "execute_result"
    }
   ],
   "source": [
    "# Extract all dogs names after named, in named 'an' column.\n",
    "wrd_clean.text[wrd_clean['name'] == \"an\"].str.extract(\"named ([A-Z][a-z]+)\\.\")"
   ]
  },
  {
   "cell_type": "code",
   "execution_count": 74,
   "metadata": {},
   "outputs": [],
   "source": [
    "# Replace original name with extracted names\n",
    "anname = wrd_clean.text[wrd_clean['name'] == \"an\"].str.extract(\"named ([A-Z][a-z]+)\\.\")\n",
    "wrd_clean['anname'] = anname\n",
    "wrd_clean.loc[(wrd_clean['name'] == \"an\"), 'name'] = wrd_clean['anname']"
   ]
  },
  {
   "cell_type": "code",
   "execution_count": 75,
   "metadata": {},
   "outputs": [
    {
     "data": {
      "text/html": [
       "<div>\n",
       "<style scoped>\n",
       "    .dataframe tbody tr th:only-of-type {\n",
       "        vertical-align: middle;\n",
       "    }\n",
       "\n",
       "    .dataframe tbody tr th {\n",
       "        vertical-align: top;\n",
       "    }\n",
       "\n",
       "    .dataframe thead th {\n",
       "        text-align: right;\n",
       "    }\n",
       "</style>\n",
       "<table border=\"1\" class=\"dataframe\">\n",
       "  <thead>\n",
       "    <tr style=\"text-align: right;\">\n",
       "      <th></th>\n",
       "      <th>0</th>\n",
       "    </tr>\n",
       "  </thead>\n",
       "  <tbody>\n",
       "    <tr>\n",
       "      <th>50</th>\n",
       "      <td>NaN</td>\n",
       "    </tr>\n",
       "    <tr>\n",
       "      <th>809</th>\n",
       "      <td>NaN</td>\n",
       "    </tr>\n",
       "    <tr>\n",
       "      <th>811</th>\n",
       "      <td>NaN</td>\n",
       "    </tr>\n",
       "    <tr>\n",
       "      <th>846</th>\n",
       "      <td>NaN</td>\n",
       "    </tr>\n",
       "    <tr>\n",
       "      <th>1109</th>\n",
       "      <td>NaN</td>\n",
       "    </tr>\n",
       "    <tr>\n",
       "      <th>...</th>\n",
       "      <td>...</td>\n",
       "    </tr>\n",
       "    <tr>\n",
       "      <th>2050</th>\n",
       "      <td>NaN</td>\n",
       "    </tr>\n",
       "    <tr>\n",
       "      <th>2052</th>\n",
       "      <td>NaN</td>\n",
       "    </tr>\n",
       "    <tr>\n",
       "      <th>2054</th>\n",
       "      <td>NaN</td>\n",
       "    </tr>\n",
       "    <tr>\n",
       "      <th>2055</th>\n",
       "      <td>NaN</td>\n",
       "    </tr>\n",
       "    <tr>\n",
       "      <th>2056</th>\n",
       "      <td>NaN</td>\n",
       "    </tr>\n",
       "  </tbody>\n",
       "</table>\n",
       "<p>39 rows × 1 columns</p>\n",
       "</div>"
      ],
      "text/plain": [
       "        0\n",
       "50    NaN\n",
       "809   NaN\n",
       "811   NaN\n",
       "846   NaN\n",
       "1109  NaN\n",
       "...   ...\n",
       "2050  NaN\n",
       "2052  NaN\n",
       "2054  NaN\n",
       "2055  NaN\n",
       "2056  NaN\n",
       "\n",
       "[39 rows x 1 columns]"
      ]
     },
     "execution_count": 75,
     "metadata": {},
     "output_type": "execute_result"
    }
   ],
   "source": [
    "# Extract all dogs names after named, in named 'a' column.\n",
    "wrd_clean.text[wrd_clean['name'] == \"a\"].str.extract(\"named ([A-Z][a-z]+)\\.\")"
   ]
  },
  {
   "cell_type": "code",
   "execution_count": 76,
   "metadata": {},
   "outputs": [],
   "source": [
    "# Replace original name with extracted names\n",
    "aname = wrd_clean.text[wrd_clean['name'] == \"a\"].str.extract(\"named ([A-Z][a-z]+)\\.\")\n",
    "wrd_clean['aname'] = aname\n",
    "wrd_clean.loc[(wrd_clean['name'] == \"a\"), 'name'] = wrd_clean['aname']"
   ]
  },
  {
   "cell_type": "code",
   "execution_count": 77,
   "metadata": {},
   "outputs": [],
   "source": [
    "# Replace with 'None' in names\n",
    "wrd_clean['name'].replace(np.nan, 'None', inplace=True)\n",
    "wrd_clean['name'].replace('the', 'None', inplace=True)\n",
    "wrd_clean['name'].replace('an', 'None', inplace=True)\n",
    "wrd_clean['name'].replace('one', 'None', inplace=True)\n",
    "wrd_clean['name'].replace('just', 'None', inplace=True)\n",
    "wrd_clean['name'].replace('officially', 'None', inplace=True)\n",
    "\n",
    "\n",
    "\n",
    "\n"
   ]
  },
  {
   "cell_type": "markdown",
   "metadata": {},
   "source": [
    "#### Test"
   ]
  },
  {
   "cell_type": "code",
   "execution_count": 78,
   "metadata": {},
   "outputs": [
    {
     "data": {
      "text/plain": [
       "'Octaviath'"
      ]
     },
     "execution_count": 78,
     "metadata": {},
     "output_type": "execute_result"
    }
   ],
   "source": [
    "# The news names in name column match the extracted name.\n",
    "wrd_clean.name.loc[2013]"
   ]
  },
  {
   "cell_type": "code",
   "execution_count": 79,
   "metadata": {
    "scrolled": true
   },
   "outputs": [
    {
     "data": {
      "text/plain": [
       "'Berta'"
      ]
     },
     "execution_count": 79,
     "metadata": {},
     "output_type": "execute_result"
    }
   ],
   "source": [
    "wrd_clean.name.loc[1908]"
   ]
  },
  {
   "cell_type": "code",
   "execution_count": 80,
   "metadata": {},
   "outputs": [
    {
     "data": {
      "text/plain": [
       "\"O'Malley\""
      ]
     },
     "execution_count": 80,
     "metadata": {},
     "output_type": "execute_result"
    }
   ],
   "source": [
    "wrd_clean.name.loc[613]"
   ]
  },
  {
   "cell_type": "code",
   "execution_count": 81,
   "metadata": {},
   "outputs": [],
   "source": [
    "pd.set_option('display.max_row', 1000)"
   ]
  },
  {
   "cell_type": "code",
   "execution_count": 82,
   "metadata": {},
   "outputs": [
    {
     "data": {
      "text/plain": [
       "None              410\n",
       "Cooper              9\n",
       "Oliver              9\n",
       "Lucy                9\n",
       "Charlie             9\n",
       "Tucker              9\n",
       "Penny               8\n",
       "Daisy               7\n",
       "Winston             7\n",
       "Sadie               7\n",
       "Koda                6\n",
       "Lola                6\n",
       "Jax                 6\n",
       "Toby                6\n",
       "Oscar               5\n",
       "Rusty               5\n",
       "Stanley             5\n",
       "Bo                  5\n",
       "Bella               5\n",
       "Leo                 5\n",
       "Alfie               4\n",
       "Larry               4\n",
       "Cassie              4\n",
       "Gus                 4\n",
       "Zoey                4\n",
       "Maggie              4\n",
       "Sophie              4\n",
       "Finn                4\n",
       "Oakley              4\n",
       "Milo                4\n",
       "Bailey              4\n",
       "Bear                4\n",
       "Dexter              4\n",
       "Brody               4\n",
       "Winnie              4\n",
       "Bentley             4\n",
       "Louis               4\n",
       "Chester             4\n",
       "Jack                4\n",
       "Scout               4\n",
       "Duke                4\n",
       "George              4\n",
       "Dave                4\n",
       "Scooter             4\n",
       "Wyatt               3\n",
       "Clark               3\n",
       "Wallace             3\n",
       "Jeffrey             3\n",
       "Ruby                3\n",
       "Gary                3\n",
       "Vincent             3\n",
       "Sebastian           3\n",
       "Gizmo               3\n",
       "Buddy               3\n",
       "Ellie               3\n",
       "Jimothy             3\n",
       "Hank                3\n",
       "Reggie              3\n",
       "Bruce               3\n",
       "Kyle                3\n",
       "Loki                3\n",
       "Archie              3\n",
       "Rufus               3\n",
       "Olive               3\n",
       "Max                 3\n",
       "Beau                3\n",
       "Shadow              3\n",
       "Zeke                3\n",
       "Boomer              3\n",
       "Walter              3\n",
       "Rosie               3\n",
       "Wilson              3\n",
       "Reese               3\n",
       "Otis                3\n",
       "Paisley             2\n",
       "Malcolm             2\n",
       "Sunny               2\n",
       "Calvin              2\n",
       "Percy               2\n",
       "Tyr                 2\n",
       "Rocky               2\n",
       "Jiminy              2\n",
       "Trooper             2\n",
       "Reginald            2\n",
       "Finley              2\n",
       "Theodore            2\n",
       "Raymond             2\n",
       "Clarence            2\n",
       "Odie                2\n",
       "Griffin             2\n",
       "Fiona               2\n",
       "Albert              2\n",
       "Terry               2\n",
       "Ted                 2\n",
       "Franklin            2\n",
       "Cupcake             2\n",
       "Solomon             2\n",
       "Ash                 2\n",
       "Thumas              2\n",
       "Indie               2\n",
       "Herald              2\n",
       "Moe                 2\n",
       "Riley               2\n",
       "Lily                2\n",
       "Sammy               2\n",
       "Earl                2\n",
       "Linda               2\n",
       "Hunter              2\n",
       "Frankie             2\n",
       "Benji               2\n",
       "Phred               2\n",
       "Juno                2\n",
       "Gabe                2\n",
       "Lorenzo             2\n",
       "Lenny               2\n",
       "Kirby               2\n",
       "Roosevelt           2\n",
       "Peaches             2\n",
       "Colby               2\n",
       "Opal                2\n",
       "Smokey              2\n",
       "Jessiga             2\n",
       "Samson              2\n",
       "Flávio              2\n",
       "Sarge               2\n",
       "Belle               2\n",
       "Cody                2\n",
       "Piper               2\n",
       "Axel                2\n",
       "Bisquick            2\n",
       "Sam                 2\n",
       "Rory                2\n",
       "Kilo                2\n",
       "Carl                2\n",
       "Chuckles            2\n",
       "Wally               2\n",
       "Cash                2\n",
       "Abby                2\n",
       "Waffles             2\n",
       "Derek               2\n",
       "Bob                 2\n",
       "Phil                2\n",
       "Dakota              2\n",
       "Jeph                2\n",
       "Bernie              2\n",
       "Crystal             2\n",
       "Jesse               2\n",
       "Titan               2\n",
       "Eli                 2\n",
       "Calbert             2\n",
       "Gerald              2\n",
       "Maximus             2\n",
       "Kreg                2\n",
       "Romeo               2\n",
       "Pippa               2\n",
       "Neptune             2\n",
       "Coops               2\n",
       "Hobbes              2\n",
       "Remington           2\n",
       "Aspen               2\n",
       "Churlie             2\n",
       "Louie               2\n",
       "Doc                 2\n",
       "Chip                2\n",
       "Panda               2\n",
       "Yogi                2\n",
       "Nelly               2\n",
       "Oliviér             2\n",
       "Watson              2\n",
       "Dash                2\n",
       "Atlas               2\n",
       "Mister              2\n",
       "Lou                 2\n",
       "Luca                2\n",
       "Moose               2\n",
       "Django              2\n",
       "Coco                2\n",
       "Nala                2\n",
       "Bubbles             2\n",
       "Olivia              2\n",
       "Alice               2\n",
       "Kreggory            2\n",
       "Kenneth             2\n",
       "Frank               2\n",
       "Bode                1\n",
       "Augie               1\n",
       "Ava                 1\n",
       "DonDon              1\n",
       "Ulysses             1\n",
       "Jarod               1\n",
       "Chef                1\n",
       "Birf                1\n",
       "Flurpson            1\n",
       "Corey               1\n",
       "Humphrey            1\n",
       "Barney              1\n",
       "Huxley              1\n",
       "Godzilla            1\n",
       "Misty               1\n",
       "Kobe                1\n",
       "Mosby               1\n",
       "Timison             1\n",
       "Luna                1\n",
       "Doobert             1\n",
       "Kulet               1\n",
       "Lulu                1\n",
       "Diogi               1\n",
       "Maxaroni            1\n",
       "Dewey               1\n",
       "Dook                1\n",
       "Alejandro           1\n",
       "Marq                1\n",
       "Venti               1\n",
       "Philbert            1\n",
       "Snoopy              1\n",
       "Alfredo             1\n",
       "not                 1\n",
       "Tupawc              1\n",
       "Suki                1\n",
       "Donny               1\n",
       "Malikai             1\n",
       "Laela               1\n",
       "Winifred            1\n",
       "Jebberson           1\n",
       "Aldrick             1\n",
       "Arnie               1\n",
       "Kingsley            1\n",
       "Grizz               1\n",
       "Shelby              1\n",
       "Keet                1\n",
       "space               1\n",
       "Bauer               1\n",
       "Ace                 1\n",
       "Willy               1\n",
       "Mattie              1\n",
       "Florence            1\n",
       "Zara                1\n",
       "Ginger              1\n",
       "Skittles            1\n",
       "Cilantro            1\n",
       "Spork               1\n",
       "Jimison             1\n",
       "Siba                1\n",
       "Jim                 1\n",
       "JD                  1\n",
       "Beckham             1\n",
       "Bilbo               1\n",
       "Scott               1\n",
       "Mabel               1\n",
       "Carper              1\n",
       "Kuyu                1\n",
       "Wafer               1\n",
       "Biden               1\n",
       "Rambo               1\n",
       "Einstein            1\n",
       "Curtis              1\n",
       "Ed                  1\n",
       "Hemry               1\n",
       "Josep               1\n",
       "Remy                1\n",
       "Skye                1\n",
       "Terrance            1\n",
       "Angel               1\n",
       "Godi                1\n",
       "Cedrick             1\n",
       "Tiger               1\n",
       "Miguel              1\n",
       "Liam                1\n",
       "Chevy               1\n",
       "Ashleigh            1\n",
       "Gustav              1\n",
       "Trip                1\n",
       "Mac                 1\n",
       "Gunner              1\n",
       "Todo                1\n",
       "Lilah               1\n",
       "Nigel               1\n",
       "Lilly               1\n",
       "Bruno               1\n",
       "Poppy               1\n",
       "Lupe                1\n",
       "Arnold              1\n",
       "Walker              1\n",
       "Stella              1\n",
       "Dug                 1\n",
       "Mingus              1\n",
       "Olaf                1\n",
       "Mojo                1\n",
       "Colin               1\n",
       "Grey                1\n",
       "Stormy              1\n",
       "Obi                 1\n",
       "Murphy              1\n",
       "Lipton              1\n",
       "Tassy               1\n",
       "Huck                1\n",
       "Lugan               1\n",
       "Hazel               1\n",
       "Dixie               1\n",
       "Hermione            1\n",
       "Tango               1\n",
       "Jett                1\n",
       "Beemo               1\n",
       "Gilbert             1\n",
       "Harold              1\n",
       "Cal                 1\n",
       "Ebby                1\n",
       "Kane                1\n",
       "Chadrick            1\n",
       "Reagan              1\n",
       "Bayley              1\n",
       "Davey               1\n",
       "Brad                1\n",
       "Maks                1\n",
       "Finnegus            1\n",
       "Fillup              1\n",
       "Filup               1\n",
       "Berta               1\n",
       "Aqua                1\n",
       "Ike                 1\n",
       "Kial                1\n",
       "Covach              1\n",
       "Wylie               1\n",
       "Al                  1\n",
       "Tebow               1\n",
       "Moreton             1\n",
       "Kloey               1\n",
       "Kendall             1\n",
       "Wesley              1\n",
       "Gordon              1\n",
       "Trigger             1\n",
       "Callie              1\n",
       "Sora                1\n",
       "Layla               1\n",
       "Bonaparte           1\n",
       "Acro                1\n",
       "Rorie               1\n",
       "Duchess             1\n",
       "infuriating         1\n",
       "Genevieve           1\n",
       "Tedders             1\n",
       "all                 1\n",
       "Deacon              1\n",
       "Alfonso             1\n",
       "Chipson             1\n",
       "Rolf                1\n",
       "Willow              1\n",
       "Mason               1\n",
       "Quinn               1\n",
       "Sierra              1\n",
       "Holly               1\n",
       "Aubie               1\n",
       "Nico                1\n",
       "Cannon              1\n",
       "Rooney              1\n",
       "Lassie              1\n",
       "Chuk                1\n",
       "Swagger             1\n",
       "Akumi               1\n",
       "Sage                1\n",
       "Dobby               1\n",
       "Goose               1\n",
       "Trevith             1\n",
       "Crawford            1\n",
       "Danny               1\n",
       "Brian               1\n",
       "Sansa               1\n",
       "Shiloh              1\n",
       "Logan               1\n",
       "Nida                1\n",
       "Petrick             1\n",
       "Comet               1\n",
       "Bookstore           1\n",
       "Sailor              1\n",
       "Lambeau             1\n",
       "Jomathan            1\n",
       "Tobi                1\n",
       "Karma               1\n",
       "Perry               1\n",
       "O'Malley            1\n",
       "Maude               1\n",
       "Sky                 1\n",
       "Zeek                1\n",
       "Lili                1\n",
       "Shooter             1\n",
       "Brandi              1\n",
       "Crimson             1\n",
       "Kip                 1\n",
       "Frönq               1\n",
       "Oshie               1\n",
       "Amélie              1\n",
       "Mimosa              1\n",
       "Bubba               1\n",
       "Napolean            1\n",
       "Jerry               1\n",
       "Brudge              1\n",
       "Vinscent            1\n",
       "Mike                1\n",
       "Dawn                1\n",
       "Meatball            1\n",
       "Rueben              1\n",
       "Cuddles             1\n",
       "Andru               1\n",
       "Howie               1\n",
       "Coopson             1\n",
       "Ralphé              1\n",
       "Bobbay              1\n",
       "Dotsy               1\n",
       "Timmy               1\n",
       "Divine              1\n",
       "Erik                1\n",
       "Joey                1\n",
       "Harlso              1\n",
       "Rhino               1\n",
       "Kenny               1\n",
       "Yoda                1\n",
       "Chet                1\n",
       "River               1\n",
       "Chubbs              1\n",
       "Antony              1\n",
       "Kohl                1\n",
       "Bell                1\n",
       "Sandra              1\n",
       "Jeffri              1\n",
       "Pablo               1\n",
       "Charleson           1\n",
       "Barclay             1\n",
       "Keurig              1\n",
       "Adele               1\n",
       "Luther              1\n",
       "Kathmandu           1\n",
       "Amber               1\n",
       "Bobble              1\n",
       "Harvey              1\n",
       "Opie                1\n",
       "Jessifer            1\n",
       "Atticus             1\n",
       "Marlee              1\n",
       "Devón               1\n",
       "Anna                1\n",
       "Kevin               1\n",
       "Sid                 1\n",
       "Brady               1\n",
       "Julio               1\n",
       "Spark               1\n",
       "Benedict            1\n",
       "Rubio               1\n",
       "Johm                1\n",
       "Mauve               1\n",
       "Billl               1\n",
       "Leonidas            1\n",
       "William             1\n",
       "Carll               1\n",
       "Vixen               1\n",
       "Rodney              1\n",
       "Carly               1\n",
       "Dot                 1\n",
       "Mack                1\n",
       "Kellogg             1\n",
       "Ollie               1\n",
       "Cleopatricia        1\n",
       "Ronnie              1\n",
       "Hanz                1\n",
       "Bowie               1\n",
       "Alexanderson        1\n",
       "light               1\n",
       "Ralf                1\n",
       "Tug                 1\n",
       "Mitch               1\n",
       "Dallas              1\n",
       "Bradley             1\n",
       "Snicku              1\n",
       "Leonard             1\n",
       "Ziva                1\n",
       "Pete                1\n",
       "Joshwa              1\n",
       "Pluto               1\n",
       "Snoop               1\n",
       "Dylan               1\n",
       "Gòrdón              1\n",
       "Kenzie              1\n",
       "Stark               1\n",
       "Lincoln             1\n",
       "Miley               1\n",
       "Stewie              1\n",
       "Ben                 1\n",
       "Lance               1\n",
       "Strider             1\n",
       "Paull               1\n",
       "Gerbald             1\n",
       "Nollie              1\n",
       "Grizzwald           1\n",
       "Bungalo             1\n",
       "Michelangelope      1\n",
       "Chase               1\n",
       "Puff                1\n",
       "Newt                1\n",
       "Cheryl              1\n",
       "Christoper          1\n",
       "Jangle              1\n",
       "Berb                1\n",
       "Butter              1\n",
       "Jarvis              1\n",
       "Edgar               1\n",
       "Kyro                1\n",
       "Clybe               1\n",
       "Lenox               1\n",
       "Tuck                1\n",
       "Lilli               1\n",
       "Herb                1\n",
       "Ken                 1\n",
       "Cali                1\n",
       "Kevon               1\n",
       "Lennon              1\n",
       "Monty               1\n",
       "Margo               1\n",
       "Tyrus               1\n",
       "Hurley              1\n",
       "Reptar              1\n",
       "Mollie              1\n",
       "Brandy              1\n",
       "Heinrich            1\n",
       "Tino                1\n",
       "Link                1\n",
       "Patch               1\n",
       "Willem              1\n",
       "Fynn                1\n",
       "Stefan              1\n",
       "Sparky              1\n",
       "Glenn               1\n",
       "Jed                 1\n",
       "Noah                1\n",
       "Vinnie              1\n",
       "Emmy                1\n",
       "Autumn              1\n",
       "Taz                 1\n",
       "Tedrick             1\n",
       "Nimbus              1\n",
       "Cheesy              1\n",
       "Alexander           1\n",
       "Dietrich            1\n",
       "Marley              1\n",
       "Ralphson            1\n",
       "Rontu               1\n",
       "Rose                1\n",
       "Ester               1\n",
       "Jareld              1\n",
       "Tripp               1\n",
       "Bobb                1\n",
       "Arlen               1\n",
       "Lucia               1\n",
       "Spencer             1\n",
       "Rilo                1\n",
       "Stuart              1\n",
       "Clarkus             1\n",
       "Tycho               1\n",
       "Tyrone              1\n",
       "Rover               1\n",
       "Jamesy              1\n",
       "Chompsky            1\n",
       "Millie              1\n",
       "Strudel             1\n",
       "Sojourner           1\n",
       "Ridley              1\n",
       "Darby               1\n",
       "Ozzie               1\n",
       "Aja                 1\n",
       "Ron                 1\n",
       "Brownie             1\n",
       "Berkeley            1\n",
       "Monkey              1\n",
       "Schnitzel           1\n",
       "Monster             1\n",
       "Alfy                1\n",
       "Rizzo               1\n",
       "Gromit              1\n",
       "Bones               1\n",
       "Griswold            1\n",
       "Jennifur            1\n",
       "Ivar                1\n",
       "Kaiya               1\n",
       "Edmund              1\n",
       "Fiji                1\n",
       "Geoff               1\n",
       "Kramer              1\n",
       "Kota                1\n",
       "Boston              1\n",
       "Baxter              1\n",
       "Mona                1\n",
       "Jo                  1\n",
       "Mookie              1\n",
       "Pupcasso            1\n",
       "Carbon              1\n",
       "Amy                 1\n",
       "Chaz                1\n",
       "Hero                1\n",
       "Asher               1\n",
       "Levi                1\n",
       "Zooey               1\n",
       "Kara                1\n",
       "Major               1\n",
       "Tuco                1\n",
       "Pancake             1\n",
       "Geno                1\n",
       "Jonah               1\n",
       "Jackie              1\n",
       "Shnuggles           1\n",
       "Gert                1\n",
       "Grady               1\n",
       "Jazzy               1\n",
       "Emmie               1\n",
       "Longfellow          1\n",
       "Benny               1\n",
       "Dutch               1\n",
       "Obie                1\n",
       "Meyer               1\n",
       "Tilly               1\n",
       "Livvie              1\n",
       "Boots               1\n",
       "Alf                 1\n",
       "Hercules            1\n",
       "Smiley              1\n",
       "Bronte              1\n",
       "Beebop              1\n",
       "Pickles             1\n",
       "Superpup            1\n",
       "Tonks               1\n",
       "Duddles             1\n",
       "Eve                 1\n",
       "Cecil               1\n",
       "Bert                1\n",
       "Taco                1\n",
       "Blu                 1\n",
       "Gidget              1\n",
       "Blue                1\n",
       "Lillie              1\n",
       "Hector              1\n",
       "Kanu                1\n",
       "BeBe                1\n",
       "Jameson             1\n",
       "Bodie               1\n",
       "Lucky               1\n",
       "Shawwn              1\n",
       "Dale                1\n",
       "Steve               1\n",
       "Durg                1\n",
       "Terrenth            1\n",
       "Sprout              1\n",
       "Burt                1\n",
       "Juckson             1\n",
       "Pipsy               1\n",
       "Simba               1\n",
       "Darrel              1\n",
       "Dido                1\n",
       "Pepper              1\n",
       "Jay                 1\n",
       "Jeremy              1\n",
       "Ronduh              1\n",
       "Blitz               1\n",
       "Dudley              1\n",
       "Brooks              1\n",
       "Franq               1\n",
       "Eriq                1\n",
       "Bruiser             1\n",
       "Hall                1\n",
       "Fwed                1\n",
       "Evy                 1\n",
       "Thor                1\n",
       "Storkson            1\n",
       "Kayla               1\n",
       "Shikha              1\n",
       "Odin                1\n",
       "Ole                 1\n",
       "Kona                1\n",
       "Fizz                1\n",
       "Rizzy               1\n",
       "Andy                1\n",
       "Stu                 1\n",
       "Mya                 1\n",
       "Bloop               1\n",
       "Baron               1\n",
       "Betty               1\n",
       "Eleanor             1\n",
       "Charles             1\n",
       "Eugene              1\n",
       "Canela              1\n",
       "Banjo               1\n",
       "Doug                1\n",
       "Rupert              1\n",
       "Timofy              1\n",
       "Pubert              1\n",
       "Socks               1\n",
       "Cora                1\n",
       "Sobe                1\n",
       "Fred                1\n",
       "Torque              1\n",
       "Rumble              1\n",
       "Hubertson           1\n",
       "Apollo              1\n",
       "Toffee              1\n",
       "Enchilada           1\n",
       "Naphaniel           1\n",
       "Horace              1\n",
       "Klevin              1\n",
       "Traviss             1\n",
       "Gustaf              1\n",
       "Iroh                1\n",
       "Ralphie             1\n",
       "Sandy               1\n",
       "Kollin              1\n",
       "Buddah              1\n",
       "Ambrose             1\n",
       "Emanuel             1\n",
       "Dex                 1\n",
       "Lacy                1\n",
       "Crouton             1\n",
       "Orion               1\n",
       "Claude              1\n",
       "Halo                1\n",
       "Flash               1\n",
       "Zoe                 1\n",
       "Timber              1\n",
       "Roscoe              1\n",
       "Kirk                1\n",
       "Noosh               1\n",
       "Pippin              1\n",
       "Binky               1\n",
       "Saydee              1\n",
       "Kawhi               1\n",
       "Darla               1\n",
       "Banditt             1\n",
       "Tater               1\n",
       "Glacier             1\n",
       "Sampson             1\n",
       "Cupid               1\n",
       "Lorelei             1\n",
       "Mairi               1\n",
       "Emma                1\n",
       "Mutt                1\n",
       "Nugget              1\n",
       "Albus               1\n",
       "Klein               1\n",
       "Dante               1\n",
       "Goliath             1\n",
       "Ozzy                1\n",
       "Willie              1\n",
       "Remus               1\n",
       "Billy               1\n",
       "Octaviath           1\n",
       "Loomis              1\n",
       "Raphael             1\n",
       "Harnold             1\n",
       "Chelsea             1\n",
       "Schnozz             1\n",
       "Furzey              1\n",
       "Freddery            1\n",
       "Jackson             1\n",
       "Eevee               1\n",
       "CeCe                1\n",
       "Koko                1\n",
       "Kaia                1\n",
       "Stephan             1\n",
       "Lolo                1\n",
       "Brandonald          1\n",
       "Robin               1\n",
       "Jimbo               1\n",
       "Bradlay             1\n",
       "Katie               1\n",
       "Grizzie             1\n",
       "Stubert             1\n",
       "Sugar               1\n",
       "Pavlov              1\n",
       "Crumpet             1\n",
       "Craig               1\n",
       "Pumpkin             1\n",
       "Rocco               1\n",
       "Creg                1\n",
       "DayZ                1\n",
       "Snickers            1\n",
       "Kody                1\n",
       "Richie              1\n",
       "Arya                1\n",
       "Sephie              1\n",
       "Clarq               1\n",
       "Tove                1\n",
       "Ito                 1\n",
       "Rey                 1\n",
       "Bloo                1\n",
       "Staniel             1\n",
       "Maddie              1\n",
       "Blakely             1\n",
       "Brutus              1\n",
       "Spanky              1\n",
       "Leela               1\n",
       "Ruffles             1\n",
       "Karll               1\n",
       "Maisey              1\n",
       "Dunkin              1\n",
       "Bluebert            1\n",
       "Penelope            1\n",
       "Butters             1\n",
       "Jockson             1\n",
       "Cermet              1\n",
       "Jaycob              1\n",
       "Arlo                1\n",
       "Striker             1\n",
       "Jerome              1\n",
       "Tom                 1\n",
       "Marvin              1\n",
       "Shakespeare         1\n",
       "Happy               1\n",
       "Ralphus             1\n",
       "Buckley             1\n",
       "Klint               1\n",
       "Zeus                1\n",
       "Brat                1\n",
       "Harper              1\n",
       "Gin                 1\n",
       "Philippe            1\n",
       "Maya                1\n",
       "Meera               1\n",
       "Stephanus           1\n",
       "Ralph               1\n",
       "Oreo                1\n",
       "Rinna               1\n",
       "Pawnd               1\n",
       "Molly               1\n",
       "Mary                1\n",
       "Pilot               1\n",
       "Jeb                 1\n",
       "Travis              1\n",
       "Aiden               1\n",
       "Jazz                1\n",
       "Baloo               1\n",
       "Blanket             1\n",
       "Samsom              1\n",
       "Scruffers           1\n",
       "Leroi               1\n",
       "Shadoe              1\n",
       "Milky               1\n",
       "Ralpher             1\n",
       "Wishes              1\n",
       "Mia                 1\n",
       "Rufio               1\n",
       "Chloe               1\n",
       "Tayzie              1\n",
       "Sundance            1\n",
       "Vince               1\n",
       "Sweet               1\n",
       "Sprinkles           1\n",
       "Name: name, dtype: int64"
      ]
     },
     "execution_count": 82,
     "metadata": {},
     "output_type": "execute_result"
    }
   ],
   "source": [
    "# Do another check\n",
    "wrd_clean.name.value_counts()"
   ]
  },
  {
   "cell_type": "markdown",
   "metadata": {},
   "source": [
    "#### 11"
   ]
  },
  {
   "cell_type": "markdown",
   "metadata": {},
   "source": [
    "#### Define"
   ]
  },
  {
   "cell_type": "markdown",
   "metadata": {},
   "source": [
    "Drop columns which would not be used and create a new dataframe for visualization."
   ]
  },
  {
   "cell_type": "markdown",
   "metadata": {},
   "source": [
    "#### Code"
   ]
  },
  {
   "cell_type": "code",
   "execution_count": 83,
   "metadata": {},
   "outputs": [],
   "source": [
    "# only keep the columns we want\n",
    "wrd_new = wrd_clean[['tweet_id', 'timestamp', 'text','expanded_urls', 'name', 'prediction','confidence','stage', 'score','favorites','retweets']].copy()\n"
   ]
  },
  {
   "cell_type": "markdown",
   "metadata": {},
   "source": [
    "#### Test"
   ]
  },
  {
   "cell_type": "code",
   "execution_count": 84,
   "metadata": {
    "scrolled": true
   },
   "outputs": [
    {
     "data": {
      "text/html": [
       "<div>\n",
       "<style scoped>\n",
       "    .dataframe tbody tr th:only-of-type {\n",
       "        vertical-align: middle;\n",
       "    }\n",
       "\n",
       "    .dataframe tbody tr th {\n",
       "        vertical-align: top;\n",
       "    }\n",
       "\n",
       "    .dataframe thead th {\n",
       "        text-align: right;\n",
       "    }\n",
       "</style>\n",
       "<table border=\"1\" class=\"dataframe\">\n",
       "  <thead>\n",
       "    <tr style=\"text-align: right;\">\n",
       "      <th></th>\n",
       "      <th>tweet_id</th>\n",
       "      <th>timestamp</th>\n",
       "      <th>text</th>\n",
       "      <th>expanded_urls</th>\n",
       "      <th>name</th>\n",
       "      <th>prediction</th>\n",
       "      <th>confidence</th>\n",
       "      <th>stage</th>\n",
       "      <th>score</th>\n",
       "      <th>favorites</th>\n",
       "      <th>retweets</th>\n",
       "    </tr>\n",
       "  </thead>\n",
       "  <tbody>\n",
       "    <tr>\n",
       "      <th>1</th>\n",
       "      <td>892177421306343426</td>\n",
       "      <td>2017-08</td>\n",
       "      <td>This is Tilly. She's just checking pup on you. Hopes you're doing ok. If not, she's available for pats, snugs, boops...</td>\n",
       "      <td>https://twitter.com/dog_rates/status/892177421306343426/photo/1</td>\n",
       "      <td>Tilly</td>\n",
       "      <td>Chihuahua</td>\n",
       "      <td>0.323581</td>\n",
       "      <td>NaN</td>\n",
       "      <td>13</td>\n",
       "      <td>31109</td>\n",
       "      <td>5678</td>\n",
       "    </tr>\n",
       "    <tr>\n",
       "      <th>2</th>\n",
       "      <td>891815181378084864</td>\n",
       "      <td>2017-07</td>\n",
       "      <td>This is Archie. He is a rare Norwegian Pouncing Corgo. Lives in the tall grass. You never know when one may strike. ...</td>\n",
       "      <td>https://twitter.com/dog_rates/status/891815181378084864/photo/1</td>\n",
       "      <td>Archie</td>\n",
       "      <td>Chihuahua</td>\n",
       "      <td>0.716012</td>\n",
       "      <td>NaN</td>\n",
       "      <td>12</td>\n",
       "      <td>23422</td>\n",
       "      <td>3763</td>\n",
       "    </tr>\n",
       "    <tr>\n",
       "      <th>3</th>\n",
       "      <td>891689557279858688</td>\n",
       "      <td>2017-07</td>\n",
       "      <td>This is Darla. She commenced a snooze mid meal. 13/10 happens to the best of us https://t.co/tD36da7qLQ</td>\n",
       "      <td>https://twitter.com/dog_rates/status/891689557279858688/photo/1</td>\n",
       "      <td>Darla</td>\n",
       "      <td>Labrador Retriever</td>\n",
       "      <td>0.168086</td>\n",
       "      <td>NaN</td>\n",
       "      <td>13</td>\n",
       "      <td>39343</td>\n",
       "      <td>7851</td>\n",
       "    </tr>\n",
       "    <tr>\n",
       "      <th>4</th>\n",
       "      <td>891327558926688256</td>\n",
       "      <td>2017-07</td>\n",
       "      <td>This is Franklin. He would like you to stop calling him \"cute.\" He is a very fierce shark and should be respected as...</td>\n",
       "      <td>https://twitter.com/dog_rates/status/891327558926688256/photo/1,https://twitter.com/dog_rates/status/891327558926688...</td>\n",
       "      <td>Franklin</td>\n",
       "      <td>Basset</td>\n",
       "      <td>0.555712</td>\n",
       "      <td>NaN</td>\n",
       "      <td>12</td>\n",
       "      <td>37585</td>\n",
       "      <td>8449</td>\n",
       "    </tr>\n",
       "    <tr>\n",
       "      <th>5</th>\n",
       "      <td>891087950875897856</td>\n",
       "      <td>2017-07</td>\n",
       "      <td>Here we have a majestic great white breaching off South Africa's coast. Absolutely h*ckin breathtaking. 13/10 (IG: t...</td>\n",
       "      <td>https://twitter.com/dog_rates/status/891087950875897856/photo/1</td>\n",
       "      <td>None</td>\n",
       "      <td>Chesapeake Bay Retriever</td>\n",
       "      <td>0.425595</td>\n",
       "      <td>NaN</td>\n",
       "      <td>13</td>\n",
       "      <td>18937</td>\n",
       "      <td>2835</td>\n",
       "    </tr>\n",
       "  </tbody>\n",
       "</table>\n",
       "</div>"
      ],
      "text/plain": [
       "             tweet_id timestamp  \\\n",
       "1  892177421306343426   2017-08   \n",
       "2  891815181378084864   2017-07   \n",
       "3  891689557279858688   2017-07   \n",
       "4  891327558926688256   2017-07   \n",
       "5  891087950875897856   2017-07   \n",
       "\n",
       "                                                                                                                      text  \\\n",
       "1  This is Tilly. She's just checking pup on you. Hopes you're doing ok. If not, she's available for pats, snugs, boops...   \n",
       "2  This is Archie. He is a rare Norwegian Pouncing Corgo. Lives in the tall grass. You never know when one may strike. ...   \n",
       "3                  This is Darla. She commenced a snooze mid meal. 13/10 happens to the best of us https://t.co/tD36da7qLQ   \n",
       "4  This is Franklin. He would like you to stop calling him \"cute.\" He is a very fierce shark and should be respected as...   \n",
       "5  Here we have a majestic great white breaching off South Africa's coast. Absolutely h*ckin breathtaking. 13/10 (IG: t...   \n",
       "\n",
       "                                                                                                             expanded_urls  \\\n",
       "1                                                          https://twitter.com/dog_rates/status/892177421306343426/photo/1   \n",
       "2                                                          https://twitter.com/dog_rates/status/891815181378084864/photo/1   \n",
       "3                                                          https://twitter.com/dog_rates/status/891689557279858688/photo/1   \n",
       "4  https://twitter.com/dog_rates/status/891327558926688256/photo/1,https://twitter.com/dog_rates/status/891327558926688...   \n",
       "5                                                          https://twitter.com/dog_rates/status/891087950875897856/photo/1   \n",
       "\n",
       "       name                prediction confidence stage  score  favorites  \\\n",
       "1     Tilly                 Chihuahua   0.323581   NaN     13      31109   \n",
       "2    Archie                 Chihuahua   0.716012   NaN     12      23422   \n",
       "3     Darla        Labrador Retriever   0.168086   NaN     13      39343   \n",
       "4  Franklin                    Basset   0.555712   NaN     12      37585   \n",
       "5      None  Chesapeake Bay Retriever   0.425595   NaN     13      18937   \n",
       "\n",
       "   retweets  \n",
       "1      5678  \n",
       "2      3763  \n",
       "3      7851  \n",
       "4      8449  \n",
       "5      2835  "
      ]
     },
     "execution_count": 84,
     "metadata": {},
     "output_type": "execute_result"
    }
   ],
   "source": [
    "wrd_new.head()"
   ]
  },
  {
   "cell_type": "code",
   "execution_count": 85,
   "metadata": {},
   "outputs": [],
   "source": [
    "# Store the cleaned data as a csv file.\n",
    "wrd_new.to_csv('twitter_archive_master.csv', index = False)"
   ]
  },
  {
   "cell_type": "markdown",
   "metadata": {},
   "source": [
    "<a id='analyze'></a>\n",
    "## Analyze "
   ]
  },
  {
   "cell_type": "markdown",
   "metadata": {},
   "source": [
    "## Visual 1. The most common dog breeds in our list."
   ]
  },
  {
   "cell_type": "code",
   "execution_count": 86,
   "metadata": {
    "scrolled": false
   },
   "outputs": [
    {
     "data": {
      "text/plain": [
       "Golden Retriever            154\n",
       "Labrador Retriever           98\n",
       "Pembroke                     91\n",
       "Chihuahua                    89\n",
       "Pug                          59\n",
       "Toy Poodle                   49\n",
       "Chow                         44\n",
       "Pomeranian                   41\n",
       "Samoyed                      38\n",
       "Malamute                     31\n",
       "Cocker Spaniel               29\n",
       "Chesapeake Bay Retriever     29\n",
       "French Bulldog               28\n",
       "Miniature Pinscher           24\n",
       "Eskimo Dog                   22\n",
       "Cardigan                     21\n",
       "German Shepherd              21\n",
       "Beagle                       20\n",
       "Siberian Husky               20\n",
       "Shih-Tzu                     20\n",
       "Name: prediction, dtype: int64"
      ]
     },
     "execution_count": 86,
     "metadata": {},
     "output_type": "execute_result"
    }
   ],
   "source": [
    "# Top 20 dog list\n",
    "wrd_new.prediction.value_counts().head(20)"
   ]
  },
  {
   "cell_type": "code",
   "execution_count": 87,
   "metadata": {
    "scrolled": true
   },
   "outputs": [
    {
     "data": {
      "text/plain": [
       "Text(0.5, 1.0, 'Most Common Dog Breeds')"
      ]
     },
     "execution_count": 87,
     "metadata": {},
     "output_type": "execute_result"
    },
    {
     "data": {
      "image/png": "[encoded data removed]",
      "text/plain": [
       "<Figure size 432x288 with 1 Axes>"
      ]
     },
     "metadata": {
      "needs_background": "light"
     },
     "output_type": "display_data"
    }
   ],
   "source": [
    "# Create a bar plot featuring top 10 common dogs\n",
    "dog_order = wrd_new['prediction'].value_counts().index\n",
    "sb.countplot(data = wrd_new, color= 'r', y = 'prediction', order = dog_order[:10])\n",
    "plt.xlabel('Number of Records')\n",
    "plt.ylabel('Dog Type')\n",
    "plt.title('Most Common Dog Breeds')\n",
    "\n"
   ]
  },
  {
   "cell_type": "code",
   "execution_count": 88,
   "metadata": {},
   "outputs": [
    {
     "data": {
      "text/plain": [
       "Text(0.5, 0, 'proportion')"
      ]
     },
     "execution_count": 88,
     "metadata": {},
     "output_type": "execute_result"
    },
    {
     "data": {
      "image/png": "[encoded data removed]",
      "text/plain": [
       "<Figure size 432x288 with 1 Axes>"
      ]
     },
     "metadata": {
      "needs_background": "light"
     },
     "output_type": "display_data"
    }
   ],
   "source": [
    "# Get order of bars by frequency\n",
    "type_counts = wrd_new['prediction'].value_counts()\n",
    "type_order = wrd_new['prediction'].value_counts().index\n",
    "\n",
    "# Compute largest proportion\n",
    "n_dog = wrd_new.shape[0]\n",
    "max_type_count = type_counts.max()\n",
    "max_prop = max_type_count / n_dog\n",
    "\n",
    "# Establish tick locations and create plot\n",
    "base_color = sb.color_palette()[0]\n",
    "tick_props = np.arange(0, max_prop, 0.02)\n",
    "tick_names = ['{:0.2f}'.format(v) for v in tick_props]\n",
    "\n",
    "\n",
    "base_color = sb.color_palette()[0]\n",
    "sb.countplot(data = wrd_new, y = 'prediction', color = base_color, order = type_order[:10])\n",
    "plt.xticks(tick_props * n_dog, tick_names)\n",
    "plt.xlabel('proportion')\n",
    "\n"
   ]
  },
  {
   "cell_type": "markdown",
   "metadata": {},
   "source": [
    "#### Golden Retriever was the most common dog breeds on We Rate Dogs, accounting for roughly 9% of all posts. The second most common dog type was Labrador Retriever, at around 6%."
   ]
  },
  {
   "cell_type": "markdown",
   "metadata": {},
   "source": [
    "##  Visual 2. Dog ranking by likes and retweets."
   ]
  },
  {
   "cell_type": "code",
   "execution_count": 89,
   "metadata": {
    "scrolled": true
   },
   "outputs": [],
   "source": [
    "# Create a new column for likes+retweets\n",
    "wrd_new['activity'] = wrd_new['favorites'] + wrd_new['retweets']\n",
    "df_activity = wrd_new.filter(['prediction','activity'], axis=1)"
   ]
  },
  {
   "cell_type": "code",
   "execution_count": 90,
   "metadata": {},
   "outputs": [
    {
     "data": {
      "text/html": [
       "<div>\n",
       "<style scoped>\n",
       "    .dataframe tbody tr th:only-of-type {\n",
       "        vertical-align: middle;\n",
       "    }\n",
       "\n",
       "    .dataframe tbody tr th {\n",
       "        vertical-align: top;\n",
       "    }\n",
       "\n",
       "    .dataframe thead th {\n",
       "        text-align: right;\n",
       "    }\n",
       "</style>\n",
       "<table border=\"1\" class=\"dataframe\">\n",
       "  <thead>\n",
       "    <tr style=\"text-align: right;\">\n",
       "      <th></th>\n",
       "      <th>activity</th>\n",
       "    </tr>\n",
       "    <tr>\n",
       "      <th>prediction</th>\n",
       "      <th></th>\n",
       "    </tr>\n",
       "  </thead>\n",
       "  <tbody>\n",
       "    <tr>\n",
       "      <th>Golden Retriever</th>\n",
       "      <td>2284325</td>\n",
       "    </tr>\n",
       "    <tr>\n",
       "      <th>Labrador Retriever</th>\n",
       "      <td>1328190</td>\n",
       "    </tr>\n",
       "    <tr>\n",
       "      <th>Pembroke</th>\n",
       "      <td>1185807</td>\n",
       "    </tr>\n",
       "    <tr>\n",
       "      <th>Chihuahua</th>\n",
       "      <td>907191</td>\n",
       "    </tr>\n",
       "    <tr>\n",
       "      <th>French Bulldog</th>\n",
       "      <td>684674</td>\n",
       "    </tr>\n",
       "    <tr>\n",
       "      <th>Samoyed</th>\n",
       "      <td>566897</td>\n",
       "    </tr>\n",
       "    <tr>\n",
       "      <th>Cocker Spaniel</th>\n",
       "      <td>489126</td>\n",
       "    </tr>\n",
       "    <tr>\n",
       "      <th>Pug</th>\n",
       "      <td>441477</td>\n",
       "    </tr>\n",
       "    <tr>\n",
       "      <th>Chow</th>\n",
       "      <td>401327</td>\n",
       "    </tr>\n",
       "    <tr>\n",
       "      <th>Pomeranian</th>\n",
       "      <td>393963</td>\n",
       "    </tr>\n",
       "  </tbody>\n",
       "</table>\n",
       "</div>"
      ],
      "text/plain": [
       "                    activity\n",
       "prediction                  \n",
       "Golden Retriever     2284325\n",
       "Labrador Retriever   1328190\n",
       "Pembroke             1185807\n",
       "Chihuahua             907191\n",
       "French Bulldog        684674\n",
       "Samoyed               566897\n",
       "Cocker Spaniel        489126\n",
       "Pug                   441477\n",
       "Chow                  401327\n",
       "Pomeranian            393963"
      ]
     },
     "execution_count": 90,
     "metadata": {},
     "output_type": "execute_result"
    }
   ],
   "source": [
    "df_activity = df_activity.groupby('prediction').sum()\n",
    "df_activity = df_activity.sort_values(by='activity', ascending = False)\n",
    "df_activity = df_activity.head(10)\n",
    "df_activity"
   ]
  },
  {
   "cell_type": "code",
   "execution_count": 91,
   "metadata": {},
   "outputs": [
    {
     "data": {
      "image/png": "[encoded data removed]",
      "text/plain": [
       "<Figure size 432x288 with 1 Axes>"
      ]
     },
     "metadata": {
      "needs_background": "light"
     },
     "output_type": "display_data"
    }
   ],
   "source": [
    "# Create bar plot for most popular dogs\n",
    "plt.barh(df_activity.index, df_activity.activity, color = 'r')\n",
    "plt.title('Top 10 Dog by Likes and Retweets', fontsize = 16)\n",
    "plt.gca().invert_yaxis()\n",
    "plt.show();"
   ]
  },
  {
   "cell_type": "markdown",
   "metadata": {},
   "source": [
    "## Visual 3. Does the most top rated dog get the most likes and retweets?"
   ]
  },
  {
   "cell_type": "code",
   "execution_count": 92,
   "metadata": {},
   "outputs": [
    {
     "data": {
      "text/plain": [
       "Text(0.5, 1.0, 'Score vs Activity')"
      ]
     },
     "execution_count": 92,
     "metadata": {},
     "output_type": "execute_result"
    },
    {
     "data": {
      "image/png": "[encoded data removed]",
      "text/plain": [
       "<Figure size 432x288 with 1 Axes>"
      ]
     },
     "metadata": {
      "needs_background": "light"
     },
     "output_type": "display_data"
    }
   ],
   "source": [
    "# Create Scatterplot for score and activity\n",
    "plt.scatter(data = wrd_new, x = 'score', y = 'activity', alpha = 1/8)\n",
    "plt.xlabel('Viewer Score')\n",
    "plt.ylabel('Viewer Likes and Retweets)')\n",
    "plt.title('Score vs Activity', fontsize = 16)"
   ]
  },
  {
   "cell_type": "code",
   "execution_count": 93,
   "metadata": {},
   "outputs": [
    {
     "data": {
      "text/plain": [
       "Text(0.5, 1.0, 'Score vs Activity')"
      ]
     },
     "execution_count": 93,
     "metadata": {},
     "output_type": "execute_result"
    },
    {
     "data": {
      "image/png": "[encoded data removed]",
      "text/plain": [
       "<Figure size 432x288 with 1 Axes>"
      ]
     },
     "metadata": {
      "needs_background": "light"
     },
     "output_type": "display_data"
    }
   ],
   "source": [
    "# Create Regressionplot for score and activity\n",
    "sb.regplot(data = wrd_new, x = 'score', y = 'activity', scatter_kws = {'alpha' : 1/3})\n",
    "plt.xlabel('Viewer Score')\n",
    "plt.ylabel('Viewer Likes and Retweets)')\n",
    "plt.title('Score vs Activity', fontsize = 16)"
   ]
  },
  {
   "cell_type": "code",
   "execution_count": 94,
   "metadata": {},
   "outputs": [
    {
     "data": {
      "text/plain": [
       "Text(0, 0.5, 'Viewer Likes and Retweets)')"
      ]
     },
     "execution_count": 94,
     "metadata": {},
     "output_type": "execute_result"
    },
    {
     "data": {
      "image/png": "[encoded data removed]",
      "text/plain": [
       "<Figure size 432x288 with 2 Axes>"
      ]
     },
     "metadata": {
      "needs_background": "light"
     },
     "output_type": "display_data"
    }
   ],
   "source": [
    "# Create Heatplot for score and activity\n",
    "plt.hist2d(data = wrd_new, x = 'score', y = 'activity', cmin=0.5, cmap='viridis_r',vmin=0, vmax=100)\n",
    "plt.colorbar()\n",
    "plt.xlabel('Viewer Score')\n",
    "plt.ylabel('Viewer Likes and Retweets)')"
   ]
  },
  {
   "cell_type": "markdown",
   "metadata": {},
   "source": [
    "#### Generally, a higher dog score does not asscoicates with higher view activity. However, the most popular posts with viewers all have highest viewer score."
   ]
  },
  {
   "cell_type": "markdown",
   "metadata": {},
   "source": [
    "4.Winner Post of every month by likes and retweets."
   ]
  },
  {
   "cell_type": "code",
   "execution_count": 95,
   "metadata": {
    "scrolled": false
   },
   "outputs": [
    {
     "data": {
      "text/html": [
       "<div>\n",
       "<style scoped>\n",
       "    .dataframe tbody tr th:only-of-type {\n",
       "        vertical-align: middle;\n",
       "    }\n",
       "\n",
       "    .dataframe tbody tr th {\n",
       "        vertical-align: top;\n",
       "    }\n",
       "\n",
       "    .dataframe thead th {\n",
       "        text-align: right;\n",
       "    }\n",
       "</style>\n",
       "<table border=\"1\" class=\"dataframe\">\n",
       "  <thead>\n",
       "    <tr style=\"text-align: right;\">\n",
       "      <th></th>\n",
       "      <th>tweet_id</th>\n",
       "      <th>timestamp</th>\n",
       "      <th>text</th>\n",
       "      <th>expanded_urls</th>\n",
       "      <th>name</th>\n",
       "      <th>prediction</th>\n",
       "      <th>confidence</th>\n",
       "      <th>stage</th>\n",
       "      <th>score</th>\n",
       "      <th>favorites</th>\n",
       "      <th>retweets</th>\n",
       "      <th>activity</th>\n",
       "    </tr>\n",
       "  </thead>\n",
       "  <tbody>\n",
       "    <tr>\n",
       "      <th>1996</th>\n",
       "      <td>667152164079423490</td>\n",
       "      <td>2015-11</td>\n",
       "      <td>This is Pipsy. He is a fluffball. Enjoys traveling the sea &amp;amp; getting tangled in leash. 12/10 I would kill for Pi...</td>\n",
       "      <td>https://twitter.com/dog_rates/status/667152164079423490/photo/1</td>\n",
       "      <td>Pipsy</td>\n",
       "      <td>Toy Poodle</td>\n",
       "      <td>0.535411</td>\n",
       "      <td>NaN</td>\n",
       "      <td>12</td>\n",
       "      <td>45391</td>\n",
       "      <td>15997</td>\n",
       "      <td>61388</td>\n",
       "    </tr>\n",
       "    <tr>\n",
       "      <th>1487</th>\n",
       "      <td>678399652199309312</td>\n",
       "      <td>2015-12</td>\n",
       "      <td>This made my day. 12/10 please enjoy https://t.co/VRTbo3aAcm</td>\n",
       "      <td>https://twitter.com/dog_rates/status/678399652199309312/video/1</td>\n",
       "      <td>None</td>\n",
       "      <td>Bedlington Terrier</td>\n",
       "      <td>0.0150472</td>\n",
       "      <td>NaN</td>\n",
       "      <td>12</td>\n",
       "      <td>78053</td>\n",
       "      <td>31214</td>\n",
       "      <td>109267</td>\n",
       "    </tr>\n",
       "    <tr>\n",
       "      <th>1392</th>\n",
       "      <td>682962037429899265</td>\n",
       "      <td>2016-01</td>\n",
       "      <td>This is Darrel. He just robbed a 7/11 and is in a high speed police chase. Was just spotted by the helicopter 10/10 ...</td>\n",
       "      <td>https://twitter.com/dog_rates/status/682962037429899265/photo/1</td>\n",
       "      <td>Darrel</td>\n",
       "      <td>Chihuahua</td>\n",
       "      <td>0.155207</td>\n",
       "      <td>NaN</td>\n",
       "      <td>6</td>\n",
       "      <td>36528</td>\n",
       "      <td>16422</td>\n",
       "      <td>52950</td>\n",
       "    </tr>\n",
       "    <tr>\n",
       "      <th>1184</th>\n",
       "      <td>698195409219559425</td>\n",
       "      <td>2016-02</td>\n",
       "      <td>Meet Beau &amp;amp; Wilbur. Wilbur stole Beau's bed from him. Wilbur now has so much room for activities. 9/10 for both ...</td>\n",
       "      <td>https://twitter.com/dog_rates/status/698195409219559425/photo/1</td>\n",
       "      <td>Beau</td>\n",
       "      <td>Labrador Retriever</td>\n",
       "      <td>0.64369</td>\n",
       "      <td>NaN</td>\n",
       "      <td>9</td>\n",
       "      <td>16636</td>\n",
       "      <td>5932</td>\n",
       "      <td>22568</td>\n",
       "    </tr>\n",
       "    <tr>\n",
       "      <th>1092</th>\n",
       "      <td>706310011488698368</td>\n",
       "      <td>2016-03</td>\n",
       "      <td>Here's a very sleepy pupper. Thinks it's an airplane. 12/10 would snug for eternity https://t.co/GGmcTIkBbf</td>\n",
       "      <td>https://twitter.com/dog_rates/status/706310011488698368/photo/1,https://twitter.com/dog_rates/status/706310011488698...</td>\n",
       "      <td>None</td>\n",
       "      <td>Pembroke</td>\n",
       "      <td>0.698165</td>\n",
       "      <td>pupper</td>\n",
       "      <td>12</td>\n",
       "      <td>21104</td>\n",
       "      <td>7852</td>\n",
       "      <td>28956</td>\n",
       "    </tr>\n",
       "    <tr>\n",
       "      <th>973</th>\n",
       "      <td>718631497683582976</td>\n",
       "      <td>2016-04</td>\n",
       "      <td>We normally don't rate marshmallows but this one appears to be flawlessly toasted so I'll make an exception. 10/10 h...</td>\n",
       "      <td>https://twitter.com/dog_rates/status/718631497683582976/photo/1</td>\n",
       "      <td>None</td>\n",
       "      <td>Pomeranian</td>\n",
       "      <td>0.993718</td>\n",
       "      <td>NaN</td>\n",
       "      <td>10</td>\n",
       "      <td>18652</td>\n",
       "      <td>7947</td>\n",
       "      <td>26599</td>\n",
       "    </tr>\n",
       "    <tr>\n",
       "      <th>904</th>\n",
       "      <td>733109485275860992</td>\n",
       "      <td>2016-05</td>\n",
       "      <td>Like father (doggo), like son (pupper). Both 12/10 https://t.co/pG2inLaOda</td>\n",
       "      <td>https://twitter.com/dog_rates/status/733109485275860992/photo/1</td>\n",
       "      <td>None</td>\n",
       "      <td>Golden Retriever</td>\n",
       "      <td>0.945523</td>\n",
       "      <td>doggo</td>\n",
       "      <td>12</td>\n",
       "      <td>49755</td>\n",
       "      <td>16703</td>\n",
       "      <td>66458</td>\n",
       "    </tr>\n",
       "    <tr>\n",
       "      <th>838</th>\n",
       "      <td>744234799360020481</td>\n",
       "      <td>2016-06</td>\n",
       "      <td>Here's a doggo realizing you can stand in a pool. 13/10 enlightened af (vid by Tina Conrad) https://t.co/7wE9LTEXC4</td>\n",
       "      <td>https://twitter.com/dog_rates/status/744234799360020481/video/1</td>\n",
       "      <td>None</td>\n",
       "      <td>Labrador Retriever</td>\n",
       "      <td>0.825333</td>\n",
       "      <td>doggo</td>\n",
       "      <td>13</td>\n",
       "      <td>155584</td>\n",
       "      <td>77509</td>\n",
       "      <td>233093</td>\n",
       "    </tr>\n",
       "    <tr>\n",
       "      <th>740</th>\n",
       "      <td>756288534030475264</td>\n",
       "      <td>2016-07</td>\n",
       "      <td>Here's a heartwarming scene of a single father raising his two pups. Downright awe-inspiring af. 12/10 for everyone ...</td>\n",
       "      <td>https://twitter.com/dog_rates/status/756288534030475264/photo/1,https://twitter.com/dog_rates/status/756288534030475...</td>\n",
       "      <td>None</td>\n",
       "      <td>French Bulldog</td>\n",
       "      <td>0.0324922</td>\n",
       "      <td>NaN</td>\n",
       "      <td>12</td>\n",
       "      <td>44053</td>\n",
       "      <td>17743</td>\n",
       "      <td>61796</td>\n",
       "    </tr>\n",
       "    <tr>\n",
       "      <th>656</th>\n",
       "      <td>769940425801170949</td>\n",
       "      <td>2016-08</td>\n",
       "      <td>This is Klein. These pics were taken a month apart. He knows he's a stud now. 12/10 total heartthrob https://t.co/gu...</td>\n",
       "      <td>https://twitter.com/dog_rates/status/769940425801170949/photo/1,https://twitter.com/dog_rates/status/769940425801170...</td>\n",
       "      <td>Klein</td>\n",
       "      <td>Miniature Pinscher</td>\n",
       "      <td>0.796313</td>\n",
       "      <td>NaN</td>\n",
       "      <td>12</td>\n",
       "      <td>31556</td>\n",
       "      <td>9649</td>\n",
       "      <td>41205</td>\n",
       "    </tr>\n",
       "    <tr>\n",
       "      <th>612</th>\n",
       "      <td>776218204058357768</td>\n",
       "      <td>2016-09</td>\n",
       "      <td>Atlas rolled around in some chalk and now he's a magical rainbow floofer. 13/10 please never take a bath https://t.c...</td>\n",
       "      <td>https://twitter.com/dog_rates/status/776218204058357768/photo/1,https://twitter.com/dog_rates/status/776218204058357...</td>\n",
       "      <td>None</td>\n",
       "      <td>Samoyed</td>\n",
       "      <td>0.940326</td>\n",
       "      <td>floofer</td>\n",
       "      <td>13</td>\n",
       "      <td>30167</td>\n",
       "      <td>16036</td>\n",
       "      <td>46203</td>\n",
       "    </tr>\n",
       "    <tr>\n",
       "      <th>569</th>\n",
       "      <td>783334639985389568</td>\n",
       "      <td>2016-10</td>\n",
       "      <td>This is Dave. He's currently in a predicament. Doesn't seem to mind tho. 12/10 someone assist Dave https://t.co/nfpr...</td>\n",
       "      <td>https://twitter.com/dog_rates/status/783334639985389568/photo/1,https://twitter.com/dog_rates/status/783334639985389...</td>\n",
       "      <td>Dave</td>\n",
       "      <td>Cardigan</td>\n",
       "      <td>0.593858</td>\n",
       "      <td>NaN</td>\n",
       "      <td>12</td>\n",
       "      <td>29522</td>\n",
       "      <td>11864</td>\n",
       "      <td>41386</td>\n",
       "    </tr>\n",
       "    <tr>\n",
       "      <th>489</th>\n",
       "      <td>795464331001561088</td>\n",
       "      <td>2016-11</td>\n",
       "      <td>Elder doggo does a splash. Both 13/10 incredible stuff https://t.co/gBUDjdEcqz</td>\n",
       "      <td>https://twitter.com/dog_rates/status/795464331001561088/video/1</td>\n",
       "      <td>None</td>\n",
       "      <td>Golden Retriever</td>\n",
       "      <td>0.193082</td>\n",
       "      <td>doggo</td>\n",
       "      <td>13</td>\n",
       "      <td>50440</td>\n",
       "      <td>24125</td>\n",
       "      <td>74565</td>\n",
       "    </tr>\n",
       "    <tr>\n",
       "      <th>423</th>\n",
       "      <td>807106840509214720</td>\n",
       "      <td>2016-12</td>\n",
       "      <td>This is Stephan. He just wants to help. 13/10 such a good boy https://t.co/DkBYaCAg2d</td>\n",
       "      <td>https://twitter.com/dog_rates/status/807106840509214720/video/1</td>\n",
       "      <td>Stephan</td>\n",
       "      <td>Chihuahua</td>\n",
       "      <td>0.50537</td>\n",
       "      <td>NaN</td>\n",
       "      <td>13</td>\n",
       "      <td>120177</td>\n",
       "      <td>56477</td>\n",
       "      <td>176654</td>\n",
       "    </tr>\n",
       "    <tr>\n",
       "      <th>320</th>\n",
       "      <td>822872901745569793</td>\n",
       "      <td>2017-01</td>\n",
       "      <td>Here's a super supportive puppo participating in the Toronto  #WomensMarch today. 13/10 https://t.co/nTz3FtorBc</td>\n",
       "      <td>https://twitter.com/dog_rates/status/822872901745569793/photo/1</td>\n",
       "      <td>None</td>\n",
       "      <td>Lakeland Terrier</td>\n",
       "      <td>0.196015</td>\n",
       "      <td>puppo</td>\n",
       "      <td>13</td>\n",
       "      <td>132594</td>\n",
       "      <td>43632</td>\n",
       "      <td>176226</td>\n",
       "    </tr>\n",
       "    <tr>\n",
       "      <th>274</th>\n",
       "      <td>830583320585068544</td>\n",
       "      <td>2017-02</td>\n",
       "      <td>This is Lilly. She just parallel barked. Kindly requests a reward now. 13/10 would pet so well https://t.co/SATN4If5H5</td>\n",
       "      <td>https://twitter.com/dog_rates/status/830583320585068544/photo/1,https://twitter.com/dog_rates/status/830583320585068...</td>\n",
       "      <td>Lilly</td>\n",
       "      <td>Labrador Retriever</td>\n",
       "      <td>0.908703</td>\n",
       "      <td>NaN</td>\n",
       "      <td>13</td>\n",
       "      <td>67029</td>\n",
       "      <td>16837</td>\n",
       "      <td>83866</td>\n",
       "    </tr>\n",
       "    <tr>\n",
       "      <th>190</th>\n",
       "      <td>846514051647705089</td>\n",
       "      <td>2017-03</td>\n",
       "      <td>This is Barney. He's an elder doggo. Hitches a ride when he gets tired. Waves goodbye before he leaves. 13/10 please...</td>\n",
       "      <td>https://twitter.com/dog_rates/status/846514051647705089/photo/1,https://twitter.com/dog_rates/status/846514051647705...</td>\n",
       "      <td>Barney</td>\n",
       "      <td>Golden Retriever</td>\n",
       "      <td>0.650003</td>\n",
       "      <td>doggo</td>\n",
       "      <td>13</td>\n",
       "      <td>44031</td>\n",
       "      <td>11360</td>\n",
       "      <td>55391</td>\n",
       "    </tr>\n",
       "    <tr>\n",
       "      <th>151</th>\n",
       "      <td>855851453814013952</td>\n",
       "      <td>2017-04</td>\n",
       "      <td>Here's a puppo participating in the #ScienceMarch. Cleverly disguising her own doggo agenda. 13/10 would keep the pl...</td>\n",
       "      <td>https://twitter.com/dog_rates/status/855851453814013952/photo/1</td>\n",
       "      <td>None</td>\n",
       "      <td>Flat-Coated Retriever</td>\n",
       "      <td>0.321676</td>\n",
       "      <td>doggo</td>\n",
       "      <td>13</td>\n",
       "      <td>44287</td>\n",
       "      <td>17296</td>\n",
       "      <td>61583</td>\n",
       "    </tr>\n",
       "    <tr>\n",
       "      <th>110</th>\n",
       "      <td>866450705531457537</td>\n",
       "      <td>2017-05</td>\n",
       "      <td>This is Jamesy. He gives a kiss to every other pupper he sees on his walk. 13/10 such passion, much tender https://t...</td>\n",
       "      <td>https://twitter.com/dog_rates/status/866450705531457537/photo/1,https://twitter.com/dog_rates/status/866450705531457...</td>\n",
       "      <td>Jamesy</td>\n",
       "      <td>French Bulldog</td>\n",
       "      <td>0.905334</td>\n",
       "      <td>pupper</td>\n",
       "      <td>13</td>\n",
       "      <td>116051</td>\n",
       "      <td>32825</td>\n",
       "      <td>148876</td>\n",
       "    </tr>\n",
       "    <tr>\n",
       "      <th>59</th>\n",
       "      <td>879415818425184262</td>\n",
       "      <td>2017-06</td>\n",
       "      <td>This is Duddles. He did an attempt. 13/10 someone help him (vid by Georgia Felici) https://t.co/UDT7ZkcTgY</td>\n",
       "      <td>https://twitter.com/dog_rates/status/879415818425184262/video/1</td>\n",
       "      <td>Duddles</td>\n",
       "      <td>English Springer</td>\n",
       "      <td>0.383404</td>\n",
       "      <td>NaN</td>\n",
       "      <td>13</td>\n",
       "      <td>98914</td>\n",
       "      <td>40477</td>\n",
       "      <td>139391</td>\n",
       "    </tr>\n",
       "    <tr>\n",
       "      <th>34</th>\n",
       "      <td>884925521741709313</td>\n",
       "      <td>2017-07</td>\n",
       "      <td>This is Earl. He found a hat. Nervous about what you think of it. 12/10 it's delightful, Earl https://t.co/MYJvdlNRVa</td>\n",
       "      <td>https://twitter.com/dog_rates/status/884925521741709313/photo/1</td>\n",
       "      <td>Earl</td>\n",
       "      <td>Italian Greyhound</td>\n",
       "      <td>0.259916</td>\n",
       "      <td>NaN</td>\n",
       "      <td>12</td>\n",
       "      <td>72004</td>\n",
       "      <td>16438</td>\n",
       "      <td>88442</td>\n",
       "    </tr>\n",
       "    <tr>\n",
       "      <th>1</th>\n",
       "      <td>892177421306343426</td>\n",
       "      <td>2017-08</td>\n",
       "      <td>This is Tilly. She's just checking pup on you. Hopes you're doing ok. If not, she's available for pats, snugs, boops...</td>\n",
       "      <td>https://twitter.com/dog_rates/status/892177421306343426/photo/1</td>\n",
       "      <td>Tilly</td>\n",
       "      <td>Chihuahua</td>\n",
       "      <td>0.323581</td>\n",
       "      <td>NaN</td>\n",
       "      <td>13</td>\n",
       "      <td>31109</td>\n",
       "      <td>5678</td>\n",
       "      <td>36787</td>\n",
       "    </tr>\n",
       "  </tbody>\n",
       "</table>\n",
       "</div>"
      ],
      "text/plain": [
       "                tweet_id timestamp  \\\n",
       "1996  667152164079423490   2015-11   \n",
       "1487  678399652199309312   2015-12   \n",
       "1392  682962037429899265   2016-01   \n",
       "1184  698195409219559425   2016-02   \n",
       "1092  706310011488698368   2016-03   \n",
       "973   718631497683582976   2016-04   \n",
       "904   733109485275860992   2016-05   \n",
       "838   744234799360020481   2016-06   \n",
       "740   756288534030475264   2016-07   \n",
       "656   769940425801170949   2016-08   \n",
       "612   776218204058357768   2016-09   \n",
       "569   783334639985389568   2016-10   \n",
       "489   795464331001561088   2016-11   \n",
       "423   807106840509214720   2016-12   \n",
       "320   822872901745569793   2017-01   \n",
       "274   830583320585068544   2017-02   \n",
       "190   846514051647705089   2017-03   \n",
       "151   855851453814013952   2017-04   \n",
       "110   866450705531457537   2017-05   \n",
       "59    879415818425184262   2017-06   \n",
       "34    884925521741709313   2017-07   \n",
       "1     892177421306343426   2017-08   \n",
       "\n",
       "                                                                                                                         text  \\\n",
       "1996  This is Pipsy. He is a fluffball. Enjoys traveling the sea &amp; getting tangled in leash. 12/10 I would kill for Pi...   \n",
       "1487                                                             This made my day. 12/10 please enjoy https://t.co/VRTbo3aAcm   \n",
       "1392  This is Darrel. He just robbed a 7/11 and is in a high speed police chase. Was just spotted by the helicopter 10/10 ...   \n",
       "1184  Meet Beau &amp; Wilbur. Wilbur stole Beau's bed from him. Wilbur now has so much room for activities. 9/10 for both ...   \n",
       "1092              Here's a very sleepy pupper. Thinks it's an airplane. 12/10 would snug for eternity https://t.co/GGmcTIkBbf   \n",
       "973   We normally don't rate marshmallows but this one appears to be flawlessly toasted so I'll make an exception. 10/10 h...   \n",
       "904                                                Like father (doggo), like son (pupper). Both 12/10 https://t.co/pG2inLaOda   \n",
       "838       Here's a doggo realizing you can stand in a pool. 13/10 enlightened af (vid by Tina Conrad) https://t.co/7wE9LTEXC4   \n",
       "740   Here's a heartwarming scene of a single father raising his two pups. Downright awe-inspiring af. 12/10 for everyone ...   \n",
       "656   This is Klein. These pics were taken a month apart. He knows he's a stud now. 12/10 total heartthrob https://t.co/gu...   \n",
       "612   Atlas rolled around in some chalk and now he's a magical rainbow floofer. 13/10 please never take a bath https://t.c...   \n",
       "569   This is Dave. He's currently in a predicament. Doesn't seem to mind tho. 12/10 someone assist Dave https://t.co/nfpr...   \n",
       "489                                            Elder doggo does a splash. Both 13/10 incredible stuff https://t.co/gBUDjdEcqz   \n",
       "423                                     This is Stephan. He just wants to help. 13/10 such a good boy https://t.co/DkBYaCAg2d   \n",
       "320           Here's a super supportive puppo participating in the Toronto  #WomensMarch today. 13/10 https://t.co/nTz3FtorBc   \n",
       "274    This is Lilly. She just parallel barked. Kindly requests a reward now. 13/10 would pet so well https://t.co/SATN4If5H5   \n",
       "190   This is Barney. He's an elder doggo. Hitches a ride when he gets tired. Waves goodbye before he leaves. 13/10 please...   \n",
       "151   Here's a puppo participating in the #ScienceMarch. Cleverly disguising her own doggo agenda. 13/10 would keep the pl...   \n",
       "110   This is Jamesy. He gives a kiss to every other pupper he sees on his walk. 13/10 such passion, much tender https://t...   \n",
       "59                 This is Duddles. He did an attempt. 13/10 someone help him (vid by Georgia Felici) https://t.co/UDT7ZkcTgY   \n",
       "34      This is Earl. He found a hat. Nervous about what you think of it. 12/10 it's delightful, Earl https://t.co/MYJvdlNRVa   \n",
       "1     This is Tilly. She's just checking pup on you. Hopes you're doing ok. If not, she's available for pats, snugs, boops...   \n",
       "\n",
       "                                                                                                                expanded_urls  \\\n",
       "1996                                                          https://twitter.com/dog_rates/status/667152164079423490/photo/1   \n",
       "1487                                                          https://twitter.com/dog_rates/status/678399652199309312/video/1   \n",
       "1392                                                          https://twitter.com/dog_rates/status/682962037429899265/photo/1   \n",
       "1184                                                          https://twitter.com/dog_rates/status/698195409219559425/photo/1   \n",
       "1092  https://twitter.com/dog_rates/status/706310011488698368/photo/1,https://twitter.com/dog_rates/status/706310011488698...   \n",
       "973                                                           https://twitter.com/dog_rates/status/718631497683582976/photo/1   \n",
       "904                                                           https://twitter.com/dog_rates/status/733109485275860992/photo/1   \n",
       "838                                                           https://twitter.com/dog_rates/status/744234799360020481/video/1   \n",
       "740   https://twitter.com/dog_rates/status/756288534030475264/photo/1,https://twitter.com/dog_rates/status/756288534030475...   \n",
       "656   https://twitter.com/dog_rates/status/769940425801170949/photo/1,https://twitter.com/dog_rates/status/769940425801170...   \n",
       "612   https://twitter.com/dog_rates/status/776218204058357768/photo/1,https://twitter.com/dog_rates/status/776218204058357...   \n",
       "569   https://twitter.com/dog_rates/status/783334639985389568/photo/1,https://twitter.com/dog_rates/status/783334639985389...   \n",
       "489                                                           https://twitter.com/dog_rates/status/795464331001561088/video/1   \n",
       "423                                                           https://twitter.com/dog_rates/status/807106840509214720/video/1   \n",
       "320                                                           https://twitter.com/dog_rates/status/822872901745569793/photo/1   \n",
       "274   https://twitter.com/dog_rates/status/830583320585068544/photo/1,https://twitter.com/dog_rates/status/830583320585068...   \n",
       "190   https://twitter.com/dog_rates/status/846514051647705089/photo/1,https://twitter.com/dog_rates/status/846514051647705...   \n",
       "151                                                           https://twitter.com/dog_rates/status/855851453814013952/photo/1   \n",
       "110   https://twitter.com/dog_rates/status/866450705531457537/photo/1,https://twitter.com/dog_rates/status/866450705531457...   \n",
       "59                                                            https://twitter.com/dog_rates/status/879415818425184262/video/1   \n",
       "34                                                            https://twitter.com/dog_rates/status/884925521741709313/photo/1   \n",
       "1                                                             https://twitter.com/dog_rates/status/892177421306343426/photo/1   \n",
       "\n",
       "         name             prediction confidence    stage  score  favorites  \\\n",
       "1996    Pipsy             Toy Poodle   0.535411      NaN     12      45391   \n",
       "1487     None     Bedlington Terrier  0.0150472      NaN     12      78053   \n",
       "1392   Darrel              Chihuahua   0.155207      NaN      6      36528   \n",
       "1184     Beau     Labrador Retriever    0.64369      NaN      9      16636   \n",
       "1092     None               Pembroke   0.698165   pupper     12      21104   \n",
       "973      None             Pomeranian   0.993718      NaN     10      18652   \n",
       "904      None       Golden Retriever   0.945523    doggo     12      49755   \n",
       "838      None     Labrador Retriever   0.825333    doggo     13     155584   \n",
       "740      None         French Bulldog  0.0324922      NaN     12      44053   \n",
       "656     Klein     Miniature Pinscher   0.796313      NaN     12      31556   \n",
       "612      None                Samoyed   0.940326  floofer     13      30167   \n",
       "569      Dave               Cardigan   0.593858      NaN     12      29522   \n",
       "489      None       Golden Retriever   0.193082    doggo     13      50440   \n",
       "423   Stephan              Chihuahua    0.50537      NaN     13     120177   \n",
       "320      None       Lakeland Terrier   0.196015    puppo     13     132594   \n",
       "274     Lilly     Labrador Retriever   0.908703      NaN     13      67029   \n",
       "190    Barney       Golden Retriever   0.650003    doggo     13      44031   \n",
       "151      None  Flat-Coated Retriever   0.321676    doggo     13      44287   \n",
       "110    Jamesy         French Bulldog   0.905334   pupper     13     116051   \n",
       "59    Duddles       English Springer   0.383404      NaN     13      98914   \n",
       "34       Earl      Italian Greyhound   0.259916      NaN     12      72004   \n",
       "1       Tilly              Chihuahua   0.323581      NaN     13      31109   \n",
       "\n",
       "      retweets  activity  \n",
       "1996     15997     61388  \n",
       "1487     31214    109267  \n",
       "1392     16422     52950  \n",
       "1184      5932     22568  \n",
       "1092      7852     28956  \n",
       "973       7947     26599  \n",
       "904      16703     66458  \n",
       "838      77509    233093  \n",
       "740      17743     61796  \n",
       "656       9649     41205  \n",
       "612      16036     46203  \n",
       "569      11864     41386  \n",
       "489      24125     74565  \n",
       "423      56477    176654  \n",
       "320      43632    176226  \n",
       "274      16837     83866  \n",
       "190      11360     55391  \n",
       "151      17296     61583  \n",
       "110      32825    148876  \n",
       "59       40477    139391  \n",
       "34       16438     88442  \n",
       "1         5678     36787  "
      ]
     },
     "execution_count": 95,
     "metadata": {},
     "output_type": "execute_result"
    }
   ],
   "source": [
    "# Create a list for the most popular post of every month by likes+retweets\n",
    "winner = wrd_new.groupby('timestamp')['activity'].max().tolist()\n",
    "winner_list = wrd_new[wrd_new['activity'].isin(winner)]\n",
    "winner_list = winner_list.sort_values(by='timestamp', ascending = True)\n",
    "winner_list"
   ]
  },
  {
   "cell_type": "markdown",
   "metadata": {},
   "source": [
    "#### This will be useful for the We Rate Dog blog post."
   ]
  },
  {
   "cell_type": "markdown",
   "metadata": {},
   "source": [
    "Reference:\n",
    "https://stackoverflow.com/questions/36938905/read-text-file-and-dump-to-json-object\n",
    "<br>\n",
    "https://code.i-harness.com/en/q/19c9fbc\n",
    "<br>\n",
    "https://stackoverflow.com/questions/1549641/how-to-capitalize-the-first-letter-of-each-word-in-a-string\n",
    "<br>\n",
    "https://stackoverflow.com/questions/16309524/how-to-replace-the-colons-in-this-text-using-python\n",
    "<br>\n",
    "https://stackoverflow.com/questions/29902714/print-very-long-string-completely-in-pandas-dataframe\n",
    "<br>\n",
    "https://stackoverflow.com/questions/28679930/how-to-drop-rows-from-pandas-data-frame-that-contains-a-particular-string-in-a-p"
   ]
  }
 ],
 "metadata": {
  "kernelspec": {
   "display_name": "Python 3",
   "language": "python",
   "name": "python3"
  },
  "language_info": {
   "codemirror_mode": {
    "name": "ipython",
    "version": 3
   },
   "file_extension": ".py",
   "mimetype": "text/x-python",
   "name": "python",
   "nbconvert_exporter": "python",
   "pygments_lexer": "ipython3",
   "version": "3.7.7"
  }
 },
 "nbformat": 4,
 "nbformat_minor": 4
}
